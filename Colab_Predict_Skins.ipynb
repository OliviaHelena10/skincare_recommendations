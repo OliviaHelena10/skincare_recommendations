{
  "nbformat": 4,
  "nbformat_minor": 0,
  "metadata": {
    "colab": {
      "provenance": [],
      "gpuType": "T4",
      "include_colab_link": true
    },
    "kernelspec": {
      "name": "python3",
      "display_name": "Python 3"
    },
    "language_info": {
      "name": "python"
    },
    "accelerator": "GPU"
  },
  "cells": [
    {
      "cell_type": "markdown",
      "metadata": {
        "id": "view-in-github",
        "colab_type": "text"
      },
      "source": [
        "<a href=\"https://colab.research.google.com/github/OliviaHelena10/skincare_recommendations/blob/main/Colab_Predict_Skins.ipynb\" target=\"_parent\"><img src=\"https://colab.research.google.com/assets/colab-badge.svg\" alt=\"Open In Colab\"/></a>"
      ]
    },
    {
      "cell_type": "markdown",
      "source": [
        "# Importing Libraries"
      ],
      "metadata": {
        "id": "sBLy4WFzsO4c"
      }
    },
    {
      "cell_type": "code",
      "execution_count": 2,
      "metadata": {
        "id": "J3i5tQF_rtOb"
      },
      "outputs": [],
      "source": [
        "# Basic DS libraries\n",
        "import pandas as pd\n",
        "import numpy as np\n",
        "\n",
        "# Will help to list our files\n",
        "from glob import glob\n",
        "import pathlib\n",
        "import PIL\n",
        "\n",
        "# Will help us with the images\n",
        "import cv2\n",
        "import os\n",
        "import tensorflow as tf\n",
        "import matplotlib.pyplot as plt"
      ]
    },
    {
      "cell_type": "markdown",
      "source": [
        "# Organising our Data"
      ],
      "metadata": {
        "id": "2XAB26IysO1v"
      }
    },
    {
      "cell_type": "markdown",
      "source": [
        " Getting our data path:"
      ],
      "metadata": {
        "id": "sZjsn0lvDkGM"
      }
    },
    {
      "cell_type": "code",
      "source": [
        "from google.colab import drive\n",
        "drive.mount('/content/drive')"
      ],
      "metadata": {
        "colab": {
          "base_uri": "https://localhost:8080/"
        },
        "id": "9shTcMdqQSUy",
        "outputId": "acb6ca56-ebf8-459d-9594-05219fec9d19"
      },
      "execution_count": 8,
      "outputs": [
        {
          "output_type": "stream",
          "name": "stdout",
          "text": [
            "Mounted at /content/drive\n"
          ]
        }
      ]
    },
    {
      "cell_type": "code",
      "source": [
        "# Here we are accessing our data from google drive\n",
        "path_train = '/content/drive/MyDrive/skin_search/train'\n",
        "path_test = '/content/drive/MyDrive/skin_search/test'\n",
        "path_validation = '/content/drive/MyDrive/skin_search/valid'"
      ],
      "metadata": {
        "id": "Ka95csUGsX9-"
      },
      "execution_count": 3,
      "outputs": []
    },
    {
      "cell_type": "markdown",
      "source": [
        "Saving the paths in variables:"
      ],
      "metadata": {
        "id": "BZmIXKBLDoDi"
      }
    },
    {
      "cell_type": "code",
      "source": [
        "train_dir = pathlib.Path(path_train)\n",
        "test_dir = pathlib.Path(path_test)\n",
        "validation_dir = pathlib.Path(path_validation)"
      ],
      "metadata": {
        "id": "jB4qZW3TDnSV"
      },
      "execution_count": 4,
      "outputs": []
    },
    {
      "cell_type": "markdown",
      "source": [
        "Checking the categories:"
      ],
      "metadata": {
        "id": "qHOxwRa3Dv5T"
      }
    },
    {
      "cell_type": "code",
      "source": [
        "path = '/content/drive/MyDrive/skin_search/train'\n",
        "data_dir = pathlib.Path(path)\n",
        "\n",
        "\n",
        "# Iterating through the train subfolders and getting their names just in case\n",
        "train_subfolders = [f.name for f in data_dir.iterdir() if f.is_dir()]\n",
        "print(f'train: {train_subfolders}')"
      ],
      "metadata": {
        "colab": {
          "base_uri": "https://localhost:8080/"
        },
        "id": "4QbHToRGsfOj",
        "outputId": "2e7501cc-a52c-4a33-f477-0f527790f629"
      },
      "execution_count": 5,
      "outputs": [
        {
          "output_type": "stream",
          "name": "stdout",
          "text": [
            "train: ['normal', 'oily', 'dry']\n"
          ]
        }
      ]
    },
    {
      "cell_type": "code",
      "source": [
        "for subfolder in train_subfolders:\n",
        "  path =  train_dir / subfolder\n",
        "  images = list(path.glob('*.jpg'))\n",
        "  print(f'{subfolder}: {len(images)} imagens')"
      ],
      "metadata": {
        "colab": {
          "base_uri": "https://localhost:8080/"
        },
        "id": "7foBzShpIPoZ",
        "outputId": "0168554a-7ea9-472c-a815-7bcfa0b6af66"
      },
      "execution_count": 6,
      "outputs": [
        {
          "output_type": "stream",
          "name": "stdout",
          "text": [
            "normal: 1114 imagens\n",
            "oily: 1010 imagens\n",
            "dry: 662 imagens\n"
          ]
        }
      ]
    },
    {
      "cell_type": "code",
      "source": [
        "# Checking our Datas\n",
        "\n",
        "for subfolder in train_subfolders:                # iterates through the subfolders: dry, normal and oily\n",
        "  path =  train_dir / subfolder                   # gets the path of each image\n",
        "  images = list(path.glob('*.jpg'))               # gets the images of each subfolder\n",
        "  print(f'\\n{subfolder}: {len(images)} imagens')  # prints the number of data in each subfolder\n",
        "\n",
        "  if images:\n",
        "    img = PIL.Image.open(str(images[0]))          # opens the first image in the list\n",
        "    img_array = np.array(img)                     # converts the image to a numpy array\n",
        "    print(f'dimensões da primeira imagem em {subfolder} : {img_array.shape}\\n') # gets our image dimensions\n",
        "  print(\"------------------------------------------------------\")"
      ],
      "metadata": {
        "colab": {
          "base_uri": "https://localhost:8080/"
        },
        "id": "7uLKteWgsic0",
        "outputId": "be5cea55-e62c-4635-f633-e40c57ad3243"
      },
      "execution_count": 7,
      "outputs": [
        {
          "output_type": "stream",
          "name": "stdout",
          "text": [
            "\n",
            "normal: 1114 imagens\n",
            "dimensões da primeira imagem em normal : (640, 640, 3)\n",
            "\n",
            "------------------------------------------------------\n",
            "\n",
            "oily: 1010 imagens\n",
            "dimensões da primeira imagem em oily : (640, 640, 3)\n",
            "\n",
            "------------------------------------------------------\n",
            "\n",
            "dry: 662 imagens\n",
            "dimensões da primeira imagem em dry : (640, 640, 3)\n",
            "\n",
            "------------------------------------------------------\n"
          ]
        }
      ]
    },
    {
      "cell_type": "markdown",
      "source": [
        "# Image preprocessing for model training"
      ],
      "metadata": {
        "id": "n-wIEtCKsqpk"
      }
    },
    {
      "cell_type": "markdown",
      "source": [
        "Defining Variables:"
      ],
      "metadata": {
        "id": "ebOipMwILfD6"
      }
    },
    {
      "cell_type": "code",
      "source": [
        "# We must maintain tha same proportions of the images width and height\n",
        "image_width = 640\n",
        "image_height = 640\n",
        "\n",
        "\n",
        "# Images always have 3 color dimensions RGB pr BGR        ( R for Red  -  G for Green  -  B for Blue )\n",
        "image_color_channel = 3\n",
        "image_color_channel_size = 255\n",
        "image_size = (image_width, image_height)\n",
        "img_shape = image_size + (image_color_channel,)\n",
        "\n",
        "batch_size = 16            # number of features that I will bring at a time from my dataset\n",
        "epocas = 32                 # number of times that I will iterate trought my dataset\n",
        "learning_rate = 0.0001\n",
        "\n",
        "class_names = ['dry', 'normal', 'oily']"
      ],
      "metadata": {
        "id": "V8sXYGcSsrpA"
      },
      "execution_count": 8,
      "outputs": []
    },
    {
      "cell_type": "markdown",
      "source": [
        "Separating train, test and validation data"
      ],
      "metadata": {
        "id": "zIBuTogDLjKn"
      }
    },
    {
      "cell_type": "code",
      "source": [
        "train = tf.keras.utils.image_dataset_from_directory(\n",
        "    train_dir,\n",
        "    seed = 568,         # this will get random weights for the transformations\n",
        "    image_size = (image_height,image_width),\n",
        "    batch_size = batch_size\n",
        ")"
      ],
      "metadata": {
        "colab": {
          "base_uri": "https://localhost:8080/"
        },
        "id": "qOH_6U4kst3V",
        "outputId": "eceef935-9628-4fd9-9234-0c7464257f09"
      },
      "execution_count": 9,
      "outputs": [
        {
          "output_type": "stream",
          "name": "stdout",
          "text": [
            "Found 2787 files belonging to 3 classes.\n"
          ]
        }
      ]
    },
    {
      "cell_type": "code",
      "source": [
        "test = tf.keras.utils.image_dataset_from_directory(\n",
        "    test_dir,\n",
        "    seed = 568,         # this will get random weights for the transformations\n",
        "    image_size = (image_height,image_width),\n",
        "    batch_size = batch_size\n",
        ")\n"
      ],
      "metadata": {
        "colab": {
          "base_uri": "https://localhost:8080/"
        },
        "id": "HVCSehNiswVx",
        "outputId": "49a0c483-5114-4227-b66f-6f50e3e0e506"
      },
      "execution_count": 10,
      "outputs": [
        {
          "output_type": "stream",
          "name": "stdout",
          "text": [
            "Found 134 files belonging to 3 classes.\n"
          ]
        }
      ]
    },
    {
      "cell_type": "code",
      "source": [
        "validation = tf.keras.utils.image_dataset_from_directory(\n",
        "    validation_dir,\n",
        "    seed = 568,         # this will get random weights for the transformations\n",
        "    image_size = (image_height,image_width),\n",
        "    batch_size = batch_size\n",
        ")"
      ],
      "metadata": {
        "colab": {
          "base_uri": "https://localhost:8080/"
        },
        "id": "selY2YXEsyR6",
        "outputId": "9d3078d4-5367-4183-bff0-8bb4d3d3997a"
      },
      "execution_count": 11,
      "outputs": [
        {
          "output_type": "stream",
          "name": "stdout",
          "text": [
            "Found 262 files belonging to 3 classes.\n"
          ]
        }
      ]
    },
    {
      "cell_type": "markdown",
      "source": [
        "# Creating a Machine Learning Supervised Learning model - type Image Classification"
      ],
      "metadata": {
        "id": "cBNzudegtPo0"
      }
    },
    {
      "cell_type": "code",
      "source": [
        "tf.random.set_seed(245)"
      ],
      "metadata": {
        "id": "3AW1RMd-Ytn-"
      },
      "execution_count": 68,
      "outputs": []
    },
    {
      "cell_type": "code",
      "source": [
        "model = tf.keras.models.Sequential([\n",
        "\n",
        "    # Input:\n",
        "    tf.keras.layers.Input(shape=(640, 640,  3)),                                # This are the dimensions from our input data\n",
        "\n",
        "    # Reescaling Layers\n",
        "    tf.keras.layers.Rescaling(1./255),                                          # Normalizing our data by reescaling the pixels\n",
        "\n",
        "    # Padding Layers\n",
        "    tf.keras.layers.Flatten(),                                                  # Flattening our data to 1 dimension\n",
        "\n",
        "    # Hidden Layers:\n",
        "    tf.keras.layers.Dense(128,activation=tf.nn.relu),                           # Dense Layer will do the \"math\" for getting our results\n",
        "\n",
        "    # Output:\n",
        "    tf.keras.layers.Dense(3, activation=tf.nn.softmax)                          # Softmax activation is used for cathegorical data and 3 are the dimensions in our dataset\n",
        "])"
      ],
      "metadata": {
        "id": "CWmC_qe4tK6A"
      },
      "execution_count": 69,
      "outputs": []
    },
    {
      "cell_type": "code",
      "source": [
        "model.summary()"
      ],
      "metadata": {
        "colab": {
          "base_uri": "https://localhost:8080/",
          "height": 267
        },
        "id": "EhvJj7OqtTQG",
        "outputId": "efef2aff-11b6-41af-cdea-0a6ab0eb2fca"
      },
      "execution_count": 70,
      "outputs": [
        {
          "output_type": "display_data",
          "data": {
            "text/plain": [
              "\u001b[1mModel: \"sequential_10\"\u001b[0m\n"
            ],
            "text/html": [
              "<pre style=\"white-space:pre;overflow-x:auto;line-height:normal;font-family:Menlo,'DejaVu Sans Mono',consolas,'Courier New',monospace\"><span style=\"font-weight: bold\">Model: \"sequential_10\"</span>\n",
              "</pre>\n"
            ]
          },
          "metadata": {}
        },
        {
          "output_type": "display_data",
          "data": {
            "text/plain": [
              "┏━━━━━━━━━━━━━━━━━━━━━━━━━━━━━━━━━━━━━━┳━━━━━━━━━━━━━━━━━━━━━━━━━━━━━┳━━━━━━━━━━━━━━━━━┓\n",
              "┃\u001b[1m \u001b[0m\u001b[1mLayer (type)                        \u001b[0m\u001b[1m \u001b[0m┃\u001b[1m \u001b[0m\u001b[1mOutput Shape               \u001b[0m\u001b[1m \u001b[0m┃\u001b[1m \u001b[0m\u001b[1m        Param #\u001b[0m\u001b[1m \u001b[0m┃\n",
              "┡━━━━━━━━━━━━━━━━━━━━━━━━━━━━━━━━━━━━━━╇━━━━━━━━━━━━━━━━━━━━━━━━━━━━━╇━━━━━━━━━━━━━━━━━┩\n",
              "│ rescaling_10 (\u001b[38;5;33mRescaling\u001b[0m)             │ (\u001b[38;5;45mNone\u001b[0m, \u001b[38;5;34m640\u001b[0m, \u001b[38;5;34m640\u001b[0m, \u001b[38;5;34m3\u001b[0m)         │               \u001b[38;5;34m0\u001b[0m │\n",
              "├──────────────────────────────────────┼─────────────────────────────┼─────────────────┤\n",
              "│ flatten_10 (\u001b[38;5;33mFlatten\u001b[0m)                 │ (\u001b[38;5;45mNone\u001b[0m, \u001b[38;5;34m1228800\u001b[0m)             │               \u001b[38;5;34m0\u001b[0m │\n",
              "├──────────────────────────────────────┼─────────────────────────────┼─────────────────┤\n",
              "│ dense_20 (\u001b[38;5;33mDense\u001b[0m)                     │ (\u001b[38;5;45mNone\u001b[0m, \u001b[38;5;34m128\u001b[0m)                 │     \u001b[38;5;34m157,286,528\u001b[0m │\n",
              "├──────────────────────────────────────┼─────────────────────────────┼─────────────────┤\n",
              "│ dense_21 (\u001b[38;5;33mDense\u001b[0m)                     │ (\u001b[38;5;45mNone\u001b[0m, \u001b[38;5;34m3\u001b[0m)                   │             \u001b[38;5;34m387\u001b[0m │\n",
              "└──────────────────────────────────────┴─────────────────────────────┴─────────────────┘\n"
            ],
            "text/html": [
              "<pre style=\"white-space:pre;overflow-x:auto;line-height:normal;font-family:Menlo,'DejaVu Sans Mono',consolas,'Courier New',monospace\">┏━━━━━━━━━━━━━━━━━━━━━━━━━━━━━━━━━━━━━━┳━━━━━━━━━━━━━━━━━━━━━━━━━━━━━┳━━━━━━━━━━━━━━━━━┓\n",
              "┃<span style=\"font-weight: bold\"> Layer (type)                         </span>┃<span style=\"font-weight: bold\"> Output Shape                </span>┃<span style=\"font-weight: bold\">         Param # </span>┃\n",
              "┡━━━━━━━━━━━━━━━━━━━━━━━━━━━━━━━━━━━━━━╇━━━━━━━━━━━━━━━━━━━━━━━━━━━━━╇━━━━━━━━━━━━━━━━━┩\n",
              "│ rescaling_10 (<span style=\"color: #0087ff; text-decoration-color: #0087ff\">Rescaling</span>)             │ (<span style=\"color: #00d7ff; text-decoration-color: #00d7ff\">None</span>, <span style=\"color: #00af00; text-decoration-color: #00af00\">640</span>, <span style=\"color: #00af00; text-decoration-color: #00af00\">640</span>, <span style=\"color: #00af00; text-decoration-color: #00af00\">3</span>)         │               <span style=\"color: #00af00; text-decoration-color: #00af00\">0</span> │\n",
              "├──────────────────────────────────────┼─────────────────────────────┼─────────────────┤\n",
              "│ flatten_10 (<span style=\"color: #0087ff; text-decoration-color: #0087ff\">Flatten</span>)                 │ (<span style=\"color: #00d7ff; text-decoration-color: #00d7ff\">None</span>, <span style=\"color: #00af00; text-decoration-color: #00af00\">1228800</span>)             │               <span style=\"color: #00af00; text-decoration-color: #00af00\">0</span> │\n",
              "├──────────────────────────────────────┼─────────────────────────────┼─────────────────┤\n",
              "│ dense_20 (<span style=\"color: #0087ff; text-decoration-color: #0087ff\">Dense</span>)                     │ (<span style=\"color: #00d7ff; text-decoration-color: #00d7ff\">None</span>, <span style=\"color: #00af00; text-decoration-color: #00af00\">128</span>)                 │     <span style=\"color: #00af00; text-decoration-color: #00af00\">157,286,528</span> │\n",
              "├──────────────────────────────────────┼─────────────────────────────┼─────────────────┤\n",
              "│ dense_21 (<span style=\"color: #0087ff; text-decoration-color: #0087ff\">Dense</span>)                     │ (<span style=\"color: #00d7ff; text-decoration-color: #00d7ff\">None</span>, <span style=\"color: #00af00; text-decoration-color: #00af00\">3</span>)                   │             <span style=\"color: #00af00; text-decoration-color: #00af00\">387</span> │\n",
              "└──────────────────────────────────────┴─────────────────────────────┴─────────────────┘\n",
              "</pre>\n"
            ]
          },
          "metadata": {}
        },
        {
          "output_type": "display_data",
          "data": {
            "text/plain": [
              "\u001b[1m Total params: \u001b[0m\u001b[38;5;34m157,286,915\u001b[0m (600.00 MB)\n"
            ],
            "text/html": [
              "<pre style=\"white-space:pre;overflow-x:auto;line-height:normal;font-family:Menlo,'DejaVu Sans Mono',consolas,'Courier New',monospace\"><span style=\"font-weight: bold\"> Total params: </span><span style=\"color: #00af00; text-decoration-color: #00af00\">157,286,915</span> (600.00 MB)\n",
              "</pre>\n"
            ]
          },
          "metadata": {}
        },
        {
          "output_type": "display_data",
          "data": {
            "text/plain": [
              "\u001b[1m Trainable params: \u001b[0m\u001b[38;5;34m157,286,915\u001b[0m (600.00 MB)\n"
            ],
            "text/html": [
              "<pre style=\"white-space:pre;overflow-x:auto;line-height:normal;font-family:Menlo,'DejaVu Sans Mono',consolas,'Courier New',monospace\"><span style=\"font-weight: bold\"> Trainable params: </span><span style=\"color: #00af00; text-decoration-color: #00af00\">157,286,915</span> (600.00 MB)\n",
              "</pre>\n"
            ]
          },
          "metadata": {}
        },
        {
          "output_type": "display_data",
          "data": {
            "text/plain": [
              "\u001b[1m Non-trainable params: \u001b[0m\u001b[38;5;34m0\u001b[0m (0.00 B)\n"
            ],
            "text/html": [
              "<pre style=\"white-space:pre;overflow-x:auto;line-height:normal;font-family:Menlo,'DejaVu Sans Mono',consolas,'Courier New',monospace\"><span style=\"font-weight: bold\"> Non-trainable params: </span><span style=\"color: #00af00; text-decoration-color: #00af00\">0</span> (0.00 B)\n",
              "</pre>\n"
            ]
          },
          "metadata": {}
        }
      ]
    },
    {
      "cell_type": "code",
      "source": [
        "model.compile(optimizer = tf.keras.optimizers.Adam(),           # Adam optimization is a stochastic gradient descent method that is based on adaptive estimation of first-order and second-order moments\n",
        "              loss='sparse_categorical_crossentropy',           # Will show the lesses of our training\n",
        "              metrics=['accuracy'])                             # List of metrics to be evaluated by the model during training and testing."
      ],
      "metadata": {
        "id": "VgKeHZz8tVdj"
      },
      "execution_count": 71,
      "outputs": []
    },
    {
      "cell_type": "code",
      "source": [
        "epocas = 32\n",
        "\n",
        "history = model.fit(\n",
        "    train,\n",
        "    validation_data = validation,\n",
        "    epochs = epocas # quantity of iterations\n",
        ")"
      ],
      "metadata": {
        "colab": {
          "base_uri": "https://localhost:8080/"
        },
        "id": "gjIorLsHtYlO",
        "outputId": "058a168e-6103-43a7-d331-15973ad08da7"
      },
      "execution_count": 72,
      "outputs": [
        {
          "output_type": "stream",
          "name": "stdout",
          "text": [
            "Epoch 1/32\n",
            "\u001b[1m175/175\u001b[0m \u001b[32m━━━━━━━━━━━━━━━━━━━━\u001b[0m\u001b[37m\u001b[0m \u001b[1m24s\u001b[0m 122ms/step - accuracy: 0.3406 - loss: 230.4680 - val_accuracy: 0.4122 - val_loss: 102.7572\n",
            "Epoch 2/32\n",
            "\u001b[1m175/175\u001b[0m \u001b[32m━━━━━━━━━━━━━━━━━━━━\u001b[0m\u001b[37m\u001b[0m \u001b[1m18s\u001b[0m 104ms/step - accuracy: 0.4102 - loss: 73.5432 - val_accuracy: 0.4160 - val_loss: 85.9863\n",
            "Epoch 3/32\n",
            "\u001b[1m175/175\u001b[0m \u001b[32m━━━━━━━━━━━━━━━━━━━━\u001b[0m\u001b[37m\u001b[0m \u001b[1m20s\u001b[0m 99ms/step - accuracy: 0.4450 - loss: 64.4490 - val_accuracy: 0.2863 - val_loss: 29.9755\n",
            "Epoch 4/32\n",
            "\u001b[1m175/175\u001b[0m \u001b[32m━━━━━━━━━━━━━━━━━━━━\u001b[0m\u001b[37m\u001b[0m \u001b[1m20s\u001b[0m 95ms/step - accuracy: 0.4991 - loss: 22.1883 - val_accuracy: 0.4008 - val_loss: 44.6056\n",
            "Epoch 5/32\n",
            "\u001b[1m175/175\u001b[0m \u001b[32m━━━━━━━━━━━━━━━━━━━━\u001b[0m\u001b[37m\u001b[0m \u001b[1m21s\u001b[0m 97ms/step - accuracy: 0.4914 - loss: 24.2647 - val_accuracy: 0.3740 - val_loss: 16.9641\n",
            "Epoch 6/32\n",
            "\u001b[1m175/175\u001b[0m \u001b[32m━━━━━━━━━━━━━━━━━━━━\u001b[0m\u001b[37m\u001b[0m \u001b[1m17s\u001b[0m 97ms/step - accuracy: 0.5618 - loss: 12.2360 - val_accuracy: 0.3550 - val_loss: 13.1035\n",
            "Epoch 7/32\n",
            "\u001b[1m175/175\u001b[0m \u001b[32m━━━━━━━━━━━━━━━━━━━━\u001b[0m\u001b[37m\u001b[0m \u001b[1m29s\u001b[0m 144ms/step - accuracy: 0.5486 - loss: 11.9413 - val_accuracy: 0.2939 - val_loss: 17.1018\n",
            "Epoch 8/32\n",
            "\u001b[1m175/175\u001b[0m \u001b[32m━━━━━━━━━━━━━━━━━━━━\u001b[0m\u001b[37m\u001b[0m \u001b[1m32s\u001b[0m 93ms/step - accuracy: 0.5834 - loss: 8.4993 - val_accuracy: 0.3931 - val_loss: 13.8575\n",
            "Epoch 9/32\n",
            "\u001b[1m175/175\u001b[0m \u001b[32m━━━━━━━━━━━━━━━━━━━━\u001b[0m\u001b[37m\u001b[0m \u001b[1m27s\u001b[0m 127ms/step - accuracy: 0.5302 - loss: 12.6413 - val_accuracy: 0.3817 - val_loss: 12.2205\n",
            "Epoch 10/32\n",
            "\u001b[1m175/175\u001b[0m \u001b[32m━━━━━━━━━━━━━━━━━━━━\u001b[0m\u001b[37m\u001b[0m \u001b[1m37s\u001b[0m 107ms/step - accuracy: 0.5742 - loss: 7.5167 - val_accuracy: 0.3779 - val_loss: 12.3993\n",
            "Epoch 11/32\n",
            "\u001b[1m175/175\u001b[0m \u001b[32m━━━━━━━━━━━━━━━━━━━━\u001b[0m\u001b[37m\u001b[0m \u001b[1m26s\u001b[0m 138ms/step - accuracy: 0.5982 - loss: 8.5923 - val_accuracy: 0.3740 - val_loss: 18.7498\n",
            "Epoch 12/32\n",
            "\u001b[1m175/175\u001b[0m \u001b[32m━━━━━━━━━━━━━━━━━━━━\u001b[0m\u001b[37m\u001b[0m \u001b[1m17s\u001b[0m 96ms/step - accuracy: 0.5812 - loss: 6.9504 - val_accuracy: 0.3931 - val_loss: 8.4363\n",
            "Epoch 13/32\n",
            "\u001b[1m175/175\u001b[0m \u001b[32m━━━━━━━━━━━━━━━━━━━━\u001b[0m\u001b[37m\u001b[0m \u001b[1m19s\u001b[0m 90ms/step - accuracy: 0.6005 - loss: 6.0784 - val_accuracy: 0.3511 - val_loss: 5.3345\n",
            "Epoch 14/32\n",
            "\u001b[1m175/175\u001b[0m \u001b[32m━━━━━━━━━━━━━━━━━━━━\u001b[0m\u001b[37m\u001b[0m \u001b[1m24s\u001b[0m 112ms/step - accuracy: 0.6276 - loss: 3.0024 - val_accuracy: 0.3702 - val_loss: 7.0339\n",
            "Epoch 15/32\n",
            "\u001b[1m175/175\u001b[0m \u001b[32m━━━━━━━━━━━━━━━━━━━━\u001b[0m\u001b[37m\u001b[0m \u001b[1m20s\u001b[0m 115ms/step - accuracy: 0.5012 - loss: 1.6474 - val_accuracy: 0.3626 - val_loss: 1.1329\n",
            "Epoch 16/32\n",
            "\u001b[1m175/175\u001b[0m \u001b[32m━━━━━━━━━━━━━━━━━━━━\u001b[0m\u001b[37m\u001b[0m \u001b[1m21s\u001b[0m 118ms/step - accuracy: 0.5815 - loss: 0.9190 - val_accuracy: 0.3397 - val_loss: 1.3623\n",
            "Epoch 17/32\n",
            "\u001b[1m175/175\u001b[0m \u001b[32m━━━━━━━━━━━━━━━━━━━━\u001b[0m\u001b[37m\u001b[0m \u001b[1m36s\u001b[0m 92ms/step - accuracy: 0.5815 - loss: 0.9008 - val_accuracy: 0.3931 - val_loss: 1.2858\n",
            "Epoch 18/32\n",
            "\u001b[1m175/175\u001b[0m \u001b[32m━━━━━━━━━━━━━━━━━━━━\u001b[0m\u001b[37m\u001b[0m \u001b[1m21s\u001b[0m 94ms/step - accuracy: 0.6005 - loss: 0.8677 - val_accuracy: 0.4160 - val_loss: 1.3987\n",
            "Epoch 19/32\n",
            "\u001b[1m175/175\u001b[0m \u001b[32m━━━━━━━━━━━━━━━━━━━━\u001b[0m\u001b[37m\u001b[0m \u001b[1m16s\u001b[0m 91ms/step - accuracy: 0.4749 - loss: 0.9985 - val_accuracy: 0.3511 - val_loss: 1.3053\n",
            "Epoch 20/32\n",
            "\u001b[1m175/175\u001b[0m \u001b[32m━━━━━━━━━━━━━━━━━━━━\u001b[0m\u001b[37m\u001b[0m \u001b[1m22s\u001b[0m 99ms/step - accuracy: 0.4682 - loss: 1.0340 - val_accuracy: 0.3779 - val_loss: 1.1288\n",
            "Epoch 21/32\n",
            "\u001b[1m175/175\u001b[0m \u001b[32m━━━━━━━━━━━━━━━━━━━━\u001b[0m\u001b[37m\u001b[0m \u001b[1m16s\u001b[0m 92ms/step - accuracy: 0.5058 - loss: 0.9999 - val_accuracy: 0.4160 - val_loss: 1.0823\n",
            "Epoch 22/32\n",
            "\u001b[1m175/175\u001b[0m \u001b[32m━━━━━━━━━━━━━━━━━━━━\u001b[0m\u001b[37m\u001b[0m \u001b[1m20s\u001b[0m 92ms/step - accuracy: 0.4602 - loss: 1.0209 - val_accuracy: 0.3321 - val_loss: 1.1770\n",
            "Epoch 23/32\n",
            "\u001b[1m175/175\u001b[0m \u001b[32m━━━━━━━━━━━━━━━━━━━━\u001b[0m\u001b[37m\u001b[0m \u001b[1m20s\u001b[0m 91ms/step - accuracy: 0.5019 - loss: 1.0133 - val_accuracy: 0.3855 - val_loss: 1.1223\n",
            "Epoch 24/32\n",
            "\u001b[1m175/175\u001b[0m \u001b[32m━━━━━━━━━━━━━━━━━━━━\u001b[0m\u001b[37m\u001b[0m \u001b[1m21s\u001b[0m 92ms/step - accuracy: 0.4172 - loss: 1.0850 - val_accuracy: 0.3397 - val_loss: 1.2003\n",
            "Epoch 25/32\n",
            "\u001b[1m175/175\u001b[0m \u001b[32m━━━━━━━━━━━━━━━━━━━━\u001b[0m\u001b[37m\u001b[0m \u001b[1m20s\u001b[0m 92ms/step - accuracy: 0.4101 - loss: 1.0835 - val_accuracy: 0.3244 - val_loss: 1.3340\n",
            "Epoch 26/32\n",
            "\u001b[1m175/175\u001b[0m \u001b[32m━━━━━━━━━━━━━━━━━━━━\u001b[0m\u001b[37m\u001b[0m \u001b[1m20s\u001b[0m 92ms/step - accuracy: 0.5551 - loss: 0.9393 - val_accuracy: 0.3244 - val_loss: 1.4332\n",
            "Epoch 27/32\n",
            "\u001b[1m175/175\u001b[0m \u001b[32m━━━━━━━━━━━━━━━━━━━━\u001b[0m\u001b[37m\u001b[0m \u001b[1m20s\u001b[0m 92ms/step - accuracy: 0.4171 - loss: 1.0937 - val_accuracy: 0.3092 - val_loss: 1.6118\n",
            "Epoch 28/32\n",
            "\u001b[1m175/175\u001b[0m \u001b[32m━━━━━━━━━━━━━━━━━━━━\u001b[0m\u001b[37m\u001b[0m \u001b[1m16s\u001b[0m 90ms/step - accuracy: 0.4040 - loss: 1.1294 - val_accuracy: 0.4275 - val_loss: 1.0866\n",
            "Epoch 29/32\n",
            "\u001b[1m175/175\u001b[0m \u001b[32m━━━━━━━━━━━━━━━━━━━━\u001b[0m\u001b[37m\u001b[0m \u001b[1m22s\u001b[0m 98ms/step - accuracy: 0.4062 - loss: 1.0771 - val_accuracy: 0.4237 - val_loss: 1.0801\n",
            "Epoch 30/32\n",
            "\u001b[1m175/175\u001b[0m \u001b[32m━━━━━━━━━━━━━━━━━━━━\u001b[0m\u001b[37m\u001b[0m \u001b[1m19s\u001b[0m 92ms/step - accuracy: 0.4018 - loss: 1.0786 - val_accuracy: 0.4237 - val_loss: 1.0813\n",
            "Epoch 31/32\n",
            "\u001b[1m175/175\u001b[0m \u001b[32m━━━━━━━━━━━━━━━━━━━━\u001b[0m\u001b[37m\u001b[0m \u001b[1m16s\u001b[0m 90ms/step - accuracy: 0.3994 - loss: 1.0758 - val_accuracy: 0.4237 - val_loss: 1.0828\n",
            "Epoch 32/32\n",
            "\u001b[1m175/175\u001b[0m \u001b[32m━━━━━━━━━━━━━━━━━━━━\u001b[0m\u001b[37m\u001b[0m \u001b[1m22s\u001b[0m 97ms/step - accuracy: 0.4001 - loss: 1.0741 - val_accuracy: 0.4275 - val_loss: 1.0834\n"
          ]
        }
      ]
    },
    {
      "cell_type": "code",
      "source": [
        "converter = tf.lite.TFLiteConverter.from_keras_model(model)\n",
        "\n",
        "converter.optimizations = [tf.lite.Optimize.DEFAULT]\n",
        "converter.target_spec.supported_types = [tf.float16]\n",
        "\n",
        "quant_tflite_model = converter.convert()"
      ],
      "metadata": {
        "colab": {
          "base_uri": "https://localhost:8080/"
        },
        "id": "ZHVjgAfVglcU",
        "outputId": "ab139ef5-5f4b-4e66-9cf5-1e204091cb92"
      },
      "execution_count": 73,
      "outputs": [
        {
          "output_type": "stream",
          "name": "stdout",
          "text": [
            "Saved artifact at '/tmp/tmp474fx4tj'. The following endpoints are available:\n",
            "\n",
            "* Endpoint 'serve'\n",
            "  args_0 (POSITIONAL_ONLY): TensorSpec(shape=(None, 640, 640, 3), dtype=tf.float32, name='keras_tensor_68')\n",
            "Output Type:\n",
            "  TensorSpec(shape=(None, 3), dtype=tf.float32, name=None)\n",
            "Captures:\n",
            "  133245355213920: TensorSpec(shape=(), dtype=tf.resource, name=None)\n",
            "  133245355220960: TensorSpec(shape=(), dtype=tf.resource, name=None)\n",
            "  133245355219904: TensorSpec(shape=(), dtype=tf.resource, name=None)\n",
            "  133245355222544: TensorSpec(shape=(), dtype=tf.resource, name=None)\n"
          ]
        }
      ]
    },
    {
      "cell_type": "code",
      "source": [
        "with open('quant_model16bits.tflite', 'wb') as f:\n",
        "    f.write(quant_tflite_model)"
      ],
      "metadata": {
        "id": "APmGUpkXgJeE"
      },
      "execution_count": 77,
      "outputs": []
    },
    {
      "cell_type": "markdown",
      "source": [
        "# Plotting our results in graphics"
      ],
      "metadata": {
        "id": "dJgZO2HwOXcT"
      }
    },
    {
      "cell_type": "code",
      "source": [
        "def plot_results(history, epocas):\n",
        "\n",
        "  acc = history.history['accuracy']\n",
        "  val_acc = history.history['val_accuracy']\n",
        "\n",
        "  loss =  history.history['loss']\n",
        "  val_loss = history.history['val_loss']\n",
        "\n",
        "  epochs_range = range(epocas)\n",
        "\n",
        "  plt.figure(figsize=(12, 6))\n",
        "  plt.subplot(1,2,1)\n",
        "  plt.plot(epochs_range, acc, 'r', label='Train accuracy')\n",
        "  plt.plot(epochs_range, val_acc, 'b', label='Validation accuracy')\n",
        "  plt.legend(loc = 'lower right')\n",
        "\n",
        "  plt.subplot(1,2,2)\n",
        "\n",
        "  plt.plot(epochs_range, loss, 'r', label = 'Train Loss')\n",
        "  plt.plot(epochs_range, val_loss, 'b', label = 'Validation Loss')\n",
        "  plt.legend(loc = 'upper right')\n",
        "\n",
        "  plt.show()"
      ],
      "metadata": {
        "id": "aECzutvA8NmR"
      },
      "execution_count": 19,
      "outputs": []
    },
    {
      "cell_type": "code",
      "source": [
        "plot_results(history,epocas)"
      ],
      "metadata": {
        "id": "diOLG_PXGArt",
        "colab": {
          "base_uri": "https://localhost:8080/",
          "height": 522
        },
        "outputId": "5e2c5d73-d72c-4cff-a5fc-dec871fccf3c"
      },
      "execution_count": 43,
      "outputs": [
        {
          "output_type": "display_data",
          "data": {
            "text/plain": [
              "<Figure size 1200x600 with 2 Axes>"
            ],
            "image/png": "[encoded data removed]"
          },
          "metadata": {}
        }
      ]
    },
    {
      "cell_type": "markdown",
      "source": [
        "Here we have low results for validation and train, this can be because our model is too simple or because we have a bad data so our model couldn't leanr properly."
      ],
      "metadata": {
        "id": "gx4O4KVxda9P"
      }
    },
    {
      "cell_type": "markdown",
      "source": [
        "## Elaborated model\n"
      ],
      "metadata": {
        "id": "BXPcP50qQzFN"
      }
    },
    {
      "cell_type": "code",
      "source": [
        "tf.random.set_seed(250)"
      ],
      "metadata": {
        "id": "0FAZwH_2GFOA"
      },
      "execution_count": 63,
      "outputs": []
    },
    {
      "cell_type": "code",
      "source": [
        "model2 = tf.keras.models.Sequential([\n",
        "\n",
        "    # Input:\n",
        "    tf.keras.layers.Input(shape=(640, 640,  3)),                                # This are the dimensions from our input data\n",
        "\n",
        "    # Reescaling Layers:\n",
        "    tf.keras.layers.Rescaling(1./255),                                          # Normalizing our data by reescaling the pixels\n",
        "\n",
        "    # Hidden Layer 1:\n",
        "    tf.keras.layers.Conv2D(4, (3,3), activation = tf.nn.relu),                 # This layers will apply filters with a convolutional network\n",
        "                                                                                # 3,3 --> pixels          32 --> numver of differents types of filters\n",
        "    # Reducing Layer:\n",
        "    tf.keras.layers.MaxPooling2D(2,2),                                          # This layers will reduce the dimensionality of the feature maps\n",
        "\n",
        "    # Flattening Layers:\n",
        "    tf.keras.layers.Flatten(),                                                  # Flattening our data to 1 dimension\n",
        "\n",
        "    # Hidden Layer 2:\n",
        "    tf.keras.layers.Dense(128,activation=tf.nn.relu),                           # Dense Layer will do the \"math\" for getting our results\n",
        "\n",
        "    # Output:\n",
        "    tf.keras.layers.Dense(3, activation=tf.nn.softmax)                          # Softmax activation is used for cathegorical data and 3 are the dimensions in our dataset\n",
        "])"
      ],
      "metadata": {
        "id": "zZCJoI5zUZfT"
      },
      "execution_count": 64,
      "outputs": []
    },
    {
      "cell_type": "code",
      "source": [
        "model2.compile(optimizer = tf.keras.optimizers.Adam(),\n",
        "              loss = 'sparse_categorical_crossentropy',\n",
        "              metrics=['accuracy'])"
      ],
      "metadata": {
        "id": "Dqtp_79aVyPf"
      },
      "execution_count": 65,
      "outputs": []
    },
    {
      "cell_type": "code",
      "source": [
        "epocas = 20\n",
        "\n",
        "history = model2.fit(\n",
        "    train,\n",
        "    validation_data = validation,\n",
        "    epochs = epocas\n",
        ")"
      ],
      "metadata": {
        "colab": {
          "base_uri": "https://localhost:8080/"
        },
        "id": "1_Ezf6HmW4Oz",
        "outputId": "f3699079-b27a-4343-b454-5fd569aaa62c"
      },
      "execution_count": 61,
      "outputs": [
        {
          "output_type": "stream",
          "name": "stdout",
          "text": [
            "Epoch 1/20\n",
            "\u001b[1m175/175\u001b[0m \u001b[32m━━━━━━━━━━━━━━━━━━━━\u001b[0m\u001b[37m\u001b[0m \u001b[1m20s\u001b[0m 105ms/step - accuracy: 0.3768 - loss: 111.9992 - val_accuracy: 0.2977 - val_loss: 9.4889\n",
            "Epoch 2/20\n",
            "\u001b[1m175/175\u001b[0m \u001b[32m━━━━━━━━━━━━━━━━━━━━\u001b[0m\u001b[37m\u001b[0m \u001b[1m18s\u001b[0m 100ms/step - accuracy: 0.5478 - loss: 3.1417 - val_accuracy: 0.3550 - val_loss: 1.5327\n",
            "Epoch 3/20\n",
            "\u001b[1m175/175\u001b[0m \u001b[32m━━━━━━━━━━━━━━━━━━━━\u001b[0m\u001b[37m\u001b[0m \u001b[1m17s\u001b[0m 98ms/step - accuracy: 0.8320 - loss: 0.4444 - val_accuracy: 0.3664 - val_loss: 1.5304\n",
            "Epoch 4/20\n",
            "\u001b[1m175/175\u001b[0m \u001b[32m━━━━━━━━━━━━━━━━━━━━\u001b[0m\u001b[37m\u001b[0m \u001b[1m20s\u001b[0m 95ms/step - accuracy: 0.9093 - loss: 0.2372 - val_accuracy: 0.3626 - val_loss: 1.5788\n",
            "Epoch 5/20\n",
            "\u001b[1m175/175\u001b[0m \u001b[32m━━━━━━━━━━━━━━━━━━━━\u001b[0m\u001b[37m\u001b[0m \u001b[1m22s\u001b[0m 101ms/step - accuracy: 0.9376 - loss: 0.1647 - val_accuracy: 0.4198 - val_loss: 1.9682\n",
            "Epoch 6/20\n",
            "\u001b[1m175/175\u001b[0m \u001b[32m━━━━━━━━━━━━━━━━━━━━\u001b[0m\u001b[37m\u001b[0m \u001b[1m19s\u001b[0m 94ms/step - accuracy: 0.9603 - loss: 0.1079 - val_accuracy: 0.3702 - val_loss: 2.0785\n",
            "Epoch 7/20\n",
            "\u001b[1m175/175\u001b[0m \u001b[32m━━━━━━━━━━━━━━━━━━━━\u001b[0m\u001b[37m\u001b[0m \u001b[1m22s\u001b[0m 103ms/step - accuracy: 0.9838 - loss: 0.0611 - val_accuracy: 0.3931 - val_loss: 2.4033\n",
            "Epoch 8/20\n",
            "\u001b[1m175/175\u001b[0m \u001b[32m━━━━━━━━━━━━━━━━━━━━\u001b[0m\u001b[37m\u001b[0m \u001b[1m19s\u001b[0m 94ms/step - accuracy: 0.9878 - loss: 0.0452 - val_accuracy: 0.3817 - val_loss: 2.4370\n",
            "Epoch 9/20\n",
            "\u001b[1m175/175\u001b[0m \u001b[32m━━━━━━━━━━━━━━━━━━━━\u001b[0m\u001b[37m\u001b[0m \u001b[1m20s\u001b[0m 93ms/step - accuracy: 0.9977 - loss: 0.0219 - val_accuracy: 0.3893 - val_loss: 2.5623\n",
            "Epoch 10/20\n",
            "\u001b[1m175/175\u001b[0m \u001b[32m━━━━━━━━━━━━━━━━━━━━\u001b[0m\u001b[37m\u001b[0m \u001b[1m17s\u001b[0m 98ms/step - accuracy: 0.9979 - loss: 0.0189 - val_accuracy: 0.3817 - val_loss: 2.6313\n",
            "Epoch 11/20\n",
            "\u001b[1m175/175\u001b[0m \u001b[32m━━━━━━━━━━━━━━━━━━━━\u001b[0m\u001b[37m\u001b[0m \u001b[1m19s\u001b[0m 93ms/step - accuracy: 0.9946 - loss: 0.0220 - val_accuracy: 0.3969 - val_loss: 2.8613\n",
            "Epoch 12/20\n",
            "\u001b[1m175/175\u001b[0m \u001b[32m━━━━━━━━━━━━━━━━━━━━\u001b[0m\u001b[37m\u001b[0m \u001b[1m16s\u001b[0m 93ms/step - accuracy: 0.9986 - loss: 0.0119 - val_accuracy: 0.3817 - val_loss: 2.8114\n",
            "Epoch 13/20\n",
            "\u001b[1m175/175\u001b[0m \u001b[32m━━━━━━━━━━━━━━━━━━━━\u001b[0m\u001b[37m\u001b[0m \u001b[1m25s\u001b[0m 117ms/step - accuracy: 0.9990 - loss: 0.0057 - val_accuracy: 0.3855 - val_loss: 2.9891\n",
            "Epoch 14/20\n",
            "\u001b[1m175/175\u001b[0m \u001b[32m━━━━━━━━━━━━━━━━━━━━\u001b[0m\u001b[37m\u001b[0m \u001b[1m40s\u001b[0m 114ms/step - accuracy: 0.9988 - loss: 0.0094 - val_accuracy: 0.3779 - val_loss: 2.8124\n",
            "Epoch 15/20\n",
            "\u001b[1m175/175\u001b[0m \u001b[32m━━━━━━━━━━━━━━━━━━━━\u001b[0m\u001b[37m\u001b[0m \u001b[1m17s\u001b[0m 96ms/step - accuracy: 0.9915 - loss: 0.0411 - val_accuracy: 0.3855 - val_loss: 2.8356\n",
            "Epoch 16/20\n",
            "\u001b[1m175/175\u001b[0m \u001b[32m━━━━━━━━━━━━━━━━━━━━\u001b[0m\u001b[37m\u001b[0m \u001b[1m23s\u001b[0m 110ms/step - accuracy: 0.9902 - loss: 0.0344 - val_accuracy: 0.3664 - val_loss: 2.2720\n",
            "Epoch 17/20\n",
            "\u001b[1m175/175\u001b[0m \u001b[32m━━━━━━━━━━━━━━━━━━━━\u001b[0m\u001b[37m\u001b[0m \u001b[1m18s\u001b[0m 97ms/step - accuracy: 0.9881 - loss: 0.0506 - val_accuracy: 0.3855 - val_loss: 3.1519\n",
            "Epoch 18/20\n",
            "\u001b[1m175/175\u001b[0m \u001b[32m━━━━━━━━━━━━━━━━━━━━\u001b[0m\u001b[37m\u001b[0m \u001b[1m16s\u001b[0m 92ms/step - accuracy: 0.9986 - loss: 0.0074 - val_accuracy: 0.4122 - val_loss: 3.1032\n",
            "Epoch 19/20\n",
            "\u001b[1m175/175\u001b[0m \u001b[32m━━━━━━━━━━━━━━━━━━━━\u001b[0m\u001b[37m\u001b[0m \u001b[1m23s\u001b[0m 107ms/step - accuracy: 0.9993 - loss: 0.0067 - val_accuracy: 0.4046 - val_loss: 3.0467\n",
            "Epoch 20/20\n",
            "\u001b[1m175/175\u001b[0m \u001b[32m━━━━━━━━━━━━━━━━━━━━\u001b[0m\u001b[37m\u001b[0m \u001b[1m18s\u001b[0m 91ms/step - accuracy: 0.9970 - loss: 0.0091 - val_accuracy: 0.3855 - val_loss: 3.2422\n"
          ]
        }
      ]
    },
    {
      "cell_type": "code",
      "source": [
        "plot_results(history,epocas)"
      ],
      "metadata": {
        "colab": {
          "base_uri": "https://localhost:8080/",
          "height": 528
        },
        "id": "XiNvog1tSPPu",
        "outputId": "19b0f86c-114f-4c35-a068-b1f0a09595ea"
      },
      "execution_count": 62,
      "outputs": [
        {
          "output_type": "display_data",
          "data": {
            "text/plain": [
              "<Figure size 1200x600 with 2 Axes>"
            ],
            "image/png": "[encoded data removed]"
          },
          "metadata": {}
        }
      ]
    },
    {
      "cell_type": "markdown",
      "source": [
        "In this case we have a good train result, but the validation accuracy is too low. Our model was a little bit more elaborated but our results are worst then on the first model."
      ],
      "metadata": {
        "id": "WzEfc7xSeJnI"
      }
    },
    {
      "cell_type": "markdown",
      "source": [
        "## Stopping the model before it ends"
      ],
      "metadata": {
        "id": "270jaOgtUqGP"
      }
    },
    {
      "cell_type": "code",
      "source": [
        "class myCallback(tf.keras.callbacks.Callback):\n",
        "  def on_epoch_end(self, epoch, logs={}):\n",
        "    if(logs.get('accuracy') >= 0.94):\n",
        "      print(\"\\n Alcançamos 94% de acurácia. Parando o treinamento!\")\n",
        "      self.model.stop_training = True\n",
        "\n",
        "callbacks = myCallback()"
      ],
      "metadata": {
        "id": "59gQkwX4UoMa"
      },
      "execution_count": 66,
      "outputs": []
    },
    {
      "cell_type": "code",
      "source": [
        "epocas = 30\n",
        "\n",
        "history = model2.fit(\n",
        "    train,\n",
        "    validation_data = validation,\n",
        "    epochs = epocas,\n",
        "    callbacks=[callbacks]\n",
        ")"
      ],
      "metadata": {
        "id": "EozhBcpQX2D8",
        "colab": {
          "base_uri": "https://localhost:8080/"
        },
        "outputId": "76ccd4d9-8fb4-4391-cea2-e89b06d0fd9b"
      },
      "execution_count": 67,
      "outputs": [
        {
          "output_type": "stream",
          "name": "stdout",
          "text": [
            "Epoch 1/30\n",
            "\u001b[1m175/175\u001b[0m \u001b[32m━━━━━━━━━━━━━━━━━━━━\u001b[0m\u001b[37m\u001b[0m \u001b[1m22s\u001b[0m 109ms/step - accuracy: 0.3896 - loss: 30.7962 - val_accuracy: 0.3931 - val_loss: 2.5339\n",
            "Epoch 2/30\n",
            "\u001b[1m175/175\u001b[0m \u001b[32m━━━━━━━━━━━━━━━━━━━━\u001b[0m\u001b[37m\u001b[0m \u001b[1m18s\u001b[0m 100ms/step - accuracy: 0.7073 - loss: 0.7580 - val_accuracy: 0.3168 - val_loss: 1.3376\n",
            "Epoch 3/30\n",
            "\u001b[1m175/175\u001b[0m \u001b[32m━━━━━━━━━━━━━━━━━━━━\u001b[0m\u001b[37m\u001b[0m \u001b[1m19s\u001b[0m 91ms/step - accuracy: 0.9207 - loss: 0.2781 - val_accuracy: 0.3702 - val_loss: 1.4523\n",
            "Epoch 4/30\n",
            "\u001b[1m174/175\u001b[0m \u001b[32m━━━━━━━━━━━━━━━━━━━\u001b[0m\u001b[37m━\u001b[0m \u001b[1m0s\u001b[0m 84ms/step - accuracy: 0.9656 - loss: 0.1584\n",
            " Alcançamos 94% de acurácia. Parando o treinamento!\n",
            "\u001b[1m175/175\u001b[0m \u001b[32m━━━━━━━━━━━━━━━━━━━━\u001b[0m\u001b[37m\u001b[0m \u001b[1m22s\u001b[0m 99ms/step - accuracy: 0.9656 - loss: 0.1582 - val_accuracy: 0.3779 - val_loss: 1.5711\n"
          ]
        }
      ]
    },
    {
      "cell_type": "markdown",
      "source": [
        "Here we can see that our validation results are still bad. We can conffirm now that the problem is in our input data that probably have low qualitity.\n",
        "For the time being we are going to use the first model, but we still pretend to clean that data in order to achieve better results."
      ],
      "metadata": {
        "id": "f-GT8kmFfBFw"
      }
    },
    {
      "cell_type": "code",
      "source": [
        "print('hello')"
      ],
      "metadata": {
        "colab": {
          "base_uri": "https://localhost:8080/"
        },
        "id": "LFPjGOFyesLI",
        "outputId": "3baa736f-09da-4f16-bb0a-f51d99208cf7"
      },
      "execution_count": 80,
      "outputs": [
        {
          "output_type": "stream",
          "name": "stdout",
          "text": [
            "hello\n"
          ]
        }
      ]
    },
    {
      "cell_type": "code",
      "source": [],
      "metadata": {
        "id": "IScLie4NqKEf"
      },
      "execution_count": null,
      "outputs": []
    }
  ]
}