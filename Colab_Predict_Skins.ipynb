{
  "nbformat": 4,
  "nbformat_minor": 0,
  "metadata": {
    "colab": {
      "provenance": [],
      "gpuType": "T4",
      "include_colab_link": true
    },
    "kernelspec": {
      "name": "python3",
      "display_name": "Python 3"
    },
    "language_info": {
      "name": "python"
    },
    "accelerator": "GPU"
  },
  "cells": [
    {
      "cell_type": "markdown",
      "metadata": {
        "id": "view-in-github",
        "colab_type": "text"
      },
      "source": [
        "<a href=\"https://colab.research.google.com/github/OliviaHelena10/skincare_recommendations/blob/main/Colab_Predict_Skins.ipynb\" target=\"_parent\"><img src=\"https://colab.research.google.com/assets/colab-badge.svg\" alt=\"Open In Colab\"/></a>"
      ]
    },
    {
      "cell_type": "markdown",
      "source": [
        "# Importing Libraries"
      ],
      "metadata": {
        "id": "sBLy4WFzsO4c"
      }
    },
    {
      "cell_type": "code",
      "execution_count": null,
      "metadata": {
        "id": "J3i5tQF_rtOb"
      },
      "outputs": [],
      "source": [
        "# Basic DS libraries\n",
        "import pandas as pd\n",
        "import numpy as np\n",
        "\n",
        "# Will help to list our files\n",
        "from glob import glob\n",
        "import pathlib\n",
        "import PIL\n",
        "\n",
        "# Will help us with the images\n",
        "import cv2\n",
        "import os\n",
        "import tensorflow as tf\n",
        "import matplotlib.pyplot as plt"
      ]
    },
    {
      "cell_type": "markdown",
      "source": [
        "# Organising our Data"
      ],
      "metadata": {
        "id": "2XAB26IysO1v"
      }
    },
    {
      "cell_type": "code",
      "source": [
        "from google.colab import drive\n",
        "drive.mount('/content/drive')"
      ],
      "metadata": {
        "colab": {
          "base_uri": "https://localhost:8080/"
        },
        "id": "CWSf7_NolCIZ",
        "outputId": "9c1692a0-6b40-43a6-98b1-0b492a7ad42f"
      },
      "execution_count": null,
      "outputs": [
        {
          "output_type": "stream",
          "name": "stdout",
          "text": [
            "Mounted at /content/drive\n"
          ]
        }
      ]
    },
    {
      "cell_type": "markdown",
      "source": [
        " Getting our data path:"
      ],
      "metadata": {
        "id": "sZjsn0lvDkGM"
      }
    },
    {
      "cell_type": "code",
      "source": [
        "# Here we are accessing our data from google drive\n",
        "path_train = '/content/drive/MyDrive/skin_search/train'"
      ],
      "metadata": {
        "id": "Ka95csUGsX9-"
      },
      "execution_count": null,
      "outputs": []
    },
    {
      "cell_type": "markdown",
      "source": [
        "Saving the paths in variables:"
      ],
      "metadata": {
        "id": "BZmIXKBLDoDi"
      }
    },
    {
      "cell_type": "markdown",
      "source": [
        "Checking the categories:"
      ],
      "metadata": {
        "id": "qHOxwRa3Dv5T"
      }
    },
    {
      "cell_type": "code",
      "source": [
        "path = '/content/drive/MyDrive/skin_search/train'\n",
        "data_dir = pathlib.Path(path)\n",
        "\n",
        "\n",
        "# Iterating through the train subfolders and getting their names just in case\n",
        "train_subfolders = [f.name for f in data_dir.iterdir() if f.is_dir()]\n",
        "print(f'train: {train_subfolders}')"
      ],
      "metadata": {
        "id": "4QbHToRGsfOj",
        "colab": {
          "base_uri": "https://localhost:8080/"
        },
        "outputId": "dbbfcf56-5d3a-4d88-c486-82b0e00e8f5f"
      },
      "execution_count": null,
      "outputs": [
        {
          "output_type": "stream",
          "name": "stdout",
          "text": [
            "train: ['normal', 'oily', 'dry']\n"
          ]
        }
      ]
    },
    {
      "cell_type": "code",
      "source": [
        "for subfolder in train_subfolders:\n",
        "  path =  data_dir / subfolder\n",
        "  images = list(path.glob('*.jpg'))\n",
        "  print(f'{subfolder}: {len(images)} imagens')"
      ],
      "metadata": {
        "id": "7foBzShpIPoZ",
        "colab": {
          "base_uri": "https://localhost:8080/"
        },
        "outputId": "98ea2fa5-6d79-4dcf-af1a-efc497153124"
      },
      "execution_count": null,
      "outputs": [
        {
          "output_type": "stream",
          "name": "stdout",
          "text": [
            "normal: 362 imagens\n",
            "oily: 94 imagens\n",
            "dry: 197 imagens\n"
          ]
        }
      ]
    },
    {
      "cell_type": "code",
      "source": [
        "# Checking our Datas\n",
        "\n",
        "for subfolder in train_subfolders:                # iterates through the subfolders: dry, normal and oily\n",
        "  path =  data_dir / subfolder                   # gets the path of each image\n",
        "  images = list(path.glob('*.jpg'))               # gets the images of each subfolder\n",
        "  print(f'\\n{subfolder}: {len(images)} imagens')  # prints the number of data in each subfolder\n",
        "\n",
        "  if images:\n",
        "    img = PIL.Image.open(str(images[0]))          # opens the first image in the list\n",
        "    img_array = np.array(img)                     # converts the image to a numpy array\n",
        "    print(f'dimensões da primeira imagem em {subfolder} : {img_array.shape}\\n') # gets our image dimensions\n",
        "  print(\"------------------------------------------------------\")"
      ],
      "metadata": {
        "id": "7uLKteWgsic0",
        "colab": {
          "base_uri": "https://localhost:8080/"
        },
        "outputId": "ff7062d4-0a29-406d-a95f-82d211617512"
      },
      "execution_count": null,
      "outputs": [
        {
          "output_type": "stream",
          "name": "stdout",
          "text": [
            "\n",
            "normal: 362 imagens\n",
            "dimensões da primeira imagem em normal : (640, 640, 3)\n",
            "\n",
            "------------------------------------------------------\n",
            "\n",
            "oily: 94 imagens\n",
            "dimensões da primeira imagem em oily : (640, 640, 3)\n",
            "\n",
            "------------------------------------------------------\n",
            "\n",
            "dry: 197 imagens\n",
            "dimensões da primeira imagem em dry : (640, 640, 3)\n",
            "\n",
            "------------------------------------------------------\n"
          ]
        }
      ]
    },
    {
      "cell_type": "markdown",
      "source": [
        "# Image preprocessing for model training"
      ],
      "metadata": {
        "id": "n-wIEtCKsqpk"
      }
    },
    {
      "cell_type": "markdown",
      "source": [
        "Defining Variables:"
      ],
      "metadata": {
        "id": "ebOipMwILfD6"
      }
    },
    {
      "cell_type": "code",
      "source": [
        "# We must maintain tha same proportions of the images width and height\n",
        "image_width = 640\n",
        "image_height = 640\n",
        "\n",
        "\n",
        "# Images always have 3 color dimensions RGB pr BGR        ( R for Red  -  G for Green  -  B for Blue )\n",
        "image_color_channel = 3\n",
        "image_color_channel_size = 255\n",
        "image_size = (image_width, image_height)\n",
        "img_shape = image_size + (image_color_channel,)\n",
        "\n",
        "batch_size = 64             # number of features that I will bring at a time from my dataset\n",
        "epocas = 20                 # number of times that I will iterate trought my dataset\n",
        "learning_rate = 0.0001\n",
        "\n",
        "class_names = ['dry', 'normal', 'oily']"
      ],
      "metadata": {
        "id": "V8sXYGcSsrpA"
      },
      "execution_count": null,
      "outputs": []
    },
    {
      "cell_type": "markdown",
      "source": [
        "Separating train, test and validation data"
      ],
      "metadata": {
        "id": "zIBuTogDLjKn"
      }
    },
    {
      "cell_type": "code",
      "source": [
        "train = tf.keras.utils.image_dataset_from_directory(\n",
        "    data_dir,\n",
        "    validation_split = 0.2,       # 20% of our data for train\n",
        "    subset = 'training',\n",
        "    seed = 568,                   # this will get random weights for the transformations\n",
        "    image_size = (image_height,image_width),\n",
        "    batch_size = batch_size\n",
        ")"
      ],
      "metadata": {
        "id": "qOH_6U4kst3V",
        "colab": {
          "base_uri": "https://localhost:8080/"
        },
        "outputId": "1ab4169b-94c2-4f74-eb02-9f058ddd139d"
      },
      "execution_count": null,
      "outputs": [
        {
          "output_type": "stream",
          "name": "stdout",
          "text": [
            "Found 653 files belonging to 3 classes.\n",
            "Using 523 files for training.\n"
          ]
        }
      ]
    },
    {
      "cell_type": "code",
      "source": [
        "validation = tf.keras.utils.image_dataset_from_directory(\n",
        "    data_dir,\n",
        "    validation_split = 0.2,      # 80% of our data for validation\n",
        "    subset = 'validation',\n",
        "    seed = 568,                  # this will get random weights for the transformations\n",
        "    image_size = (image_height,image_width),\n",
        "    batch_size = batch_size\n",
        ")"
      ],
      "metadata": {
        "id": "selY2YXEsyR6",
        "colab": {
          "base_uri": "https://localhost:8080/"
        },
        "outputId": "c7391680-6675-48c4-ce5b-5505dea5dc6a"
      },
      "execution_count": null,
      "outputs": [
        {
          "output_type": "stream",
          "name": "stdout",
          "text": [
            "Found 653 files belonging to 3 classes.\n",
            "Using 130 files for validation.\n"
          ]
        }
      ]
    },
    {
      "cell_type": "markdown",
      "source": [
        "# Creating a Machine Learning Supervised Learning model - type Image Classification"
      ],
      "metadata": {
        "id": "cBNzudegtPo0"
      }
    },
    {
      "cell_type": "code",
      "source": [
        "model1 = tf.keras.models.Sequential([\n",
        "\n",
        "    # Input:\n",
        "    tf.keras.layers.Input(shape=(640, 640,  3)),                                # This are the dimensions from our input data\n",
        "\n",
        "    # Reescaling Layers\n",
        "    tf.keras.layers.Rescaling(1./255),                                          # Normalizing our data by reescaling the pixels\n",
        "\n",
        "    # Padding Layers\n",
        "    tf.keras.layers.Flatten(),                                                  # Flattening our data to 1 dimension\n",
        "\n",
        "    # Hidden Layers:\n",
        "    tf.keras.layers.Dense(128,activation=tf.nn.relu),                           # Dense Layer will do the \"math\" for getting our results\n",
        "\n",
        "    # Output:\n",
        "    tf.keras.layers.Dense(3, activation=tf.nn.softmax)                          # Softmax activation is used for cathegorical data and 3 are the dimensions in our dataset\n",
        "])"
      ],
      "metadata": {
        "id": "CWmC_qe4tK6A"
      },
      "execution_count": null,
      "outputs": []
    },
    {
      "cell_type": "code",
      "source": [
        "model1.summary()"
      ],
      "metadata": {
        "id": "EhvJj7OqtTQG",
        "colab": {
          "base_uri": "https://localhost:8080/",
          "height": 267
        },
        "outputId": "0b924953-49aa-4b31-8999-c6ad48da7f5a"
      },
      "execution_count": null,
      "outputs": [
        {
          "output_type": "display_data",
          "data": {
            "text/plain": [
              "\u001b[1mModel: \"sequential_2\"\u001b[0m\n"
            ],
            "text/html": [
              "<pre style=\"white-space:pre;overflow-x:auto;line-height:normal;font-family:Menlo,'DejaVu Sans Mono',consolas,'Courier New',monospace\"><span style=\"font-weight: bold\">Model: \"sequential_2\"</span>\n",
              "</pre>\n"
            ]
          },
          "metadata": {}
        },
        {
          "output_type": "display_data",
          "data": {
            "text/plain": [
              "┏━━━━━━━━━━━━━━━━━━━━━━━━━━━━━━━━━━━━━━┳━━━━━━━━━━━━━━━━━━━━━━━━━━━━━┳━━━━━━━━━━━━━━━━━┓\n",
              "┃\u001b[1m \u001b[0m\u001b[1mLayer (type)                        \u001b[0m\u001b[1m \u001b[0m┃\u001b[1m \u001b[0m\u001b[1mOutput Shape               \u001b[0m\u001b[1m \u001b[0m┃\u001b[1m \u001b[0m\u001b[1m        Param #\u001b[0m\u001b[1m \u001b[0m┃\n",
              "┡━━━━━━━━━━━━━━━━━━━━━━━━━━━━━━━━━━━━━━╇━━━━━━━━━━━━━━━━━━━━━━━━━━━━━╇━━━━━━━━━━━━━━━━━┩\n",
              "│ rescaling_2 (\u001b[38;5;33mRescaling\u001b[0m)              │ (\u001b[38;5;45mNone\u001b[0m, \u001b[38;5;34m640\u001b[0m, \u001b[38;5;34m640\u001b[0m, \u001b[38;5;34m3\u001b[0m)         │               \u001b[38;5;34m0\u001b[0m │\n",
              "├──────────────────────────────────────┼─────────────────────────────┼─────────────────┤\n",
              "│ flatten_2 (\u001b[38;5;33mFlatten\u001b[0m)                  │ (\u001b[38;5;45mNone\u001b[0m, \u001b[38;5;34m1228800\u001b[0m)             │               \u001b[38;5;34m0\u001b[0m │\n",
              "├──────────────────────────────────────┼─────────────────────────────┼─────────────────┤\n",
              "│ dense_4 (\u001b[38;5;33mDense\u001b[0m)                      │ (\u001b[38;5;45mNone\u001b[0m, \u001b[38;5;34m128\u001b[0m)                 │     \u001b[38;5;34m157,286,528\u001b[0m │\n",
              "├──────────────────────────────────────┼─────────────────────────────┼─────────────────┤\n",
              "│ dense_5 (\u001b[38;5;33mDense\u001b[0m)                      │ (\u001b[38;5;45mNone\u001b[0m, \u001b[38;5;34m3\u001b[0m)                   │             \u001b[38;5;34m387\u001b[0m │\n",
              "└──────────────────────────────────────┴─────────────────────────────┴─────────────────┘\n"
            ],
            "text/html": [
              "<pre style=\"white-space:pre;overflow-x:auto;line-height:normal;font-family:Menlo,'DejaVu Sans Mono',consolas,'Courier New',monospace\">┏━━━━━━━━━━━━━━━━━━━━━━━━━━━━━━━━━━━━━━┳━━━━━━━━━━━━━━━━━━━━━━━━━━━━━┳━━━━━━━━━━━━━━━━━┓\n",
              "┃<span style=\"font-weight: bold\"> Layer (type)                         </span>┃<span style=\"font-weight: bold\"> Output Shape                </span>┃<span style=\"font-weight: bold\">         Param # </span>┃\n",
              "┡━━━━━━━━━━━━━━━━━━━━━━━━━━━━━━━━━━━━━━╇━━━━━━━━━━━━━━━━━━━━━━━━━━━━━╇━━━━━━━━━━━━━━━━━┩\n",
              "│ rescaling_2 (<span style=\"color: #0087ff; text-decoration-color: #0087ff\">Rescaling</span>)              │ (<span style=\"color: #00d7ff; text-decoration-color: #00d7ff\">None</span>, <span style=\"color: #00af00; text-decoration-color: #00af00\">640</span>, <span style=\"color: #00af00; text-decoration-color: #00af00\">640</span>, <span style=\"color: #00af00; text-decoration-color: #00af00\">3</span>)         │               <span style=\"color: #00af00; text-decoration-color: #00af00\">0</span> │\n",
              "├──────────────────────────────────────┼─────────────────────────────┼─────────────────┤\n",
              "│ flatten_2 (<span style=\"color: #0087ff; text-decoration-color: #0087ff\">Flatten</span>)                  │ (<span style=\"color: #00d7ff; text-decoration-color: #00d7ff\">None</span>, <span style=\"color: #00af00; text-decoration-color: #00af00\">1228800</span>)             │               <span style=\"color: #00af00; text-decoration-color: #00af00\">0</span> │\n",
              "├──────────────────────────────────────┼─────────────────────────────┼─────────────────┤\n",
              "│ dense_4 (<span style=\"color: #0087ff; text-decoration-color: #0087ff\">Dense</span>)                      │ (<span style=\"color: #00d7ff; text-decoration-color: #00d7ff\">None</span>, <span style=\"color: #00af00; text-decoration-color: #00af00\">128</span>)                 │     <span style=\"color: #00af00; text-decoration-color: #00af00\">157,286,528</span> │\n",
              "├──────────────────────────────────────┼─────────────────────────────┼─────────────────┤\n",
              "│ dense_5 (<span style=\"color: #0087ff; text-decoration-color: #0087ff\">Dense</span>)                      │ (<span style=\"color: #00d7ff; text-decoration-color: #00d7ff\">None</span>, <span style=\"color: #00af00; text-decoration-color: #00af00\">3</span>)                   │             <span style=\"color: #00af00; text-decoration-color: #00af00\">387</span> │\n",
              "└──────────────────────────────────────┴─────────────────────────────┴─────────────────┘\n",
              "</pre>\n"
            ]
          },
          "metadata": {}
        },
        {
          "output_type": "display_data",
          "data": {
            "text/plain": [
              "\u001b[1m Total params: \u001b[0m\u001b[38;5;34m157,286,915\u001b[0m (600.00 MB)\n"
            ],
            "text/html": [
              "<pre style=\"white-space:pre;overflow-x:auto;line-height:normal;font-family:Menlo,'DejaVu Sans Mono',consolas,'Courier New',monospace\"><span style=\"font-weight: bold\"> Total params: </span><span style=\"color: #00af00; text-decoration-color: #00af00\">157,286,915</span> (600.00 MB)\n",
              "</pre>\n"
            ]
          },
          "metadata": {}
        },
        {
          "output_type": "display_data",
          "data": {
            "text/plain": [
              "\u001b[1m Trainable params: \u001b[0m\u001b[38;5;34m157,286,915\u001b[0m (600.00 MB)\n"
            ],
            "text/html": [
              "<pre style=\"white-space:pre;overflow-x:auto;line-height:normal;font-family:Menlo,'DejaVu Sans Mono',consolas,'Courier New',monospace\"><span style=\"font-weight: bold\"> Trainable params: </span><span style=\"color: #00af00; text-decoration-color: #00af00\">157,286,915</span> (600.00 MB)\n",
              "</pre>\n"
            ]
          },
          "metadata": {}
        },
        {
          "output_type": "display_data",
          "data": {
            "text/plain": [
              "\u001b[1m Non-trainable params: \u001b[0m\u001b[38;5;34m0\u001b[0m (0.00 B)\n"
            ],
            "text/html": [
              "<pre style=\"white-space:pre;overflow-x:auto;line-height:normal;font-family:Menlo,'DejaVu Sans Mono',consolas,'Courier New',monospace\"><span style=\"font-weight: bold\"> Non-trainable params: </span><span style=\"color: #00af00; text-decoration-color: #00af00\">0</span> (0.00 B)\n",
              "</pre>\n"
            ]
          },
          "metadata": {}
        }
      ]
    },
    {
      "cell_type": "code",
      "source": [
        "model1.compile(optimizer = tf.keras.optimizers.Adam(),           # Adam optimization is a stochastic gradient descent method that is based on adaptive estimation of first-order and second-order moments\n",
        "              loss='sparse_categorical_crossentropy',           # Will show the lesses of our training\n",
        "              metrics=['accuracy'])                             # List of metrics to be evaluated by the model during training and testing."
      ],
      "metadata": {
        "id": "VgKeHZz8tVdj"
      },
      "execution_count": null,
      "outputs": []
    },
    {
      "cell_type": "code",
      "source": [
        "history = model1.fit(\n",
        "    train,\n",
        "    validation_data = validation,\n",
        "    epochs = epocas # quantity of iterations\n",
        ")"
      ],
      "metadata": {
        "id": "gjIorLsHtYlO",
        "colab": {
          "base_uri": "https://localhost:8080/"
        },
        "outputId": "3c601d45-f1cf-4f0d-8cd8-c58eb6055528"
      },
      "execution_count": null,
      "outputs": [
        {
          "output_type": "stream",
          "name": "stdout",
          "text": [
            "Epoch 1/20\n",
            "\u001b[1m9/9\u001b[0m \u001b[32m━━━━━━━━━━━━━━━━━━━━\u001b[0m\u001b[37m\u001b[0m \u001b[1m18s\u001b[0m 2s/step - accuracy: 0.4507 - loss: 423.7953 - val_accuracy: 0.2846 - val_loss: 158.7890\n",
            "Epoch 2/20\n",
            "\u001b[1m9/9\u001b[0m \u001b[32m━━━━━━━━━━━━━━━━━━━━\u001b[0m\u001b[37m\u001b[0m \u001b[1m13s\u001b[0m 1s/step - accuracy: 0.3874 - loss: 113.9519 - val_accuracy: 0.4154 - val_loss: 84.4744\n",
            "Epoch 3/20\n",
            "\u001b[1m9/9\u001b[0m \u001b[32m━━━━━━━━━━━━━━━━━━━━\u001b[0m\u001b[37m\u001b[0m \u001b[1m9s\u001b[0m 1s/step - accuracy: 0.5280 - loss: 56.2499 - val_accuracy: 0.5231 - val_loss: 52.8462\n",
            "Epoch 4/20\n",
            "\u001b[1m9/9\u001b[0m \u001b[32m━━━━━━━━━━━━━━━━━━━━\u001b[0m\u001b[37m\u001b[0m \u001b[1m10s\u001b[0m 1s/step - accuracy: 0.5474 - loss: 32.3083 - val_accuracy: 0.4077 - val_loss: 44.1236\n",
            "Epoch 5/20\n",
            "\u001b[1m9/9\u001b[0m \u001b[32m━━━━━━━━━━━━━━━━━━━━\u001b[0m\u001b[37m\u001b[0m \u001b[1m10s\u001b[0m 1s/step - accuracy: 0.4458 - loss: 57.8008 - val_accuracy: 0.4846 - val_loss: 113.9598\n",
            "Epoch 6/20\n",
            "\u001b[1m9/9\u001b[0m \u001b[32m━━━━━━━━━━━━━━━━━━━━\u001b[0m\u001b[37m\u001b[0m \u001b[1m9s\u001b[0m 1s/step - accuracy: 0.4918 - loss: 68.1380 - val_accuracy: 0.4154 - val_loss: 66.7306\n",
            "Epoch 7/20\n",
            "\u001b[1m9/9\u001b[0m \u001b[32m━━━━━━━━━━━━━━━━━━━━\u001b[0m\u001b[37m\u001b[0m \u001b[1m10s\u001b[0m 948ms/step - accuracy: 0.5468 - loss: 40.7139 - val_accuracy: 0.4077 - val_loss: 43.5866\n",
            "Epoch 8/20\n",
            "\u001b[1m9/9\u001b[0m \u001b[32m━━━━━━━━━━━━━━━━━━━━\u001b[0m\u001b[37m\u001b[0m \u001b[1m10s\u001b[0m 975ms/step - accuracy: 0.5997 - loss: 23.7112 - val_accuracy: 0.4538 - val_loss: 30.9771\n",
            "Epoch 9/20\n",
            "\u001b[1m9/9\u001b[0m \u001b[32m━━━━━━━━━━━━━━━━━━━━\u001b[0m\u001b[37m\u001b[0m \u001b[1m10s\u001b[0m 979ms/step - accuracy: 0.6056 - loss: 23.1076 - val_accuracy: 0.3154 - val_loss: 85.1639\n",
            "Epoch 10/20\n",
            "\u001b[1m9/9\u001b[0m \u001b[32m━━━━━━━━━━━━━━━━━━━━\u001b[0m\u001b[37m\u001b[0m \u001b[1m9s\u001b[0m 949ms/step - accuracy: 0.5266 - loss: 32.8166 - val_accuracy: 0.4077 - val_loss: 67.0440\n",
            "Epoch 11/20\n",
            "\u001b[1m9/9\u001b[0m \u001b[32m━━━━━━━━━━━━━━━━━━━━\u001b[0m\u001b[37m\u001b[0m \u001b[1m8s\u001b[0m 844ms/step - accuracy: 0.5985 - loss: 33.2205 - val_accuracy: 0.3385 - val_loss: 40.5203\n",
            "Epoch 12/20\n",
            "\u001b[1m9/9\u001b[0m \u001b[32m━━━━━━━━━━━━━━━━━━━━\u001b[0m\u001b[37m\u001b[0m \u001b[1m11s\u001b[0m 963ms/step - accuracy: 0.5876 - loss: 16.8524 - val_accuracy: 0.4231 - val_loss: 25.9153\n",
            "Epoch 13/20\n",
            "\u001b[1m9/9\u001b[0m \u001b[32m━━━━━━━━━━━━━━━━━━━━\u001b[0m\u001b[37m\u001b[0m \u001b[1m8s\u001b[0m 850ms/step - accuracy: 0.6262 - loss: 12.0243 - val_accuracy: 0.3769 - val_loss: 36.2504\n",
            "Epoch 14/20\n",
            "\u001b[1m9/9\u001b[0m \u001b[32m━━━━━━━━━━━━━━━━━━━━\u001b[0m\u001b[37m\u001b[0m \u001b[1m11s\u001b[0m 970ms/step - accuracy: 0.7131 - loss: 8.4578 - val_accuracy: 0.4231 - val_loss: 27.4659\n",
            "Epoch 15/20\n",
            "\u001b[1m9/9\u001b[0m \u001b[32m━━━━━━━━━━━━━━━━━━━━\u001b[0m\u001b[37m\u001b[0m \u001b[1m9s\u001b[0m 955ms/step - accuracy: 0.7364 - loss: 6.9434 - val_accuracy: 0.3615 - val_loss: 26.0165\n",
            "Epoch 16/20\n",
            "\u001b[1m9/9\u001b[0m \u001b[32m━━━━━━━━━━━━━━━━━━━━\u001b[0m\u001b[37m\u001b[0m \u001b[1m9s\u001b[0m 966ms/step - accuracy: 0.7435 - loss: 5.6080 - val_accuracy: 0.4615 - val_loss: 22.1275\n",
            "Epoch 17/20\n",
            "\u001b[1m9/9\u001b[0m \u001b[32m━━━━━━━━━━━━━━━━━━━━\u001b[0m\u001b[37m\u001b[0m \u001b[1m11s\u001b[0m 1s/step - accuracy: 0.8365 - loss: 2.5504 - val_accuracy: 0.5154 - val_loss: 64.8133\n",
            "Epoch 18/20\n",
            "\u001b[1m9/9\u001b[0m \u001b[32m━━━━━━━━━━━━━━━━━━━━\u001b[0m\u001b[37m\u001b[0m \u001b[1m9s\u001b[0m 1s/step - accuracy: 0.5890 - loss: 24.8197 - val_accuracy: 0.3846 - val_loss: 54.1601\n",
            "Epoch 19/20\n",
            "\u001b[1m9/9\u001b[0m \u001b[32m━━━━━━━━━━━━━━━━━━━━\u001b[0m\u001b[37m\u001b[0m \u001b[1m10s\u001b[0m 927ms/step - accuracy: 0.6260 - loss: 27.6697 - val_accuracy: 0.3769 - val_loss: 52.7163\n",
            "Epoch 20/20\n",
            "\u001b[1m9/9\u001b[0m \u001b[32m━━━━━━━━━━━━━━━━━━━━\u001b[0m\u001b[37m\u001b[0m \u001b[1m9s\u001b[0m 984ms/step - accuracy: 0.5387 - loss: 32.9615 - val_accuracy: 0.1615 - val_loss: 73.5825\n"
          ]
        }
      ]
    },
    {
      "cell_type": "markdown",
      "source": [
        "# Plotting our results in graphics"
      ],
      "metadata": {
        "id": "dJgZO2HwOXcT"
      }
    },
    {
      "cell_type": "code",
      "source": [
        "def plot_results(history, epocas):\n",
        "\n",
        "  acc = history.history['accuracy']\n",
        "  val_acc = history.history['val_accuracy']\n",
        "\n",
        "  loss =  history.history['loss']\n",
        "  val_loss = history.history['val_loss']\n",
        "\n",
        "  epochs_range = range(epocas)\n",
        "\n",
        "  plt.figure(figsize=(12, 6))\n",
        "  plt.subplot(1,2,1)\n",
        "  plt.plot(epochs_range, acc, 'r', label='Acurácia do Treino')\n",
        "  plt.plot(epochs_range, val_acc, 'b', label='Acurácia da Validação')\n",
        "  plt.legend(loc = 'lower right')\n",
        "\n",
        "  plt.subplot(1,2,2)\n",
        "\n",
        "  plt.plot(epochs_range, loss, 'r', label = 'Perda do Treino')\n",
        "  plt.plot(epochs_range, val_loss, 'b', label = 'Perda da Validação')\n",
        "  plt.legend(loc = 'upper right')\n",
        "\n",
        "  plt.show()"
      ],
      "metadata": {
        "id": "aECzutvA8NmR"
      },
      "execution_count": null,
      "outputs": []
    },
    {
      "cell_type": "code",
      "source": [
        "plot_results(history,epocas)"
      ],
      "metadata": {
        "id": "diOLG_PXGArt",
        "colab": {
          "base_uri": "https://localhost:8080/",
          "height": 522
        },
        "outputId": "34ae9c69-b625-4668-9b3c-980c85682d02"
      },
      "execution_count": null,
      "outputs": [
        {
          "output_type": "display_data",
          "data": {
            "text/plain": [
              "<Figure size 1200x600 with 2 Axes>"
            ],
            "image/png": "[encoded data removed]"
          },
          "metadata": {}
        }
      ]
    },
    {
      "cell_type": "code",
      "source": [
        "tf.random.set_seed(245)"
      ],
      "metadata": {
        "id": "0FAZwH_2GFOA"
      },
      "execution_count": null,
      "outputs": []
    },
    {
      "cell_type": "code",
      "source": [
        "model2 = tf.keras.models.Sequential([\n",
        "\n",
        "    # Input:\n",
        "    tf.keras.layers.Input(shape=(640, 640,  3)),                                # This are the dimensions from our input data\n",
        "\n",
        "    # Reescaling Layers:\n",
        "    tf.keras.layers.Rescaling(1./255),                                          # Normalizing our data by reescaling the pixels\n",
        "\n",
        "    # Hidden Layer 1:\n",
        "    tf.keras.layers.Conv2D(6, (3,3), activation = tf.nn.relu),                 # This layers will apply filters with a convolutional network\n",
        "                                                                                # 3,3 --> pixels          6 --> number of differents types of filters\n",
        "    # Reducing Layer:\n",
        "    tf.keras.layers.MaxPooling2D(2,2),                                          # This layers will reduce the dimensionality of the feature maps\n",
        "\n",
        "    # Flattening Layers:\n",
        "    tf.keras.layers.Flatten(),                                                  # Flattening our data to 1 dimension\n",
        "\n",
        "    # Hidden Layer 2:\n",
        "    tf.keras.layers.Dense(128,activation=tf.nn.relu),                           # Dense Layer will do the \"math\" for getting our results\n",
        "\n",
        "    # Output:\n",
        "    tf.keras.layers.Dense(3, activation=tf.nn.softmax)                          # Softmax activation is used for cathegorical data and 3 are the dimensions in our dataset\n",
        "])"
      ],
      "metadata": {
        "id": "zZCJoI5zUZfT"
      },
      "execution_count": null,
      "outputs": []
    },
    {
      "cell_type": "code",
      "source": [
        "model2.compile(optimizer = tf.keras.optimizers.Adam(),\n",
        "              loss = 'sparse_categorical_crossentropy',\n",
        "              metrics=['accuracy'])"
      ],
      "metadata": {
        "id": "Dqtp_79aVyPf"
      },
      "execution_count": null,
      "outputs": []
    },
    {
      "cell_type": "code",
      "source": [
        "epocas = 20\n",
        "history = model2.fit(\n",
        "    train,\n",
        "    validation_data = validation,\n",
        "    epochs = epocas\n",
        ")"
      ],
      "metadata": {
        "id": "1_Ezf6HmW4Oz",
        "colab": {
          "base_uri": "https://localhost:8080/"
        },
        "outputId": "431aaf94-8656-49bb-cc3e-826f5b1b3fa0"
      },
      "execution_count": null,
      "outputs": [
        {
          "output_type": "stream",
          "name": "stdout",
          "text": [
            "Epoch 1/20\n",
            "\u001b[1m9/9\u001b[0m \u001b[32m━━━━━━━━━━━━━━━━━━━━\u001b[0m\u001b[37m\u001b[0m \u001b[1m25s\u001b[0m 2s/step - accuracy: 0.4377 - loss: 35.5575 - val_accuracy: 0.5077 - val_loss: 4.9587\n",
            "Epoch 2/20\n",
            "\u001b[1m9/9\u001b[0m \u001b[32m━━━━━━━━━━━━━━━━━━━━\u001b[0m\u001b[37m\u001b[0m \u001b[1m27s\u001b[0m 1s/step - accuracy: 0.4065 - loss: 2.5179 - val_accuracy: 0.3308 - val_loss: 1.4565\n",
            "Epoch 3/20\n",
            "\u001b[1m9/9\u001b[0m \u001b[32m━━━━━━━━━━━━━━━━━━━━\u001b[0m\u001b[37m\u001b[0m \u001b[1m10s\u001b[0m 999ms/step - accuracy: 0.3656 - loss: 1.2019 - val_accuracy: 0.3538 - val_loss: 1.1295\n",
            "Epoch 4/20\n",
            "\u001b[1m9/9\u001b[0m \u001b[32m━━━━━━━━━━━━━━━━━━━━\u001b[0m\u001b[37m\u001b[0m \u001b[1m10s\u001b[0m 920ms/step - accuracy: 0.5572 - loss: 0.9743 - val_accuracy: 0.5000 - val_loss: 1.0804\n",
            "Epoch 5/20\n",
            "\u001b[1m9/9\u001b[0m \u001b[32m━━━━━━━━━━━━━━━━━━━━\u001b[0m\u001b[37m\u001b[0m \u001b[1m9s\u001b[0m 919ms/step - accuracy: 0.7297 - loss: 0.9142 - val_accuracy: 0.4769 - val_loss: 1.0667\n",
            "Epoch 6/20\n",
            "\u001b[1m9/9\u001b[0m \u001b[32m━━━━━━━━━━━━━━━━━━━━\u001b[0m\u001b[37m\u001b[0m \u001b[1m11s\u001b[0m 1s/step - accuracy: 0.7712 - loss: 0.8330 - val_accuracy: 0.4769 - val_loss: 1.2290\n",
            "Epoch 7/20\n",
            "\u001b[1m9/9\u001b[0m \u001b[32m━━━━━━━━━━━━━━━━━━━━\u001b[0m\u001b[37m\u001b[0m \u001b[1m10s\u001b[0m 1s/step - accuracy: 0.6850 - loss: 0.7153 - val_accuracy: 0.4846 - val_loss: 1.0734\n",
            "Epoch 8/20\n",
            "\u001b[1m9/9\u001b[0m \u001b[32m━━━━━━━━━━━━━━━━━━━━\u001b[0m\u001b[37m\u001b[0m \u001b[1m9s\u001b[0m 906ms/step - accuracy: 0.7573 - loss: 0.6665 - val_accuracy: 0.5154 - val_loss: 1.1996\n",
            "Epoch 9/20\n",
            "\u001b[1m9/9\u001b[0m \u001b[32m━━━━━━━━━━━━━━━━━━━━\u001b[0m\u001b[37m\u001b[0m \u001b[1m10s\u001b[0m 902ms/step - accuracy: 0.8006 - loss: 0.5392 - val_accuracy: 0.5462 - val_loss: 1.2790\n",
            "Epoch 10/20\n",
            "\u001b[1m9/9\u001b[0m \u001b[32m━━━━━━━━━━━━━━━━━━━━\u001b[0m\u001b[37m\u001b[0m \u001b[1m8s\u001b[0m 870ms/step - accuracy: 0.8356 - loss: 0.4642 - val_accuracy: 0.5231 - val_loss: 1.2817\n",
            "Epoch 11/20\n",
            "\u001b[1m9/9\u001b[0m \u001b[32m━━━━━━━━━━━━━━━━━━━━\u001b[0m\u001b[37m\u001b[0m \u001b[1m10s\u001b[0m 887ms/step - accuracy: 0.8855 - loss: 0.3790 - val_accuracy: 0.5000 - val_loss: 1.3219\n",
            "Epoch 12/20\n",
            "\u001b[1m9/9\u001b[0m \u001b[32m━━━━━━━━━━━━━━━━━━━━\u001b[0m\u001b[37m\u001b[0m \u001b[1m10s\u001b[0m 866ms/step - accuracy: 0.9270 - loss: 0.2844 - val_accuracy: 0.5385 - val_loss: 1.3520\n",
            "Epoch 13/20\n",
            "\u001b[1m9/9\u001b[0m \u001b[32m━━━━━━━━━━━━━━━━━━━━\u001b[0m\u001b[37m\u001b[0m \u001b[1m11s\u001b[0m 998ms/step - accuracy: 0.9507 - loss: 0.2148 - val_accuracy: 0.5308 - val_loss: 1.3878\n",
            "Epoch 14/20\n",
            "\u001b[1m9/9\u001b[0m \u001b[32m━━━━━━━━━━━━━━━━━━━━\u001b[0m\u001b[37m\u001b[0m \u001b[1m10s\u001b[0m 946ms/step - accuracy: 0.9411 - loss: 0.1816 - val_accuracy: 0.5231 - val_loss: 1.5469\n",
            "Epoch 15/20\n",
            "\u001b[1m9/9\u001b[0m \u001b[32m━━━━━━━━━━━━━━━━━━━━\u001b[0m\u001b[37m\u001b[0m \u001b[1m9s\u001b[0m 997ms/step - accuracy: 0.9788 - loss: 0.1194 - val_accuracy: 0.5308 - val_loss: 1.5872\n",
            "Epoch 16/20\n",
            "\u001b[1m9/9\u001b[0m \u001b[32m━━━━━━━━━━━━━━━━━━━━\u001b[0m\u001b[37m\u001b[0m \u001b[1m9s\u001b[0m 946ms/step - accuracy: 0.9762 - loss: 0.0929 - val_accuracy: 0.5231 - val_loss: 1.7528\n",
            "Epoch 17/20\n",
            "\u001b[1m9/9\u001b[0m \u001b[32m━━━━━━━━━━━━━━━━━━━━\u001b[0m\u001b[37m\u001b[0m \u001b[1m9s\u001b[0m 971ms/step - accuracy: 0.9830 - loss: 0.0958 - val_accuracy: 0.5154 - val_loss: 1.5903\n",
            "Epoch 18/20\n",
            "\u001b[1m9/9\u001b[0m \u001b[32m━━━━━━━━━━━━━━━━━━━━\u001b[0m\u001b[37m\u001b[0m \u001b[1m10s\u001b[0m 990ms/step - accuracy: 0.9932 - loss: 0.0521 - val_accuracy: 0.5231 - val_loss: 1.8517\n",
            "Epoch 19/20\n",
            "\u001b[1m9/9\u001b[0m \u001b[32m━━━━━━━━━━━━━━━━━━━━\u001b[0m\u001b[37m\u001b[0m \u001b[1m10s\u001b[0m 961ms/step - accuracy: 0.9961 - loss: 0.0365 - val_accuracy: 0.5231 - val_loss: 1.7980\n",
            "Epoch 20/20\n",
            "\u001b[1m9/9\u001b[0m \u001b[32m━━━━━━━━━━━━━━━━━━━━\u001b[0m\u001b[37m\u001b[0m \u001b[1m9s\u001b[0m 985ms/step - accuracy: 0.9989 - loss: 0.0300 - val_accuracy: 0.5154 - val_loss: 1.7255\n"
          ]
        }
      ]
    },
    {
      "cell_type": "code",
      "source": [
        "plot_results(history,epocas)"
      ],
      "metadata": {
        "id": "EozhBcpQX2D8",
        "colab": {
          "base_uri": "https://localhost:8080/",
          "height": 522
        },
        "outputId": "bf5b7844-8cc6-468c-862e-d686fbee0fe1"
      },
      "execution_count": null,
      "outputs": [
        {
          "output_type": "display_data",
          "data": {
            "text/plain": [
              "<Figure size 1200x600 with 2 Axes>"
            ],
            "image/png": "[encoded data removed]"
          },
          "metadata": {}
        }
      ]
    },
    {
      "cell_type": "markdown",
      "source": [
        "# Saving the model"
      ],
      "metadata": {
        "id": "AL0J72COSUQ0"
      }
    },
    {
      "cell_type": "code",
      "source": [
        "converter = tf.lite.TFLiteConverter.from_keras_model(model2)\n",
        "converter.optimizations = [tf.lite.Optimize.DEFAULT]\n",
        "converter.target_spec.supported_types = [tf.float16]\n",
        "modelo_tflite_quantizado = converter.convert()\n",
        "with open('modelo_quantizado16bits.tflite', 'wb') as f:\n",
        "    f.write(modelo_tflite_quantizado)"
      ],
      "metadata": {
        "colab": {
          "base_uri": "https://localhost:8080/"
        },
        "id": "1BjKnV9FOLSr",
        "outputId": "d0fb0e9c-884f-48cd-d857-b3e514f62ba1"
      },
      "execution_count": null,
      "outputs": [
        {
          "output_type": "stream",
          "name": "stdout",
          "text": [
            "Saved artifact at '/tmp/tmp_xy7p84e'. The following endpoints are available:\n",
            "\n",
            "* Endpoint 'serve'\n",
            "  args_0 (POSITIONAL_ONLY): TensorSpec(shape=(None, 640, 640, 3), dtype=tf.float32, name='keras_tensor_33')\n",
            "Output Type:\n",
            "  TensorSpec(shape=(None, 3), dtype=tf.float32, name=None)\n",
            "Captures:\n",
            "  134500846166512: TensorSpec(shape=(), dtype=tf.resource, name=None)\n",
            "  134500846170384: TensorSpec(shape=(), dtype=tf.resource, name=None)\n",
            "  134500846168976: TensorSpec(shape=(), dtype=tf.resource, name=None)\n",
            "  134500846172144: TensorSpec(shape=(), dtype=tf.resource, name=None)\n",
            "  134500846165280: TensorSpec(shape=(), dtype=tf.resource, name=None)\n",
            "  134500846173728: TensorSpec(shape=(), dtype=tf.resource, name=None)\n"
          ]
        }
      ]
    },
    {
      "cell_type": "code",
      "source": [],
      "metadata": {
        "id": "eMjXhnNkSf3R"
      },
      "execution_count": null,
      "outputs": []
    }
  ]
}