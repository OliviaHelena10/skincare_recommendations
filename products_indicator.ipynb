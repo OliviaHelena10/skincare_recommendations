{
 "cells": [
  {
   "cell_type": "markdown",
   "metadata": {},
   "source": [
    "# Importing libraries"
   ]
  },
  {
   "cell_type": "code",
   "execution_count": 480,
   "metadata": {},
   "outputs": [],
   "source": [
    "import pandas as pd\n",
    "import numpy as np"
   ]
  },
  {
   "cell_type": "markdown",
   "metadata": {},
   "source": [
    "# Understanding our dataset and cleaning unnecessary things"
   ]
  },
  {
   "cell_type": "code",
   "execution_count": 481,
   "metadata": {},
   "outputs": [],
   "source": [
    "path = 'C:/Users/fatima/Documents/programs/Projetos/Skin_types/skin_products/skincare.csv'"
   ]
  },
  {
   "cell_type": "code",
   "execution_count": 482,
   "metadata": {},
   "outputs": [
    {
     "data": {
      "text/html": [
       "<div>\n",
       "<style scoped>\n",
       "    .dataframe tbody tr th:only-of-type {\n",
       "        vertical-align: middle;\n",
       "    }\n",
       "\n",
       "    .dataframe tbody tr th {\n",
       "        vertical-align: top;\n",
       "    }\n",
       "\n",
       "    .dataframe thead th {\n",
       "        text-align: right;\n",
       "    }\n",
       "</style>\n",
       "<table border=\"1\" class=\"dataframe\">\n",
       "  <thead>\n",
       "    <tr style=\"text-align: right;\">\n",
       "      <th></th>\n",
       "      <th>Unnamed: 0</th>\n",
       "      <th>Title</th>\n",
       "      <th>Product</th>\n",
       "      <th>Category</th>\n",
       "      <th>Brand</th>\n",
       "      <th>Skin_Type</th>\n",
       "      <th>Number of items</th>\n",
       "      <th>Sold By</th>\n",
       "      <th>Price</th>\n",
       "      <th>Link</th>\n",
       "    </tr>\n",
       "  </thead>\n",
       "  <tbody>\n",
       "    <tr>\n",
       "      <th>0</th>\n",
       "      <td>0</td>\n",
       "      <td>Nivea Soft Light Moisturizer For Face,...</td>\n",
       "      <td>Moisturizer</td>\n",
       "      <td>SKINCARE</td>\n",
       "      <td>Nivea</td>\n",
       "      <td>All</td>\n",
       "      <td>1</td>\n",
       "      <td>AIR SALES</td>\n",
       "      <td>372</td>\n",
       "      <td>https://www.amazon.in/sspa/click?ie=UTF8&amp;spc=M...</td>\n",
       "    </tr>\n",
       "    <tr>\n",
       "      <th>1</th>\n",
       "      <td>1</td>\n",
       "      <td>Nivea Soft Playful Peach, Light Moistu...</td>\n",
       "      <td>Moisturizer</td>\n",
       "      <td>SKINCARE</td>\n",
       "      <td>Nivea</td>\n",
       "      <td>All</td>\n",
       "      <td>1</td>\n",
       "      <td>RK World Infocom Pvt Ltd</td>\n",
       "      <td>226</td>\n",
       "      <td>https://www.amazon.in/sspa/click?ie=UTF8&amp;spc=M...</td>\n",
       "    </tr>\n",
       "    <tr>\n",
       "      <th>2</th>\n",
       "      <td>2</td>\n",
       "      <td>Nivea Soft Light Moisturizer For Face,...</td>\n",
       "      <td>Moisturizer</td>\n",
       "      <td>SKINCARE</td>\n",
       "      <td>Nivea</td>\n",
       "      <td>Dry</td>\n",
       "      <td>1</td>\n",
       "      <td>MURALI RETAILS</td>\n",
       "      <td>103</td>\n",
       "      <td>https://www.amazon.in/sspa/click?ie=UTF8&amp;spc=M...</td>\n",
       "    </tr>\n",
       "    <tr>\n",
       "      <th>3</th>\n",
       "      <td>3</td>\n",
       "      <td>Biotique Morning Nectar Flawless Skin ...</td>\n",
       "      <td>Moisturizer</td>\n",
       "      <td>SKINCARE</td>\n",
       "      <td>Biotique</td>\n",
       "      <td>Combination</td>\n",
       "      <td>1</td>\n",
       "      <td>RK World Infocom Pvt Ltd</td>\n",
       "      <td>240</td>\n",
       "      <td>https://www.amazon.in/Biotique-Morning-Nectar-...</td>\n",
       "    </tr>\n",
       "    <tr>\n",
       "      <th>4</th>\n",
       "      <td>4</td>\n",
       "      <td>Minimalist Marula Oil 5% Face Moisturi...</td>\n",
       "      <td>Moisturizer</td>\n",
       "      <td>SKINCARE</td>\n",
       "      <td>Minimalist</td>\n",
       "      <td>Dry</td>\n",
       "      <td>1</td>\n",
       "      <td>Minimalist Inc</td>\n",
       "      <td>284</td>\n",
       "      <td>https://www.amazon.in/Minimalist-Moisturizer-H...</td>\n",
       "    </tr>\n",
       "  </tbody>\n",
       "</table>\n",
       "</div>"
      ],
      "text/plain": [
       "   Unnamed: 0                                              Title      Product  \\\n",
       "0           0          Nivea Soft Light Moisturizer For Face,...  Moisturizer   \n",
       "1           1          Nivea Soft Playful Peach, Light Moistu...  Moisturizer   \n",
       "2           2          Nivea Soft Light Moisturizer For Face,...  Moisturizer   \n",
       "3           3          Biotique Morning Nectar Flawless Skin ...  Moisturizer   \n",
       "4           4          Minimalist Marula Oil 5% Face Moisturi...  Moisturizer   \n",
       "\n",
       "   Category       Brand    Skin_Type  Number of items  \\\n",
       "0  SKINCARE       Nivea          All                1   \n",
       "1  SKINCARE       Nivea          All                1   \n",
       "2  SKINCARE       Nivea          Dry                1   \n",
       "3  SKINCARE    Biotique  Combination                1   \n",
       "4  SKINCARE  Minimalist          Dry                1   \n",
       "\n",
       "                    Sold By  Price  \\\n",
       "0                 AIR SALES    372   \n",
       "1  RK World Infocom Pvt Ltd    226   \n",
       "2            MURALI RETAILS    103   \n",
       "3  RK World Infocom Pvt Ltd    240   \n",
       "4            Minimalist Inc    284   \n",
       "\n",
       "                                                Link  \n",
       "0  https://www.amazon.in/sspa/click?ie=UTF8&spc=M...  \n",
       "1  https://www.amazon.in/sspa/click?ie=UTF8&spc=M...  \n",
       "2  https://www.amazon.in/sspa/click?ie=UTF8&spc=M...  \n",
       "3  https://www.amazon.in/Biotique-Morning-Nectar-...  \n",
       "4  https://www.amazon.in/Minimalist-Moisturizer-H...  "
      ]
     },
     "execution_count": 482,
     "metadata": {},
     "output_type": "execute_result"
    }
   ],
   "source": [
    "df = pd.read_csv(path)\n",
    "df.head()"
   ]
  },
  {
   "cell_type": "code",
   "execution_count": 483,
   "metadata": {},
   "outputs": [
    {
     "data": {
      "text/plain": [
       "array(['SKINCARE'], dtype=object)"
      ]
     },
     "execution_count": 483,
     "metadata": {},
     "output_type": "execute_result"
    }
   ],
   "source": [
    "# Checking the categories\n",
    "df['Category'].unique()\n",
    "\n",
    "# Since there's only one categorie, this collumn is unnecessary"
   ]
  },
  {
   "cell_type": "code",
   "execution_count": 484,
   "metadata": {},
   "outputs": [],
   "source": [
    "# dropping unecessary columns\n",
    "df = df.drop(['Unnamed: 0', 'Category', 'Number of items'], axis=1)\n",
    "\n",
    "\n",
    "# PS: The number of items would be interesting if we could check at live if the product is in stock\n",
    "#     since this isn't the case, the best action is to remove it."
   ]
  },
  {
   "cell_type": "code",
   "execution_count": 485,
   "metadata": {},
   "outputs": [
    {
     "name": "stdout",
     "output_type": "stream",
     "text": [
      "<class 'pandas.core.frame.DataFrame'>\n",
      "RangeIndex: 1438 entries, 0 to 1437\n",
      "Data columns (total 7 columns):\n",
      " #   Column     Non-Null Count  Dtype \n",
      "---  ------     --------------  ----- \n",
      " 0   Title      1438 non-null   object\n",
      " 1   Product    1438 non-null   object\n",
      " 2   Brand      1438 non-null   object\n",
      " 3   Skin_Type  1438 non-null   object\n",
      " 4   Sold By    1231 non-null   object\n",
      " 5   Price      1438 non-null   int64 \n",
      " 6   Link       1438 non-null   object\n",
      "dtypes: int64(1), object(6)\n",
      "memory usage: 78.8+ KB\n"
     ]
    }
   ],
   "source": [
    "df.info()"
   ]
  },
  {
   "cell_type": "code",
   "execution_count": 486,
   "metadata": {},
   "outputs": [
    {
     "name": "stdout",
     "output_type": "stream",
     "text": [
      "Null values: Title          0\n",
      "Product        0\n",
      "Brand          0\n",
      "Skin_Type      0\n",
      "Sold By      207\n",
      "Price          0\n",
      "Link           0\n",
      "dtype: int64\n",
      "---------------------------------\n",
      "\n",
      "\n",
      "\n",
      "NA values: Title          0\n",
      "Product        0\n",
      "Brand          0\n",
      "Skin_Type      0\n",
      "Sold By      207\n",
      "Price          0\n",
      "Link           0\n",
      "dtype: int64\n"
     ]
    }
   ],
   "source": [
    "# Checking for null/na values\n",
    "print(f'Null values: {df.isnull().sum()}')\n",
    "print('---------------------------------')\n",
    "print(f'\\n\\n\\nNA values: {df.isna().sum()}')"
   ]
  },
  {
   "cell_type": "code",
   "execution_count": 487,
   "metadata": {},
   "outputs": [],
   "source": [
    "# Sold By has lots of missing values and for our case it's not an essential information\n",
    "df = df.drop('Sold By', axis=1)"
   ]
  },
  {
   "cell_type": "code",
   "execution_count": 488,
   "metadata": {},
   "outputs": [
    {
     "name": "stdout",
     "output_type": "stream",
     "text": [
      "QTD unique values in skins type: 57\n",
      "----------------------------------\n",
      "Unique values: ['All' 'Dry' 'Combination' 'All, Combination, Sensitive, Dry, Normal'\n",
      " 'Normal' 'Sensitive, Dry' 'Oily, Acne Prone' 'Dry, Normal' 'Acne' 'Oily'\n",
      " 'Oily, Acne Prone, Sensitive' 'All, Acne' 'Dry, Normal Skin' 'All, Dry'\n",
      " 'Sensitive' 'Oily, Combination, Dry, Normal' 'Normal to Dry skin'\n",
      " 'All, Oily, Combination, Sensitive, Normal' 'Oily, Combination'\n",
      " 'All, Oily, Combination, Dry, Normal' 'All, Sensitive' 'Dry;Combination'\n",
      " 'All, especially extra-dry skin' 'Normal to Oily Skin' 'Acne, Dry'\n",
      " 'All, Combination, Normal' 'All, Oily, Combination, Sensitive, Dry'\n",
      " 'Oily, Combination, Sensitive'\n",
      " 'All, Oily, Combination, Acne Prone, Dry, Normal' 'All Skin Types,Oily'\n",
      " 'All Skin Type' 'Acne Prone' 'Acne Prone,Oily,Dry,All Skin Types'\n",
      " 'All, Oily, Sensitive, Dry, Normal'\n",
      " 'All Skin, Oily, Combination, Sensitive, Dry, Normal'\n",
      " 'Dry,All Skin Types' 'Acne Prone,All Skin Types'\n",
      " 'Oily, Combination, Sensitive, Dry, Normal' 'Acne Prone Skin'\n",
      " 'Oily, Combination, Sensitive, Dry' 'Revitalized' 'All, Oily'\n",
      " 'All, Oily, Acne Prone Skin, Sensitive, Dry'\n",
      " 'Oily, Sensitive, Dry, Normal' 'All, Oily, Acne Prone Skin, Sensitive'\n",
      " 'All, Acne Prone Skin, Combination, Sensitive, Dry'\n",
      " 'Oily, Combination, Dry' 'Oily, Dry, Normal' 'All, Combination, Dry'\n",
      " 'All, Oily, Acne Prone Skin, Combination, Normal'\n",
      " 'All, Combination, Sensitive'\n",
      " 'All, Oily, Acne Prone Skin, Combination, Sensitive'\n",
      " 'All, Oily, Dry, Normal' 'Dullness, Oily, Dry' 'All, Sensitive, Dry'\n",
      " 'Normal to Dry' 'Dull, Dehydrated, Cracked, Dry, Rough']\n"
     ]
    }
   ],
   "source": [
    "print(f'QTD unique values in skins type: {df[\"Skin_Type\"].nunique()}')\n",
    "print('----------------------------------')\n",
    "print(f'Unique values: {df[\"Skin_Type\"].unique()}')"
   ]
  },
  {
   "cell_type": "code",
   "execution_count": 489,
   "metadata": {},
   "outputs": [],
   "source": [
    "# Transforming the information in our column in lists os values\n",
    "df['Skin_Type'] = df['Skin_Type'].apply(lambda x: x.split(', '))"
   ]
  },
  {
   "cell_type": "code",
   "execution_count": 490,
   "metadata": {},
   "outputs": [
    {
     "data": {
      "text/plain": [
       "array(['Moisturizer', 'Primer', 'Facial sprays', 'Hand cream',\n",
       "       'Nail paint'], dtype=object)"
      ]
     },
     "execution_count": 490,
     "metadata": {},
     "output_type": "execute_result"
    }
   ],
   "source": [
    "# Looking for all the unique products\n",
    "df['Product'].unique()"
   ]
  },
  {
   "cell_type": "code",
   "execution_count": 491,
   "metadata": {},
   "outputs": [
    {
     "data": {
      "text/html": [
       "<div>\n",
       "<style scoped>\n",
       "    .dataframe tbody tr th:only-of-type {\n",
       "        vertical-align: middle;\n",
       "    }\n",
       "\n",
       "    .dataframe tbody tr th {\n",
       "        vertical-align: top;\n",
       "    }\n",
       "\n",
       "    .dataframe thead th {\n",
       "        text-align: right;\n",
       "    }\n",
       "</style>\n",
       "<table border=\"1\" class=\"dataframe\">\n",
       "  <thead>\n",
       "    <tr style=\"text-align: right;\">\n",
       "      <th></th>\n",
       "      <th>Title</th>\n",
       "      <th>Product</th>\n",
       "      <th>Brand</th>\n",
       "      <th>Skin_Type</th>\n",
       "      <th>Price</th>\n",
       "      <th>Link</th>\n",
       "    </tr>\n",
       "  </thead>\n",
       "  <tbody>\n",
       "    <tr>\n",
       "      <th>0</th>\n",
       "      <td>Nivea Soft Light Moisturizer For Face,...</td>\n",
       "      <td>Moisturizer</td>\n",
       "      <td>Nivea</td>\n",
       "      <td>[All]</td>\n",
       "      <td>372</td>\n",
       "      <td>https://www.amazon.in/sspa/click?ie=UTF8&amp;spc=M...</td>\n",
       "    </tr>\n",
       "    <tr>\n",
       "      <th>1</th>\n",
       "      <td>Nivea Soft Playful Peach, Light Moistu...</td>\n",
       "      <td>Moisturizer</td>\n",
       "      <td>Nivea</td>\n",
       "      <td>[All]</td>\n",
       "      <td>226</td>\n",
       "      <td>https://www.amazon.in/sspa/click?ie=UTF8&amp;spc=M...</td>\n",
       "    </tr>\n",
       "    <tr>\n",
       "      <th>2</th>\n",
       "      <td>Nivea Soft Light Moisturizer For Face,...</td>\n",
       "      <td>Moisturizer</td>\n",
       "      <td>Nivea</td>\n",
       "      <td>[Dry]</td>\n",
       "      <td>103</td>\n",
       "      <td>https://www.amazon.in/sspa/click?ie=UTF8&amp;spc=M...</td>\n",
       "    </tr>\n",
       "    <tr>\n",
       "      <th>3</th>\n",
       "      <td>Biotique Morning Nectar Flawless Skin ...</td>\n",
       "      <td>Moisturizer</td>\n",
       "      <td>Biotique</td>\n",
       "      <td>[Combination]</td>\n",
       "      <td>240</td>\n",
       "      <td>https://www.amazon.in/Biotique-Morning-Nectar-...</td>\n",
       "    </tr>\n",
       "    <tr>\n",
       "      <th>4</th>\n",
       "      <td>Minimalist Marula Oil 5% Face Moisturi...</td>\n",
       "      <td>Moisturizer</td>\n",
       "      <td>Minimalist</td>\n",
       "      <td>[Dry]</td>\n",
       "      <td>284</td>\n",
       "      <td>https://www.amazon.in/Minimalist-Moisturizer-H...</td>\n",
       "    </tr>\n",
       "    <tr>\n",
       "      <th>...</th>\n",
       "      <td>...</td>\n",
       "      <td>...</td>\n",
       "      <td>...</td>\n",
       "      <td>...</td>\n",
       "      <td>...</td>\n",
       "      <td>...</td>\n",
       "    </tr>\n",
       "    <tr>\n",
       "      <th>855</th>\n",
       "      <td>evanhealy Heat of Summer HydroSoul Fac...</td>\n",
       "      <td>Facial sprays</td>\n",
       "      <td>Evanhealy</td>\n",
       "      <td>[All]</td>\n",
       "      <td>6358</td>\n",
       "      <td>https://www.amazon.in/evanhealy-HydroSoul-Hydr...</td>\n",
       "    </tr>\n",
       "    <tr>\n",
       "      <th>856</th>\n",
       "      <td>D'MOKSHA Wine Vine Face Toner, Face Mi...</td>\n",
       "      <td>Facial sprays</td>\n",
       "      <td>D'MOKSHA</td>\n",
       "      <td>[Acne Prone Skin]</td>\n",
       "      <td>300</td>\n",
       "      <td>https://www.amazon.in/sspa/click?ie=UTF8&amp;spc=M...</td>\n",
       "    </tr>\n",
       "    <tr>\n",
       "      <th>857</th>\n",
       "      <td>Love Earth Jasmine Mogra Face Mist Ton...</td>\n",
       "      <td>Facial sprays</td>\n",
       "      <td>Love Earth</td>\n",
       "      <td>[All]</td>\n",
       "      <td>199</td>\n",
       "      <td>https://www.amazon.in/sspa/click?ie=UTF8&amp;spc=M...</td>\n",
       "    </tr>\n",
       "    <tr>\n",
       "      <th>858</th>\n",
       "      <td>EcstaCBeauty Cure Skin Anti-Breakout F...</td>\n",
       "      <td>Facial sprays</td>\n",
       "      <td>EcstaCBeauty</td>\n",
       "      <td>[Sensitive]</td>\n",
       "      <td>149</td>\n",
       "      <td>https://www.amazon.in/sspa/click?ie=UTF8&amp;spc=M...</td>\n",
       "    </tr>\n",
       "    <tr>\n",
       "      <th>859</th>\n",
       "      <td>ISNTREE Green Tea Fresh Facial Toner O...</td>\n",
       "      <td>Facial sprays</td>\n",
       "      <td>Isntree</td>\n",
       "      <td>[Sensitive]</td>\n",
       "      <td>1147</td>\n",
       "      <td>https://www.amazon.in/sspa/click?ie=UTF8&amp;spc=M...</td>\n",
       "    </tr>\n",
       "  </tbody>\n",
       "</table>\n",
       "<p>860 rows × 6 columns</p>\n",
       "</div>"
      ],
      "text/plain": [
       "                                                 Title        Product  \\\n",
       "0            Nivea Soft Light Moisturizer For Face,...    Moisturizer   \n",
       "1            Nivea Soft Playful Peach, Light Moistu...    Moisturizer   \n",
       "2            Nivea Soft Light Moisturizer For Face,...    Moisturizer   \n",
       "3            Biotique Morning Nectar Flawless Skin ...    Moisturizer   \n",
       "4            Minimalist Marula Oil 5% Face Moisturi...    Moisturizer   \n",
       "..                                                 ...            ...   \n",
       "855          evanhealy Heat of Summer HydroSoul Fac...  Facial sprays   \n",
       "856          D'MOKSHA Wine Vine Face Toner, Face Mi...  Facial sprays   \n",
       "857          Love Earth Jasmine Mogra Face Mist Ton...  Facial sprays   \n",
       "858          EcstaCBeauty Cure Skin Anti-Breakout F...  Facial sprays   \n",
       "859          ISNTREE Green Tea Fresh Facial Toner O...  Facial sprays   \n",
       "\n",
       "            Brand          Skin_Type  Price  \\\n",
       "0           Nivea              [All]    372   \n",
       "1           Nivea              [All]    226   \n",
       "2           Nivea              [Dry]    103   \n",
       "3        Biotique      [Combination]    240   \n",
       "4      Minimalist              [Dry]    284   \n",
       "..            ...                ...    ...   \n",
       "855     Evanhealy              [All]   6358   \n",
       "856      D'MOKSHA  [Acne Prone Skin]    300   \n",
       "857    Love Earth              [All]    199   \n",
       "858  EcstaCBeauty        [Sensitive]    149   \n",
       "859       Isntree        [Sensitive]   1147   \n",
       "\n",
       "                                                  Link  \n",
       "0    https://www.amazon.in/sspa/click?ie=UTF8&spc=M...  \n",
       "1    https://www.amazon.in/sspa/click?ie=UTF8&spc=M...  \n",
       "2    https://www.amazon.in/sspa/click?ie=UTF8&spc=M...  \n",
       "3    https://www.amazon.in/Biotique-Morning-Nectar-...  \n",
       "4    https://www.amazon.in/Minimalist-Moisturizer-H...  \n",
       "..                                                 ...  \n",
       "855  https://www.amazon.in/evanhealy-HydroSoul-Hydr...  \n",
       "856  https://www.amazon.in/sspa/click?ie=UTF8&spc=M...  \n",
       "857  https://www.amazon.in/sspa/click?ie=UTF8&spc=M...  \n",
       "858  https://www.amazon.in/sspa/click?ie=UTF8&spc=M...  \n",
       "859  https://www.amazon.in/sspa/click?ie=UTF8&spc=M...  \n",
       "\n",
       "[860 rows x 6 columns]"
      ]
     },
     "execution_count": 491,
     "metadata": {},
     "output_type": "execute_result"
    }
   ],
   "source": [
    "# Checking the nail paints \n",
    "# filter_products = df.loc[df['Product'] == 'Nail paint']\n",
    "# print(filter_products)\n",
    "\n",
    "# Cleaning the products that are not necessary for this project\n",
    "df = df[df['Product'] != 'Nail paint']\n",
    "df = df[df['Product'] != 'Hand cream']\n",
    "df"
   ]
  },
  {
   "cell_type": "markdown",
   "metadata": {},
   "source": [
    "# Visualizations"
   ]
  },
  {
   "cell_type": "markdown",
   "metadata": {},
   "source": [
    "###  Lybraries"
   ]
  },
  {
   "cell_type": "code",
   "execution_count": 492,
   "metadata": {},
   "outputs": [],
   "source": [
    "import matplotlib.pyplot as plt\n",
    "import seaborn as sns"
   ]
  },
  {
   "cell_type": "markdown",
   "metadata": {},
   "source": [
    "### Graphics"
   ]
  },
  {
   "cell_type": "markdown",
   "metadata": {},
   "source": [
    "* Graphic 1:"
   ]
  },
  {
   "cell_type": "code",
   "execution_count": 493,
   "metadata": {},
   "outputs": [
    {
     "data": {
      "image/png": "[encoded data removed]",
      "text/plain": [
       "<Figure size 640x480 with 1 Axes>"
      ]
     },
     "metadata": {},
     "output_type": "display_data"
    }
   ],
   "source": [
    "# variables\n",
    "count_fs = (df['Product'] == 'Facial sprays').sum()\n",
    "count_m =  (df['Product'] == 'Moisturizer').sum()\n",
    "count_p =  (df['Product'] == 'Primer').sum()\n",
    "\n",
    "# Values for the plot\n",
    "values_prod = [count_m,  count_p, count_fs]\n",
    "products = list(df['Product'].unique())\n",
    "\n",
    "\"\"\" CHECKING THE VALUES\n",
    "print(values_prod)\n",
    "print(products)\n",
    "r = 0\n",
    "for i in values_prod:           # r must be 860\n",
    "    r += i\n",
    "print(r)\n",
    "\"\"\"\n",
    "\n",
    "# Graph\n",
    "fig, ax = plt.subplots()\n",
    "ax.pie(values_prod, \n",
    "       labels = products, \n",
    "       autopct='%1.1f%%', \n",
    "       colors=['orchid', 'palevioletred', 'thistle'])\n",
    "\n",
    "\n",
    "ax.set_title('Products are equally distributed', fontweight= 'roman', fontsize=20)\n",
    "\n",
    "plt.show()\n"
   ]
  },
  {
   "cell_type": "markdown",
   "metadata": {},
   "source": [
    "* Graphic 2:"
   ]
  },
  {
   "cell_type": "code",
   "execution_count": 494,
   "metadata": {},
   "outputs": [],
   "source": [
    "# This function calculates the frequency tha each brand appears in our DF - Different products on Sale\n",
    "def count_brand(df, brand):\n",
    "    c=0\n",
    "    for i in df:\n",
    "        if i == brand:\n",
    "            c +=1\n",
    "    return c\n",
    "\n",
    "# I chose to heighlight brands that can be easily found in Brasil\n",
    "nivea       = count_brand(df['Brand'], 'Nivea')\n",
    "cetaphil    = count_brand(df['Brand'], 'Cetaphil')\n",
    "neutrogena  = count_brand(df['Brand'], 'Neutrogena')\n",
    "bioderma    = count_brand(df['Brand'], 'Bioderma')\n",
    "loreal      = count_brand(df['Brand'], \"L'Oreal Paris\")\n",
    "cerave      = count_brand(df['Brand'], 'CeraVe')\n",
    "la_roche    = count_brand(df['Brand'], 'La Roche-Posay')\n",
    "garnier     = count_brand(df['Brand'], 'Garnier')\n",
    "dove        = count_brand(df['Brand'], 'Dove')\n",
    "maybelline  = count_brand(df['Brand'], 'Maybelline')\n",
    "\n",
    "# Saving results in a list with the same order\n",
    "values = [nivea, cetaphil, neutrogena, bioderma, loreal, cerave, la_roche, garnier, dove, maybelline]\n",
    "brand = ['Nivea', 'Cetaphil', 'Neutrogena', 'Bioderma', \"L'Oreal Paris\", \n",
    "         'CeraVe', 'La Roche-Posay', 'Garnier', 'Dove', 'Maybelline']\n",
    "\n",
    "data = { 'Brand' : brand, 'Values': values}\n",
    "\n",
    "# Sorting our values in decrecent order\n",
    "data = (pd.DataFrame(data)).sort_values(by='Values', ascending=True)\n"
   ]
  },
  {
   "cell_type": "code",
   "execution_count": 495,
   "metadata": {},
   "outputs": [
    {
     "data": {
      "image/png": "[encoded data removed]",
      "text/plain": [
       "<Figure size 640x480 with 1 Axes>"
      ]
     },
     "metadata": {},
     "output_type": "display_data"
    }
   ],
   "source": [
    "# Visualizing informations\n",
    "fig, ax = plt.subplots()\n",
    "ax.barh(data['Brand'], data['Values'],\n",
    "        color = ['slategray', 'slategray', 'slategray', \n",
    "                 'slategray', 'slategray','slategray', \n",
    "                 'cornflowerblue', 'cornflowerblue', \n",
    "                 'cornflowerblue', 'royalblue'])\n",
    "\n",
    "# Titles\n",
    "plt.title('Nivea is the brand with most products availabel', fontweight= 'roman', fontsize=20, x=0.4, y=1.22)\n",
    "plt.suptitle('Followed by Neutrogena, Maybelline and Cetaphil that have 5 or more products', fontweight='light', x=0.44 ,y=1.05)\n",
    "\n",
    "plt.xlabel('Different products availabel', loc='right')\n",
    "\n",
    "# Removing lines\n",
    "ax.spines['right'].set_visible(False)\n",
    "ax.spines['left'].set_visible(False)\n",
    "ax.spines['bottom'].set_visible(False)\n",
    "\n",
    "# Moving xlabel to the top\n",
    "ax.xaxis.set_ticks_position('top')\n",
    "ax.xaxis.set_label_position('top')\n",
    "\n",
    "plt.show()"
   ]
  },
  {
   "cell_type": "markdown",
   "metadata": {},
   "source": [
    "* Graph 3"
   ]
  },
  {
   "cell_type": "code",
   "execution_count": 496,
   "metadata": {},
   "outputs": [],
   "source": [
    "# This function calculates the avg price for each brand\n",
    "def mean_price_b(df, b):\n",
    "    product_prices = df[df['Brand'] == b]['Price']\n",
    "    \n",
    "    if len(product_prices) == 0:\n",
    "        return f\"Brand {b} not found.\"\n",
    "\n",
    "    return product_prices.mean()\n",
    "\n",
    "# I chose to heighlight brands that can be easily found in Brasil\n",
    "nivea       = mean_price_b(df, 'Nivea')\n",
    "cetaphil    = mean_price_b(df, 'Cetaphil')\n",
    "neutrogena  = mean_price_b(df, 'Neutrogena')\n",
    "bioderma    = mean_price_b(df, 'Bioderma')\n",
    "loreal      = mean_price_b(df, \"L'Oreal Paris\")\n",
    "cerave      = mean_price_b(df, 'CeraVe')\n",
    "la_roche    = mean_price_b(df, 'La Roche-Posay')\n",
    "garnier     = mean_price_b(df, 'Garnier')\n",
    "dove        = mean_price_b(df, 'Dove')\n",
    "maybelline  = mean_price_b(df, 'Maybelline')\n",
    "\n",
    "# Saving parameter\n",
    "mean_b = [nivea, cetaphil, neutrogena, bioderma, loreal, cerave, la_roche, garnier, dove, maybelline]\n",
    "\n",
    "mean_b = { 'Brand' : brand, 'Mean': mean_b}\n",
    "\n",
    "# Sorting our values in decrecent order\n",
    "mean_b = (pd.DataFrame(mean_b)).sort_values(by='Mean', ascending=False)\n"
   ]
  },
  {
   "cell_type": "code",
   "execution_count": 497,
   "metadata": {},
   "outputs": [
    {
     "data": {
      "image/png": "[encoded data removed]",
      "text/plain": [
       "<Figure size 640x480 with 1 Axes>"
      ]
     },
     "metadata": {},
     "output_type": "display_data"
    }
   ],
   "source": [
    "fig, ax = plt.subplots()\n",
    "ax.barh(mean_b['Brand'], mean_b['Mean'],\n",
    "       color = [ 'slategray', 'slategray','slategray', \n",
    "                'slategray', 'slategray', 'cornflowerblue',\n",
    "                'cornflowerblue','cornflowerblue', 'slategray', \n",
    "                'cornflowerblue'])\n",
    "\n",
    "\n",
    "# Titles\n",
    "plt.title('Cheapest brands in general', fontweight= 'roman', fontsize=20, x=0.1, y=1.1)\n",
    "plt.suptitle('The brands with most products availabel are the ones with the cheapest products', x=0.44, y=0.95)\n",
    "plt.xlabel('Price mean')\n",
    "\n",
    "\n",
    "# Removing lines\n",
    "ax.spines['right'].set_visible(False)\n",
    "ax.spines['top'].set_visible(False)\n",
    "\n",
    "plt.show()"
   ]
  },
  {
   "cell_type": "markdown",
   "metadata": {},
   "source": [
    "* Graph 4"
   ]
  },
  {
   "cell_type": "code",
   "execution_count": 498,
   "metadata": {},
   "outputs": [],
   "source": [
    "# This function calculates the avg price for each product\n",
    "def mean_price(df, p):\n",
    "    product_prices = df[df['Product'] == p]['Price']\n",
    "    \n",
    "    if len(product_prices) == 0:\n",
    "        return f\"Product {p} not found.\"\n",
    "\n",
    "    return product_prices.mean()\n",
    "\n",
    "# Calling function\n",
    "moist_mean = mean_price(df, \"Moisturizer\")\n",
    "primer_mean = mean_price(df, \"Primer\")\n",
    "spray_mean = mean_price(df, \"Facial sprays\")\n",
    "\n",
    "# Saving parameter\n",
    "means = [moist_mean, primer_mean, spray_mean]\n",
    "mean_p = { 'Product' : products, 'Mean': means}\n",
    "\n",
    "# Sorting our values in decrecent order\n",
    "mean_p = (pd.DataFrame(mean_p)).sort_values(by='Mean', ascending=False)\n"
   ]
  },
  {
   "cell_type": "code",
   "execution_count": 499,
   "metadata": {},
   "outputs": [
    {
     "data": {
      "image/png": "[encoded data removed]",
      "text/plain": [
       "<Figure size 640x480 with 1 Axes>"
      ]
     },
     "metadata": {},
     "output_type": "display_data"
    }
   ],
   "source": [
    "fig, ax = plt.subplots()\n",
    "ax.bar(mean_p['Product'], mean_p['Mean'],\n",
    "       color = ['slategray', 'slategray', 'magenta',])\n",
    "\n",
    "\n",
    "# Titles\n",
    "plt.title('Moisturizer is the cheaper product', fontweight= 'roman', fontsize=20, x=0.3)\n",
    "\n",
    "plt.ylabel('Price mean')\n",
    "\n",
    "\n",
    "# Removing lines\n",
    "ax.spines['right'].set_visible(False)\n",
    "ax.spines['top'].set_visible(False)\n",
    "\n",
    "plt.show()\n"
   ]
  },
  {
   "cell_type": "markdown",
   "metadata": {},
   "source": [
    "# Apllying filters to get the best product for our client"
   ]
  },
  {
   "cell_type": "code",
   "execution_count": 500,
   "metadata": {},
   "outputs": [],
   "source": [
    "# This function gets the result of the image classifier model\n"
   ]
  },
  {
   "cell_type": "code",
   "execution_count": 501,
   "metadata": {},
   "outputs": [],
   "source": [
    "# This function finds the products for the clients skin\n",
    "def finds_product(client_skin, df):\n",
    "    return df[df['Skin_Type'].apply(lambda x: client_skin in x)]\n",
    "\n",
    "result = finds_product('Dry', df)"
   ]
  },
  {
   "cell_type": "code",
   "execution_count": 502,
   "metadata": {},
   "outputs": [
    {
     "data": {
      "text/html": [
       "<div>\n",
       "<style scoped>\n",
       "    .dataframe tbody tr th:only-of-type {\n",
       "        vertical-align: middle;\n",
       "    }\n",
       "\n",
       "    .dataframe tbody tr th {\n",
       "        vertical-align: top;\n",
       "    }\n",
       "\n",
       "    .dataframe thead th {\n",
       "        text-align: right;\n",
       "    }\n",
       "</style>\n",
       "<table border=\"1\" class=\"dataframe\">\n",
       "  <thead>\n",
       "    <tr style=\"text-align: right;\">\n",
       "      <th></th>\n",
       "      <th>Title</th>\n",
       "      <th>Product</th>\n",
       "      <th>Brand</th>\n",
       "      <th>Skin_Type</th>\n",
       "      <th>Price</th>\n",
       "      <th>Link</th>\n",
       "    </tr>\n",
       "  </thead>\n",
       "  <tbody>\n",
       "    <tr>\n",
       "      <th>2</th>\n",
       "      <td>Nivea Soft Light Moisturizer For Face,...</td>\n",
       "      <td>Moisturizer</td>\n",
       "      <td>Nivea</td>\n",
       "      <td>[Dry]</td>\n",
       "      <td>103</td>\n",
       "      <td>https://www.amazon.in/sspa/click?ie=UTF8&amp;spc=M...</td>\n",
       "    </tr>\n",
       "    <tr>\n",
       "      <th>4</th>\n",
       "      <td>Minimalist Marula Oil 5% Face Moisturi...</td>\n",
       "      <td>Moisturizer</td>\n",
       "      <td>Minimalist</td>\n",
       "      <td>[Dry]</td>\n",
       "      <td>284</td>\n",
       "      <td>https://www.amazon.in/Minimalist-Moisturizer-H...</td>\n",
       "    </tr>\n",
       "    <tr>\n",
       "      <th>5</th>\n",
       "      <td>Cetaphil Moisturizing Lotion for Norma...</td>\n",
       "      <td>Moisturizer</td>\n",
       "      <td>Cetaphil</td>\n",
       "      <td>[All, Combination, Sensitive, Dry, Normal]</td>\n",
       "      <td>413</td>\n",
       "      <td>https://www.amazon.in/Cetaphil-Moisturizing-Lo...</td>\n",
       "    </tr>\n",
       "    <tr>\n",
       "      <th>10</th>\n",
       "      <td>Parachute Advansed Deep Nourish Body L...</td>\n",
       "      <td>Moisturizer</td>\n",
       "      <td>Parachute Advansed</td>\n",
       "      <td>[Dry]</td>\n",
       "      <td>167</td>\n",
       "      <td>https://www.amazon.in/Parachute-Advansed-Body-...</td>\n",
       "    </tr>\n",
       "    <tr>\n",
       "      <th>12</th>\n",
       "      <td>Cetaphil DAM Daily Advance Ultra Hydra...</td>\n",
       "      <td>Moisturizer</td>\n",
       "      <td>Cetaphil</td>\n",
       "      <td>[Sensitive, Dry]</td>\n",
       "      <td>199</td>\n",
       "      <td>https://www.amazon.in/Cetaphil-Daily-Advance-H...</td>\n",
       "    </tr>\n",
       "    <tr>\n",
       "      <th>...</th>\n",
       "      <td>...</td>\n",
       "      <td>...</td>\n",
       "      <td>...</td>\n",
       "      <td>...</td>\n",
       "      <td>...</td>\n",
       "      <td>...</td>\n",
       "    </tr>\n",
       "    <tr>\n",
       "      <th>814</th>\n",
       "      <td>WishCare 100% Pure &amp; Natural Rose Wate...</td>\n",
       "      <td>Facial sprays</td>\n",
       "      <td>WishCare</td>\n",
       "      <td>[Oily, Combination, Sensitive, Dry, Normal]</td>\n",
       "      <td>349</td>\n",
       "      <td>https://www.amazon.in/WishCare%C2%AE-Pure-Natu...</td>\n",
       "    </tr>\n",
       "    <tr>\n",
       "      <th>815</th>\n",
       "      <td>Biotic Herbs Pure &amp; Natural Premium Gu...</td>\n",
       "      <td>Facial sprays</td>\n",
       "      <td>Biotic Herbs</td>\n",
       "      <td>[All, Oily, Combination, Sensitive, Dry]</td>\n",
       "      <td>229</td>\n",
       "      <td>https://www.amazon.in/Biotic-Herbs-Natural-Pre...</td>\n",
       "    </tr>\n",
       "    <tr>\n",
       "      <th>818</th>\n",
       "      <td>Heroic rose mist 100% Pure and natural...</td>\n",
       "      <td>Facial sprays</td>\n",
       "      <td>HEROIC</td>\n",
       "      <td>[All, Oily, Dry, Normal]</td>\n",
       "      <td>190</td>\n",
       "      <td>https://www.amazon.in/Heroic-rose-mist-natural...</td>\n",
       "    </tr>\n",
       "    <tr>\n",
       "      <th>821</th>\n",
       "      <td>Herbsense Pure Rose Water/Gulab Jal Sp...</td>\n",
       "      <td>Facial sprays</td>\n",
       "      <td>Herbsense</td>\n",
       "      <td>[Oily, Combination, Sensitive, Dry, Normal]</td>\n",
       "      <td>449</td>\n",
       "      <td>https://www.amazon.in/Herbsense-Hydrating-Refr...</td>\n",
       "    </tr>\n",
       "    <tr>\n",
       "      <th>854</th>\n",
       "      <td>Noiant Face Mist infused with Cucumber...</td>\n",
       "      <td>Facial sprays</td>\n",
       "      <td>NOIANT</td>\n",
       "      <td>[Dullness, Oily, Dry]</td>\n",
       "      <td>395</td>\n",
       "      <td>https://www.amazon.in/NOIANT-Cucumber-Chamomil...</td>\n",
       "    </tr>\n",
       "  </tbody>\n",
       "</table>\n",
       "<p>122 rows × 6 columns</p>\n",
       "</div>"
      ],
      "text/plain": [
       "                                                 Title        Product  \\\n",
       "2            Nivea Soft Light Moisturizer For Face,...    Moisturizer   \n",
       "4            Minimalist Marula Oil 5% Face Moisturi...    Moisturizer   \n",
       "5            Cetaphil Moisturizing Lotion for Norma...    Moisturizer   \n",
       "10           Parachute Advansed Deep Nourish Body L...    Moisturizer   \n",
       "12           Cetaphil DAM Daily Advance Ultra Hydra...    Moisturizer   \n",
       "..                                                 ...            ...   \n",
       "814          WishCare 100% Pure & Natural Rose Wate...  Facial sprays   \n",
       "815          Biotic Herbs Pure & Natural Premium Gu...  Facial sprays   \n",
       "818          Heroic rose mist 100% Pure and natural...  Facial sprays   \n",
       "821          Herbsense Pure Rose Water/Gulab Jal Sp...  Facial sprays   \n",
       "854          Noiant Face Mist infused with Cucumber...  Facial sprays   \n",
       "\n",
       "                  Brand                                    Skin_Type  Price  \\\n",
       "2                 Nivea                                        [Dry]    103   \n",
       "4            Minimalist                                        [Dry]    284   \n",
       "5              Cetaphil   [All, Combination, Sensitive, Dry, Normal]    413   \n",
       "10   Parachute Advansed                                        [Dry]    167   \n",
       "12             Cetaphil                             [Sensitive, Dry]    199   \n",
       "..                  ...                                          ...    ...   \n",
       "814            WishCare  [Oily, Combination, Sensitive, Dry, Normal]    349   \n",
       "815        Biotic Herbs     [All, Oily, Combination, Sensitive, Dry]    229   \n",
       "818              HEROIC                     [All, Oily, Dry, Normal]    190   \n",
       "821           Herbsense  [Oily, Combination, Sensitive, Dry, Normal]    449   \n",
       "854              NOIANT                        [Dullness, Oily, Dry]    395   \n",
       "\n",
       "                                                  Link  \n",
       "2    https://www.amazon.in/sspa/click?ie=UTF8&spc=M...  \n",
       "4    https://www.amazon.in/Minimalist-Moisturizer-H...  \n",
       "5    https://www.amazon.in/Cetaphil-Moisturizing-Lo...  \n",
       "10   https://www.amazon.in/Parachute-Advansed-Body-...  \n",
       "12   https://www.amazon.in/Cetaphil-Daily-Advance-H...  \n",
       "..                                                 ...  \n",
       "814  https://www.amazon.in/WishCare%C2%AE-Pure-Natu...  \n",
       "815  https://www.amazon.in/Biotic-Herbs-Natural-Pre...  \n",
       "818  https://www.amazon.in/Heroic-rose-mist-natural...  \n",
       "821  https://www.amazon.in/Herbsense-Hydrating-Refr...  \n",
       "854  https://www.amazon.in/NOIANT-Cucumber-Chamomil...  \n",
       "\n",
       "[122 rows x 6 columns]"
      ]
     },
     "execution_count": 502,
     "metadata": {},
     "output_type": "execute_result"
    }
   ],
   "source": [
    "result"
   ]
  },
  {
   "cell_type": "code",
   "execution_count": 503,
   "metadata": {},
   "outputs": [],
   "source": [
    "# Importing libraries to create a report with all the products \n",
    "# for the clients skin type\n",
    "from tabulate import tabulate\n",
    "from fpdf import FPDF"
   ]
  },
  {
   "cell_type": "code",
   "execution_count": null,
   "metadata": {},
   "outputs": [],
   "source": []
  }
 ],
 "metadata": {
  "kernelspec": {
   "display_name": "Python 3",
   "language": "python",
   "name": "python3"
  },
  "language_info": {
   "codemirror_mode": {
    "name": "ipython",
    "version": 3
   },
   "file_extension": ".py",
   "mimetype": "text/x-python",
   "name": "python",
   "nbconvert_exporter": "python",
   "pygments_lexer": "ipython3",
   "version": "3.11.7"
  }
 },
 "nbformat": 4,
 "nbformat_minor": 2
}
