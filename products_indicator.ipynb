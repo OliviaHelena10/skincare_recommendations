{
 "cells": [
  {
   "cell_type": "markdown",
   "metadata": {},
   "source": [
    "# Importing libraries"
   ]
  },
  {
   "cell_type": "code",
   "execution_count": 85,
   "metadata": {},
   "outputs": [],
   "source": [
    "import pandas as pd\n",
    "import numpy as np"
   ]
  },
  {
   "cell_type": "markdown",
   "metadata": {},
   "source": [
    "# Understanding our dataset and cleaning unnecessary things"
   ]
  },
  {
   "cell_type": "code",
   "execution_count": 86,
   "metadata": {},
   "outputs": [],
   "source": [
    "path = 'C:/Users/fatima/Documents/programs/Projetos/Skin_types/skin_products/skincare.csv'"
   ]
  },
  {
   "cell_type": "code",
   "execution_count": 87,
   "metadata": {},
   "outputs": [
    {
     "data": {
      "text/html": [
       "<div>\n",
       "<style scoped>\n",
       "    .dataframe tbody tr th:only-of-type {\n",
       "        vertical-align: middle;\n",
       "    }\n",
       "\n",
       "    .dataframe tbody tr th {\n",
       "        vertical-align: top;\n",
       "    }\n",
       "\n",
       "    .dataframe thead th {\n",
       "        text-align: right;\n",
       "    }\n",
       "</style>\n",
       "<table border=\"1\" class=\"dataframe\">\n",
       "  <thead>\n",
       "    <tr style=\"text-align: right;\">\n",
       "      <th></th>\n",
       "      <th>Unnamed: 0</th>\n",
       "      <th>Title</th>\n",
       "      <th>Product</th>\n",
       "      <th>Category</th>\n",
       "      <th>Brand</th>\n",
       "      <th>Skin_Type</th>\n",
       "      <th>Number of items</th>\n",
       "      <th>Sold By</th>\n",
       "      <th>Price</th>\n",
       "      <th>Link</th>\n",
       "    </tr>\n",
       "  </thead>\n",
       "  <tbody>\n",
       "    <tr>\n",
       "      <th>0</th>\n",
       "      <td>0</td>\n",
       "      <td>Nivea Soft Light Moisturizer For Face,...</td>\n",
       "      <td>Moisturizer</td>\n",
       "      <td>SKINCARE</td>\n",
       "      <td>Nivea</td>\n",
       "      <td>All</td>\n",
       "      <td>1</td>\n",
       "      <td>AIR SALES</td>\n",
       "      <td>372</td>\n",
       "      <td>https://www.amazon.in/sspa/click?ie=UTF8&amp;spc=M...</td>\n",
       "    </tr>\n",
       "    <tr>\n",
       "      <th>1</th>\n",
       "      <td>1</td>\n",
       "      <td>Nivea Soft Playful Peach, Light Moistu...</td>\n",
       "      <td>Moisturizer</td>\n",
       "      <td>SKINCARE</td>\n",
       "      <td>Nivea</td>\n",
       "      <td>All</td>\n",
       "      <td>1</td>\n",
       "      <td>RK World Infocom Pvt Ltd</td>\n",
       "      <td>226</td>\n",
       "      <td>https://www.amazon.in/sspa/click?ie=UTF8&amp;spc=M...</td>\n",
       "    </tr>\n",
       "    <tr>\n",
       "      <th>2</th>\n",
       "      <td>2</td>\n",
       "      <td>Nivea Soft Light Moisturizer For Face,...</td>\n",
       "      <td>Moisturizer</td>\n",
       "      <td>SKINCARE</td>\n",
       "      <td>Nivea</td>\n",
       "      <td>Dry</td>\n",
       "      <td>1</td>\n",
       "      <td>MURALI RETAILS</td>\n",
       "      <td>103</td>\n",
       "      <td>https://www.amazon.in/sspa/click?ie=UTF8&amp;spc=M...</td>\n",
       "    </tr>\n",
       "    <tr>\n",
       "      <th>3</th>\n",
       "      <td>3</td>\n",
       "      <td>Biotique Morning Nectar Flawless Skin ...</td>\n",
       "      <td>Moisturizer</td>\n",
       "      <td>SKINCARE</td>\n",
       "      <td>Biotique</td>\n",
       "      <td>Combination</td>\n",
       "      <td>1</td>\n",
       "      <td>RK World Infocom Pvt Ltd</td>\n",
       "      <td>240</td>\n",
       "      <td>https://www.amazon.in/Biotique-Morning-Nectar-...</td>\n",
       "    </tr>\n",
       "    <tr>\n",
       "      <th>4</th>\n",
       "      <td>4</td>\n",
       "      <td>Minimalist Marula Oil 5% Face Moisturi...</td>\n",
       "      <td>Moisturizer</td>\n",
       "      <td>SKINCARE</td>\n",
       "      <td>Minimalist</td>\n",
       "      <td>Dry</td>\n",
       "      <td>1</td>\n",
       "      <td>Minimalist Inc</td>\n",
       "      <td>284</td>\n",
       "      <td>https://www.amazon.in/Minimalist-Moisturizer-H...</td>\n",
       "    </tr>\n",
       "  </tbody>\n",
       "</table>\n",
       "</div>"
      ],
      "text/plain": [
       "   Unnamed: 0                                              Title      Product  \\\n",
       "0           0          Nivea Soft Light Moisturizer For Face,...  Moisturizer   \n",
       "1           1          Nivea Soft Playful Peach, Light Moistu...  Moisturizer   \n",
       "2           2          Nivea Soft Light Moisturizer For Face,...  Moisturizer   \n",
       "3           3          Biotique Morning Nectar Flawless Skin ...  Moisturizer   \n",
       "4           4          Minimalist Marula Oil 5% Face Moisturi...  Moisturizer   \n",
       "\n",
       "   Category       Brand    Skin_Type  Number of items  \\\n",
       "0  SKINCARE       Nivea          All                1   \n",
       "1  SKINCARE       Nivea          All                1   \n",
       "2  SKINCARE       Nivea          Dry                1   \n",
       "3  SKINCARE    Biotique  Combination                1   \n",
       "4  SKINCARE  Minimalist          Dry                1   \n",
       "\n",
       "                    Sold By  Price  \\\n",
       "0                 AIR SALES    372   \n",
       "1  RK World Infocom Pvt Ltd    226   \n",
       "2            MURALI RETAILS    103   \n",
       "3  RK World Infocom Pvt Ltd    240   \n",
       "4            Minimalist Inc    284   \n",
       "\n",
       "                                                Link  \n",
       "0  https://www.amazon.in/sspa/click?ie=UTF8&spc=M...  \n",
       "1  https://www.amazon.in/sspa/click?ie=UTF8&spc=M...  \n",
       "2  https://www.amazon.in/sspa/click?ie=UTF8&spc=M...  \n",
       "3  https://www.amazon.in/Biotique-Morning-Nectar-...  \n",
       "4  https://www.amazon.in/Minimalist-Moisturizer-H...  "
      ]
     },
     "execution_count": 87,
     "metadata": {},
     "output_type": "execute_result"
    }
   ],
   "source": [
    "df = pd.read_csv(path)\n",
    "df.head()"
   ]
  },
  {
   "cell_type": "markdown",
   "metadata": {},
   "source": [
    "# Adding more data with chatgpt"
   ]
  },
  {
   "cell_type": "code",
   "execution_count": 88,
   "metadata": {},
   "outputs": [
    {
     "data": {
      "text/html": [
       "<div>\n",
       "<style scoped>\n",
       "    .dataframe tbody tr th:only-of-type {\n",
       "        vertical-align: middle;\n",
       "    }\n",
       "\n",
       "    .dataframe tbody tr th {\n",
       "        vertical-align: top;\n",
       "    }\n",
       "\n",
       "    .dataframe thead th {\n",
       "        text-align: right;\n",
       "    }\n",
       "</style>\n",
       "<table border=\"1\" class=\"dataframe\">\n",
       "  <thead>\n",
       "    <tr style=\"text-align: right;\">\n",
       "      <th></th>\n",
       "      <th>Unnamed: 0</th>\n",
       "      <th>Title</th>\n",
       "      <th>Product</th>\n",
       "      <th>Category</th>\n",
       "      <th>Brand</th>\n",
       "      <th>Skin_Type</th>\n",
       "      <th>Number of items</th>\n",
       "      <th>Sold By</th>\n",
       "      <th>Price</th>\n",
       "      <th>Link</th>\n",
       "    </tr>\n",
       "  </thead>\n",
       "  <tbody>\n",
       "    <tr>\n",
       "      <th>0</th>\n",
       "      <td>0</td>\n",
       "      <td>Nivea Soft Light Moisturizer For Face,...</td>\n",
       "      <td>Moisturizer</td>\n",
       "      <td>SKINCARE</td>\n",
       "      <td>Nivea</td>\n",
       "      <td>All</td>\n",
       "      <td>1</td>\n",
       "      <td>AIR SALES</td>\n",
       "      <td>372</td>\n",
       "      <td>https://www.amazon.in/sspa/click?ie=UTF8&amp;spc=M...</td>\n",
       "    </tr>\n",
       "    <tr>\n",
       "      <th>1</th>\n",
       "      <td>1</td>\n",
       "      <td>Nivea Soft Playful Peach, Light Moistu...</td>\n",
       "      <td>Moisturizer</td>\n",
       "      <td>SKINCARE</td>\n",
       "      <td>Nivea</td>\n",
       "      <td>All</td>\n",
       "      <td>1</td>\n",
       "      <td>RK World Infocom Pvt Ltd</td>\n",
       "      <td>226</td>\n",
       "      <td>https://www.amazon.in/sspa/click?ie=UTF8&amp;spc=M...</td>\n",
       "    </tr>\n",
       "    <tr>\n",
       "      <th>2</th>\n",
       "      <td>2</td>\n",
       "      <td>Nivea Soft Light Moisturizer For Face,...</td>\n",
       "      <td>Moisturizer</td>\n",
       "      <td>SKINCARE</td>\n",
       "      <td>Nivea</td>\n",
       "      <td>Dry</td>\n",
       "      <td>1</td>\n",
       "      <td>MURALI RETAILS</td>\n",
       "      <td>103</td>\n",
       "      <td>https://www.amazon.in/sspa/click?ie=UTF8&amp;spc=M...</td>\n",
       "    </tr>\n",
       "    <tr>\n",
       "      <th>3</th>\n",
       "      <td>3</td>\n",
       "      <td>Biotique Morning Nectar Flawless Skin ...</td>\n",
       "      <td>Moisturizer</td>\n",
       "      <td>SKINCARE</td>\n",
       "      <td>Biotique</td>\n",
       "      <td>Combination</td>\n",
       "      <td>1</td>\n",
       "      <td>RK World Infocom Pvt Ltd</td>\n",
       "      <td>240</td>\n",
       "      <td>https://www.amazon.in/Biotique-Morning-Nectar-...</td>\n",
       "    </tr>\n",
       "    <tr>\n",
       "      <th>4</th>\n",
       "      <td>4</td>\n",
       "      <td>Minimalist Marula Oil 5% Face Moisturi...</td>\n",
       "      <td>Moisturizer</td>\n",
       "      <td>SKINCARE</td>\n",
       "      <td>Minimalist</td>\n",
       "      <td>Dry</td>\n",
       "      <td>1</td>\n",
       "      <td>Minimalist Inc</td>\n",
       "      <td>284</td>\n",
       "      <td>https://www.amazon.in/Minimalist-Moisturizer-H...</td>\n",
       "    </tr>\n",
       "  </tbody>\n",
       "</table>\n",
       "</div>"
      ],
      "text/plain": [
       "   Unnamed: 0                                              Title      Product  \\\n",
       "0           0          Nivea Soft Light Moisturizer For Face,...  Moisturizer   \n",
       "1           1          Nivea Soft Playful Peach, Light Moistu...  Moisturizer   \n",
       "2           2          Nivea Soft Light Moisturizer For Face,...  Moisturizer   \n",
       "3           3          Biotique Morning Nectar Flawless Skin ...  Moisturizer   \n",
       "4           4          Minimalist Marula Oil 5% Face Moisturi...  Moisturizer   \n",
       "\n",
       "   Category       Brand    Skin_Type  Number of items  \\\n",
       "0  SKINCARE       Nivea          All                1   \n",
       "1  SKINCARE       Nivea          All                1   \n",
       "2  SKINCARE       Nivea          Dry                1   \n",
       "3  SKINCARE    Biotique  Combination                1   \n",
       "4  SKINCARE  Minimalist          Dry                1   \n",
       "\n",
       "                    Sold By  Price  \\\n",
       "0                 AIR SALES    372   \n",
       "1  RK World Infocom Pvt Ltd    226   \n",
       "2            MURALI RETAILS    103   \n",
       "3  RK World Infocom Pvt Ltd    240   \n",
       "4            Minimalist Inc    284   \n",
       "\n",
       "                                                Link  \n",
       "0  https://www.amazon.in/sspa/click?ie=UTF8&spc=M...  \n",
       "1  https://www.amazon.in/sspa/click?ie=UTF8&spc=M...  \n",
       "2  https://www.amazon.in/sspa/click?ie=UTF8&spc=M...  \n",
       "3  https://www.amazon.in/Biotique-Morning-Nectar-...  \n",
       "4  https://www.amazon.in/Minimalist-Moisturizer-H...  "
      ]
     },
     "execution_count": 88,
     "metadata": {},
     "output_type": "execute_result"
    }
   ],
   "source": [
    "# Generate 300 more fake skincare products with different categories, titles, and values\n",
    "\n",
    "import random \n",
    "\n",
    "# Assuming df is your original dataset, which we will extend with 300 new products\n",
    "\n",
    "# Expanding the list of categories with additional product types\n",
    "expanded_products = [\n",
    "    (\"Serum\", [\"Vitamin C Serum\", \"Retinol Anti-Aging Serum\", \"Hyaluronic Acid Serum\", \"Peptide Firming Serum\"]),\n",
    "    (\"Cleanser\", [\"Foaming Cleanser\", \"Oil-Control Cleanser\", \"Gentle Hydrating Cleanser\", \"Exfoliating Scrub Cleanser\"]),\n",
    "    (\"Sunscreen\", [\"SPF 30 Sunscreen\", \"Tinted Sunscreen\", \"Waterproof Sunscreen\", \"Sunscreen for Sensitive Skin\"]),\n",
    "    (\"Eye Cream\", [\"Eye Repair Cream\", \"Soothing Eye Gel\", \"Under-Eye Brightening Cream\", \"Anti-Aging Eye Serum\"]),\n",
    "    (\"Toner\", [\"Balancing Facial Toner\", \"Soothing Aloe Vera Toner\", \"Exfoliating Glycolic Acid Toner\", \"Vitamin C Toner\"]),\n",
    "    (\"Face Mask\", [\"Clay Mask\", \"Hydrating Overnight Mask\", \"Charcoal Peel-Off Mask\", \"Anti-Aging Sheet Mask\"]),\n",
    "    (\"Moisturizer\", [\"Lightweight Daily Moisturizer\", \"Oil-Free Hydrating Gel\", \"Rich Night Moisturizer\", \"SPF 15 Moisturizer\"])\n",
    "]\n",
    "\n",
    "# Some random values for skin types, brands, and sellers\n",
    "skin_types = [\"All\", \"Dry\", \"Oily\", \"Combination\", \"Sensitive\"]\n",
    "brands = [\"BrandA\", \"BrandB\", \"BrandC\", \"BrandD\"]\n",
    "sellers = [\"Seller1\", \"Seller2\", \"Seller3\", \"Seller4\"]\n",
    "price_range = (100, 800)\n",
    "\n",
    "# Generate 300 more fake entries\n",
    "more_rows = []\n",
    "num_new_products = 300\n",
    "\n",
    "for _ in range(num_new_products):\n",
    "    product_type, titles = random.choice(expanded_products)\n",
    "    title = random.choice(titles)\n",
    "    \n",
    "    new_row = {\n",
    "        \"Unnamed: 0\": len(df) + len(more_rows),  # Adjust to reflect continuation from original dataset\n",
    "        \"Title\": title,\n",
    "        \"Product\": product_type,\n",
    "        \"Category\": \"SKINCARE\",\n",
    "        \"Brand\": random.choice(brands),\n",
    "        \"Skin_Type\": random.choice(skin_types),\n",
    "        \"Number of items\": random.randint(1, 5),\n",
    "        \"Sold By\": random.choice(sellers),\n",
    "        \"Price\": random.randint(*price_range),\n",
    "        \"Link\": \"https://www.example.com/fake-product\"\n",
    "    }\n",
    "    more_rows.append(new_row)\n",
    "\n",
    "# Convert more rows to DataFrame\n",
    "more_df = pd.DataFrame(more_rows)\n",
    "\n",
    "# Append the additional data to the original dataset (df)\n",
    "df = pd.concat([df, more_df], ignore_index=True)\n",
    "df.head()\n",
    "\n"
   ]
  },
  {
   "cell_type": "code",
   "execution_count": 89,
   "metadata": {},
   "outputs": [
    {
     "data": {
      "text/plain": [
       "array(['SKINCARE'], dtype=object)"
      ]
     },
     "execution_count": 89,
     "metadata": {},
     "output_type": "execute_result"
    }
   ],
   "source": [
    "# Checking the categories\n",
    "df['Category'].unique()\n",
    "\n",
    "# Since there's only one categorie, this collumn is unnecessary"
   ]
  },
  {
   "cell_type": "code",
   "execution_count": 90,
   "metadata": {},
   "outputs": [],
   "source": [
    "# dropping unecessary columns\n",
    "df = df.drop(['Unnamed: 0', 'Category', 'Number of items'], axis=1)\n",
    "\n",
    "\n",
    "# PS: The number of items would be interesting if we could check at live if the product is in stock\n",
    "#     since this isn't the case, the best action is to remove it."
   ]
  },
  {
   "cell_type": "code",
   "execution_count": 91,
   "metadata": {},
   "outputs": [
    {
     "name": "stdout",
     "output_type": "stream",
     "text": [
      "<class 'pandas.core.frame.DataFrame'>\n",
      "RangeIndex: 1738 entries, 0 to 1737\n",
      "Data columns (total 7 columns):\n",
      " #   Column     Non-Null Count  Dtype \n",
      "---  ------     --------------  ----- \n",
      " 0   Title      1738 non-null   object\n",
      " 1   Product    1738 non-null   object\n",
      " 2   Brand      1738 non-null   object\n",
      " 3   Skin_Type  1738 non-null   object\n",
      " 4   Sold By    1531 non-null   object\n",
      " 5   Price      1738 non-null   int64 \n",
      " 6   Link       1738 non-null   object\n",
      "dtypes: int64(1), object(6)\n",
      "memory usage: 95.2+ KB\n"
     ]
    }
   ],
   "source": [
    "df.info()"
   ]
  },
  {
   "cell_type": "code",
   "execution_count": 92,
   "metadata": {},
   "outputs": [
    {
     "name": "stdout",
     "output_type": "stream",
     "text": [
      "Null values: Title          0\n",
      "Product        0\n",
      "Brand          0\n",
      "Skin_Type      0\n",
      "Sold By      207\n",
      "Price          0\n",
      "Link           0\n",
      "dtype: int64\n",
      "---------------------------------\n",
      "\n",
      "\n",
      "\n",
      "NA values: Title          0\n",
      "Product        0\n",
      "Brand          0\n",
      "Skin_Type      0\n",
      "Sold By      207\n",
      "Price          0\n",
      "Link           0\n",
      "dtype: int64\n"
     ]
    }
   ],
   "source": [
    "# Checking for null/na values\n",
    "print(f'Null values: {df.isnull().sum()}')\n",
    "print('---------------------------------')\n",
    "print(f'\\n\\n\\nNA values: {df.isna().sum()}')"
   ]
  },
  {
   "cell_type": "code",
   "execution_count": 93,
   "metadata": {},
   "outputs": [],
   "source": [
    "# Sold By has lots of missing values and for our case it's not an essential information\n",
    "df = df.drop('Sold By', axis=1)"
   ]
  },
  {
   "cell_type": "code",
   "execution_count": 94,
   "metadata": {},
   "outputs": [
    {
     "name": "stdout",
     "output_type": "stream",
     "text": [
      "QTD unique values in skins type: 57\n",
      "----------------------------------\n",
      "Unique values: ['All' 'Dry' 'Combination' 'All, Combination, Sensitive, Dry, Normal'\n",
      " 'Normal' 'Sensitive, Dry' 'Oily, Acne Prone' 'Dry, Normal' 'Acne' 'Oily'\n",
      " 'Oily, Acne Prone, Sensitive' 'All, Acne' 'Dry, Normal Skin' 'All, Dry'\n",
      " 'Sensitive' 'Oily, Combination, Dry, Normal' 'Normal to Dry skin'\n",
      " 'All, Oily, Combination, Sensitive, Normal' 'Oily, Combination'\n",
      " 'All, Oily, Combination, Dry, Normal' 'All, Sensitive' 'Dry;Combination'\n",
      " 'All, especially extra-dry skin' 'Normal to Oily Skin' 'Acne, Dry'\n",
      " 'All, Combination, Normal' 'All, Oily, Combination, Sensitive, Dry'\n",
      " 'Oily, Combination, Sensitive'\n",
      " 'All, Oily, Combination, Acne Prone, Dry, Normal' 'All Skin Types,Oily'\n",
      " 'All Skin Type' 'Acne Prone' 'Acne Prone,Oily,Dry,All Skin Types'\n",
      " 'All, Oily, Sensitive, Dry, Normal'\n",
      " 'All Skin, Oily, Combination, Sensitive, Dry, Normal'\n",
      " 'Dry,All Skin Types' 'Acne Prone,All Skin Types'\n",
      " 'Oily, Combination, Sensitive, Dry, Normal' 'Acne Prone Skin'\n",
      " 'Oily, Combination, Sensitive, Dry' 'Revitalized' 'All, Oily'\n",
      " 'All, Oily, Acne Prone Skin, Sensitive, Dry'\n",
      " 'Oily, Sensitive, Dry, Normal' 'All, Oily, Acne Prone Skin, Sensitive'\n",
      " 'All, Acne Prone Skin, Combination, Sensitive, Dry'\n",
      " 'Oily, Combination, Dry' 'Oily, Dry, Normal' 'All, Combination, Dry'\n",
      " 'All, Oily, Acne Prone Skin, Combination, Normal'\n",
      " 'All, Combination, Sensitive'\n",
      " 'All, Oily, Acne Prone Skin, Combination, Sensitive'\n",
      " 'All, Oily, Dry, Normal' 'Dullness, Oily, Dry' 'All, Sensitive, Dry'\n",
      " 'Normal to Dry' 'Dull, Dehydrated, Cracked, Dry, Rough']\n"
     ]
    }
   ],
   "source": [
    "print(f'QTD unique values in skins type: {df[\"Skin_Type\"].nunique()}')\n",
    "print('----------------------------------')\n",
    "print(f'Unique values: {df[\"Skin_Type\"].unique()}')"
   ]
  },
  {
   "cell_type": "code",
   "execution_count": 95,
   "metadata": {},
   "outputs": [],
   "source": [
    "# Transforming the information in our column in lists os values\n",
    "df['Skin_Type'] = df['Skin_Type'].apply(lambda x: x.split(', '))"
   ]
  },
  {
   "cell_type": "code",
   "execution_count": 96,
   "metadata": {},
   "outputs": [
    {
     "data": {
      "text/plain": [
       "array(['Moisturizer', 'Primer', 'Facial sprays', 'Hand cream',\n",
       "       'Nail paint', 'Serum', 'Cleanser', 'Sunscreen', 'Face Mask',\n",
       "       'Toner', 'Eye Cream'], dtype=object)"
      ]
     },
     "execution_count": 96,
     "metadata": {},
     "output_type": "execute_result"
    }
   ],
   "source": [
    "# Looking for all the unique products\n",
    "df['Product'].unique()"
   ]
  },
  {
   "cell_type": "code",
   "execution_count": 97,
   "metadata": {},
   "outputs": [
    {
     "data": {
      "text/html": [
       "<div>\n",
       "<style scoped>\n",
       "    .dataframe tbody tr th:only-of-type {\n",
       "        vertical-align: middle;\n",
       "    }\n",
       "\n",
       "    .dataframe tbody tr th {\n",
       "        vertical-align: top;\n",
       "    }\n",
       "\n",
       "    .dataframe thead th {\n",
       "        text-align: right;\n",
       "    }\n",
       "</style>\n",
       "<table border=\"1\" class=\"dataframe\">\n",
       "  <thead>\n",
       "    <tr style=\"text-align: right;\">\n",
       "      <th></th>\n",
       "      <th>Title</th>\n",
       "      <th>Product</th>\n",
       "      <th>Brand</th>\n",
       "      <th>Skin_Type</th>\n",
       "      <th>Price</th>\n",
       "      <th>Link</th>\n",
       "    </tr>\n",
       "  </thead>\n",
       "  <tbody>\n",
       "    <tr>\n",
       "      <th>0</th>\n",
       "      <td>Nivea Soft Light Moisturizer For Face,...</td>\n",
       "      <td>Moisturizer</td>\n",
       "      <td>Nivea</td>\n",
       "      <td>[All]</td>\n",
       "      <td>372</td>\n",
       "      <td>https://www.amazon.in/sspa/click?ie=UTF8&amp;spc=M...</td>\n",
       "    </tr>\n",
       "    <tr>\n",
       "      <th>1</th>\n",
       "      <td>Nivea Soft Playful Peach, Light Moistu...</td>\n",
       "      <td>Moisturizer</td>\n",
       "      <td>Nivea</td>\n",
       "      <td>[All]</td>\n",
       "      <td>226</td>\n",
       "      <td>https://www.amazon.in/sspa/click?ie=UTF8&amp;spc=M...</td>\n",
       "    </tr>\n",
       "    <tr>\n",
       "      <th>2</th>\n",
       "      <td>Nivea Soft Light Moisturizer For Face,...</td>\n",
       "      <td>Moisturizer</td>\n",
       "      <td>Nivea</td>\n",
       "      <td>[Dry]</td>\n",
       "      <td>103</td>\n",
       "      <td>https://www.amazon.in/sspa/click?ie=UTF8&amp;spc=M...</td>\n",
       "    </tr>\n",
       "    <tr>\n",
       "      <th>3</th>\n",
       "      <td>Biotique Morning Nectar Flawless Skin ...</td>\n",
       "      <td>Moisturizer</td>\n",
       "      <td>Biotique</td>\n",
       "      <td>[Combination]</td>\n",
       "      <td>240</td>\n",
       "      <td>https://www.amazon.in/Biotique-Morning-Nectar-...</td>\n",
       "    </tr>\n",
       "    <tr>\n",
       "      <th>4</th>\n",
       "      <td>Minimalist Marula Oil 5% Face Moisturi...</td>\n",
       "      <td>Moisturizer</td>\n",
       "      <td>Minimalist</td>\n",
       "      <td>[Dry]</td>\n",
       "      <td>284</td>\n",
       "      <td>https://www.amazon.in/Minimalist-Moisturizer-H...</td>\n",
       "    </tr>\n",
       "    <tr>\n",
       "      <th>...</th>\n",
       "      <td>...</td>\n",
       "      <td>...</td>\n",
       "      <td>...</td>\n",
       "      <td>...</td>\n",
       "      <td>...</td>\n",
       "      <td>...</td>\n",
       "    </tr>\n",
       "    <tr>\n",
       "      <th>1733</th>\n",
       "      <td>Soothing Eye Gel</td>\n",
       "      <td>Eye Cream</td>\n",
       "      <td>BrandD</td>\n",
       "      <td>[Dry]</td>\n",
       "      <td>114</td>\n",
       "      <td>https://www.example.com/fake-product</td>\n",
       "    </tr>\n",
       "    <tr>\n",
       "      <th>1734</th>\n",
       "      <td>Hydrating Overnight Mask</td>\n",
       "      <td>Face Mask</td>\n",
       "      <td>BrandA</td>\n",
       "      <td>[All]</td>\n",
       "      <td>603</td>\n",
       "      <td>https://www.example.com/fake-product</td>\n",
       "    </tr>\n",
       "    <tr>\n",
       "      <th>1735</th>\n",
       "      <td>Lightweight Daily Moisturizer</td>\n",
       "      <td>Moisturizer</td>\n",
       "      <td>BrandC</td>\n",
       "      <td>[All]</td>\n",
       "      <td>530</td>\n",
       "      <td>https://www.example.com/fake-product</td>\n",
       "    </tr>\n",
       "    <tr>\n",
       "      <th>1736</th>\n",
       "      <td>Balancing Facial Toner</td>\n",
       "      <td>Toner</td>\n",
       "      <td>BrandC</td>\n",
       "      <td>[Dry]</td>\n",
       "      <td>720</td>\n",
       "      <td>https://www.example.com/fake-product</td>\n",
       "    </tr>\n",
       "    <tr>\n",
       "      <th>1737</th>\n",
       "      <td>Exfoliating Scrub Cleanser</td>\n",
       "      <td>Cleanser</td>\n",
       "      <td>BrandC</td>\n",
       "      <td>[Sensitive]</td>\n",
       "      <td>570</td>\n",
       "      <td>https://www.example.com/fake-product</td>\n",
       "    </tr>\n",
       "  </tbody>\n",
       "</table>\n",
       "<p>1160 rows × 6 columns</p>\n",
       "</div>"
      ],
      "text/plain": [
       "                                                  Title      Product  \\\n",
       "0             Nivea Soft Light Moisturizer For Face,...  Moisturizer   \n",
       "1             Nivea Soft Playful Peach, Light Moistu...  Moisturizer   \n",
       "2             Nivea Soft Light Moisturizer For Face,...  Moisturizer   \n",
       "3             Biotique Morning Nectar Flawless Skin ...  Moisturizer   \n",
       "4             Minimalist Marula Oil 5% Face Moisturi...  Moisturizer   \n",
       "...                                                 ...          ...   \n",
       "1733                                   Soothing Eye Gel    Eye Cream   \n",
       "1734                           Hydrating Overnight Mask    Face Mask   \n",
       "1735                      Lightweight Daily Moisturizer  Moisturizer   \n",
       "1736                             Balancing Facial Toner        Toner   \n",
       "1737                         Exfoliating Scrub Cleanser     Cleanser   \n",
       "\n",
       "           Brand      Skin_Type  Price  \\\n",
       "0          Nivea          [All]    372   \n",
       "1          Nivea          [All]    226   \n",
       "2          Nivea          [Dry]    103   \n",
       "3       Biotique  [Combination]    240   \n",
       "4     Minimalist          [Dry]    284   \n",
       "...          ...            ...    ...   \n",
       "1733      BrandD          [Dry]    114   \n",
       "1734      BrandA          [All]    603   \n",
       "1735      BrandC          [All]    530   \n",
       "1736      BrandC          [Dry]    720   \n",
       "1737      BrandC    [Sensitive]    570   \n",
       "\n",
       "                                                   Link  \n",
       "0     https://www.amazon.in/sspa/click?ie=UTF8&spc=M...  \n",
       "1     https://www.amazon.in/sspa/click?ie=UTF8&spc=M...  \n",
       "2     https://www.amazon.in/sspa/click?ie=UTF8&spc=M...  \n",
       "3     https://www.amazon.in/Biotique-Morning-Nectar-...  \n",
       "4     https://www.amazon.in/Minimalist-Moisturizer-H...  \n",
       "...                                                 ...  \n",
       "1733               https://www.example.com/fake-product  \n",
       "1734               https://www.example.com/fake-product  \n",
       "1735               https://www.example.com/fake-product  \n",
       "1736               https://www.example.com/fake-product  \n",
       "1737               https://www.example.com/fake-product  \n",
       "\n",
       "[1160 rows x 6 columns]"
      ]
     },
     "execution_count": 97,
     "metadata": {},
     "output_type": "execute_result"
    }
   ],
   "source": [
    "# Checking the nail paints \n",
    "# filter_products = df.loc[df['Product'] == 'Nail paint']\n",
    "# print(filter_products)\n",
    "\n",
    "# Cleaning the products that are not necessary for this project\n",
    "df = df[df['Product'] != 'Nail paint']\n",
    "df = df[df['Product'] != 'Hand cream']\n",
    "df"
   ]
  },
  {
   "cell_type": "markdown",
   "metadata": {},
   "source": [
    "# Visualizations"
   ]
  },
  {
   "cell_type": "markdown",
   "metadata": {},
   "source": [
    "###  Lybraries"
   ]
  },
  {
   "cell_type": "code",
   "execution_count": 98,
   "metadata": {},
   "outputs": [],
   "source": [
    "import matplotlib.pyplot as plt"
   ]
  },
  {
   "cell_type": "markdown",
   "metadata": {},
   "source": [
    "### Graphics"
   ]
  },
  {
   "cell_type": "markdown",
   "metadata": {},
   "source": [
    "* Graphic 1:"
   ]
  },
  {
   "cell_type": "code",
   "execution_count": 99,
   "metadata": {},
   "outputs": [
    {
     "data": {
      "image/png": "[encoded data removed]",
      "text/plain": [
       "<Figure size 1000x600 with 1 Axes>"
      ]
     },
     "metadata": {},
     "output_type": "display_data"
    }
   ],
   "source": [
    "# Function to count the frequency of products\n",
    "def count_products(df, products):\n",
    "    counts = {}\n",
    "    for product in products:\n",
    "        counts[product] = (df['Product'] == product).sum()\n",
    "    return counts\n",
    "\n",
    "# Separating parameters for our dataset\n",
    "products = list(df['Product'].unique())\n",
    "values_prod = count_products(df, products)\n",
    "\n",
    "df_products = pd.DataFrame(list(values_prod.items()), columns=['Product', 'Frequency'])\n",
    "df_products = df_products.sort_values(by='Frequency', ascending=True)\n",
    "\n",
    "# Plotting the graph\n",
    "fig, ax = plt.subplots(figsize=(10, 6))\n",
    "ax.barh(df_products['Product'], df_products['Frequency'], \n",
    "        color = ['gray', 'gray', 'gray', \n",
    "                 'gray', 'gray','gray', \n",
    "                 'orchid', 'orchid', \n",
    "                 'orchid'])\n",
    "\n",
    "# Removing lines\n",
    "ax.spines['right'].set_visible(False)\n",
    "ax.spines['top'].set_visible(False)\n",
    "\n",
    "# Titles\n",
    "ax.set_title('The most announced products', fontweight='roman', fontsize=20, loc='left', x=0, y=1.058 )\n",
    "#plt.suptitle('Moisturizer, Primer and Facial Sprays', x=0.32 ,y=0.92)\n",
    "ax.set_xlabel('Announcements count', color='dimgray')\n",
    "ax.set_ylabel('')\n",
    "\n",
    "plt.show()\n"
   ]
  },
  {
   "cell_type": "markdown",
   "metadata": {},
   "source": [
    "* Graphic 2:"
   ]
  },
  {
   "cell_type": "code",
   "execution_count": 100,
   "metadata": {},
   "outputs": [],
   "source": [
    "# This function calculates the frequency tha each brand appears in our DF - Different products on Sale\n",
    "def count_brand(df, brand):\n",
    "    c=0\n",
    "    for i in df:\n",
    "        if i == brand:\n",
    "            c +=1\n",
    "    return c\n",
    "\n",
    "# I chose to heighlight brands that can be easily found in Brasil\n",
    "nivea       = count_brand(df['Brand'], 'Nivea')\n",
    "cetaphil    = count_brand(df['Brand'], 'Cetaphil')\n",
    "neutrogena  = count_brand(df['Brand'], 'Neutrogena')\n",
    "bioderma    = count_brand(df['Brand'], 'Bioderma')\n",
    "loreal      = count_brand(df['Brand'], \"L'Oreal Paris\")\n",
    "cerave      = count_brand(df['Brand'], 'CeraVe')\n",
    "la_roche    = count_brand(df['Brand'], 'La Roche-Posay')\n",
    "garnier     = count_brand(df['Brand'], 'Garnier')\n",
    "dove        = count_brand(df['Brand'], 'Dove')\n",
    "maybelline  = count_brand(df['Brand'], 'Maybelline')\n",
    "\n",
    "# Saving results in a list with the same order\n",
    "values = [nivea, cetaphil, neutrogena, bioderma, loreal, cerave, la_roche, garnier, dove, maybelline]\n",
    "brand = ['Nivea', 'Cetaphil', 'Neutrogena', 'Bioderma', \"L'Oreal Paris\", \n",
    "         'CeraVe', 'La Roche-Posay', 'Garnier', 'Dove', 'Maybelline']\n",
    "\n",
    "data = { 'Brand' : brand, 'Values': values}\n",
    "\n",
    "# Sorting our values in decrecent order\n",
    "data = (pd.DataFrame(data)).sort_values(by='Values', ascending=True)\n"
   ]
  },
  {
   "cell_type": "code",
   "execution_count": 101,
   "metadata": {},
   "outputs": [
    {
     "data": {
      "image/png": "[encoded data removed]",
      "text/plain": [
       "<Figure size 640x480 with 1 Axes>"
      ]
     },
     "metadata": {},
     "output_type": "display_data"
    }
   ],
   "source": [
    "# Visualizing informations\n",
    "fig, ax = plt.subplots()\n",
    "bars = ax.barh(data['Brand'], data['Values'],\n",
    "        color = ['gray', 'gray', 'gray', \n",
    "                 'gray', 'gray','gray', \n",
    "                 'cornflowerblue', 'cornflowerblue', \n",
    "                 'cornflowerblue', 'royalblue'])\n",
    "\n",
    "# Titles\n",
    "plt.title('Nivea is the brand with most products availabel', fontweight= 'roman', fontsize=20, x=0.4, y=1.058)\n",
    "plt.suptitle('Followed by Neutrogena, Maybelline and Cetaphil that have 5 or more products', \n",
    "             fontweight='light', x=0.435 ,y=0.93, color='dimgray')\n",
    "\n",
    "#plt.xlabel('Different products availabel', loc='right')\n",
    "\n",
    "# Removing lines\n",
    "ax.spines['right'].set_visible(False)\n",
    "ax.spines['left'].set_visible(False)\n",
    "ax.spines['bottom'].set_visible(False)\n",
    "ax.spines['top'].set_visible(False)\n",
    "ax.set_xticks([])\n",
    "\n",
    "# Adding values to the bars\n",
    "ax.bar_label(bars, padding=1.5, color='dimgray')\n",
    "\n",
    "plt.show()"
   ]
  },
  {
   "cell_type": "markdown",
   "metadata": {},
   "source": [
    "* Graph 3"
   ]
  },
  {
   "cell_type": "code",
   "execution_count": 102,
   "metadata": {},
   "outputs": [],
   "source": [
    "# This function calculates the avg price for each brand\n",
    "def mean_price_b(df, b):\n",
    "    product_prices = df[df['Brand'] == b]['Price']\n",
    "    \n",
    "    if len(product_prices) == 0:\n",
    "        return f\"Brand {b} not found.\"\n",
    "\n",
    "    return product_prices.mean()\n",
    "\n",
    "# I chose to heighlight brands that can be easily found in Brasil\n",
    "nivea       = mean_price_b(df, 'Nivea')\n",
    "cetaphil    = mean_price_b(df, 'Cetaphil')\n",
    "neutrogena  = mean_price_b(df, 'Neutrogena')\n",
    "bioderma    = mean_price_b(df, 'Bioderma')\n",
    "loreal      = mean_price_b(df, \"L'Oreal Paris\")\n",
    "cerave      = mean_price_b(df, 'CeraVe')\n",
    "la_roche    = mean_price_b(df, 'La Roche-Posay')\n",
    "garnier     = mean_price_b(df, 'Garnier')\n",
    "dove        = mean_price_b(df, 'Dove')\n",
    "maybelline  = mean_price_b(df, 'Maybelline')\n",
    "\n",
    "# Saving parameter\n",
    "mean_b = [nivea, cetaphil, neutrogena, bioderma, loreal, cerave, la_roche, garnier, dove, maybelline]\n",
    "\n",
    "mean_b = { 'Brand' : brand, 'Mean': mean_b}\n",
    "\n",
    "# Sorting our values in decrecent order\n",
    "mean_b = (pd.DataFrame(mean_b)).sort_values(by='Mean', ascending=False)\n"
   ]
  },
  {
   "cell_type": "code",
   "execution_count": 103,
   "metadata": {},
   "outputs": [
    {
     "data": {
      "image/png": "[encoded data removed]",
      "text/plain": [
       "<Figure size 640x480 with 1 Axes>"
      ]
     },
     "metadata": {},
     "output_type": "display_data"
    }
   ],
   "source": [
    "fig, ax = plt.subplots()\n",
    "bars = ax.barh(mean_b['Brand'], mean_b['Mean'],\n",
    "       color = [ 'gray', 'gray','gray', \n",
    "                'gray', 'gray', 'cornflowerblue',\n",
    "                'cornflowerblue','cornflowerblue', 'gray', \n",
    "                'cornflowerblue'])\n",
    "\n",
    "\n",
    "# Titles\n",
    "plt.title('Cheapest brands in general', fontweight= 'roman', fontsize=20, x=0.1, y=1.1)\n",
    "plt.suptitle('The brands with most products availabel are the ones with the cheapest products', \n",
    "             x=0.44, y=0.95, fontweight='ultralight')\n",
    "\n",
    "\n",
    "\n",
    "# Removing lines\n",
    "ax.spines['right'].set_visible(False)\n",
    "ax.spines['top'].set_visible(False)\n",
    "ax.spines['bottom'].set_visible(False)\n",
    "ax.set_xticks([])\n",
    "\n",
    "# Setting colors\n",
    "ax.spines['bottom'].set_color('dimgray')\n",
    "ax.spines['left'].set_color('dimgray')\n",
    "ax.tick_params(axis='x', colors='dimgray')\n",
    "\n",
    "# Adding values to the bars\n",
    "ax.bar_label(bars, padding=1.5)\n",
    "\n",
    "\n",
    "plt.show()"
   ]
  },
  {
   "cell_type": "markdown",
   "metadata": {},
   "source": [
    "* Graph 4"
   ]
  },
  {
   "cell_type": "code",
   "execution_count": 104,
   "metadata": {},
   "outputs": [],
   "source": [
    "# This function calculates the avg price for each product\n",
    "def mean_price(df, p):\n",
    "    product_prices = df[df['Product'] == p]['Price']\n",
    "    \n",
    "    if len(product_prices) == 0:\n",
    "        return f\"Product {p} not found.\"\n",
    "\n",
    "    return product_prices.mean()\n",
    "\n",
    "# Calling function\n",
    "means = []\n",
    "for i in products:\n",
    "        means.append(mean_price(df, i))\n",
    "\n",
    "\n",
    "# Saving parameter\n",
    "mean_p = { 'Product' : products, 'Mean': means}\n",
    "\n",
    "# Sorting our values in decrecent order\n",
    "mean_p = (pd.DataFrame(mean_p)).sort_values(by='Mean', ascending=False)\n"
   ]
  },
  {
   "cell_type": "code",
   "execution_count": 105,
   "metadata": {},
   "outputs": [
    {
     "data": {
      "image/png": "[encoded data removed]",
      "text/plain": [
       "<Figure size 640x480 with 1 Axes>"
      ]
     },
     "metadata": {},
     "output_type": "display_data"
    }
   ],
   "source": [
    "fig, ax = plt.subplots()\n",
    "ax.bar(mean_p['Product'], mean_p['Mean'],\n",
    "       color = ['slategray', 'slategray', 'orchid',\n",
    "                'orchid', 'orchid', 'orchid',\n",
    "                'orchid', 'orchid', 'magenta'])\n",
    "\n",
    "\n",
    "# Titles\n",
    "plt.title('Most prices are between 370.00 and 470.00', fontweight= 'roman', fontsize=20, x=0.5, y=1.1)\n",
    "plt.suptitle('Meanwhile primer and facial spray are the most expensive products', fontweight='ultralight', x=0.48, y=0.96)\n",
    "plt.ylabel('Price mean')\n",
    "\n",
    "\n",
    "# Removing lines\n",
    "ax.spines['right'].set_visible(False)\n",
    "ax.spines['top'].set_visible(False)\n",
    "plt.xticks(rotation=45)\n",
    "\n",
    "plt.show()\n"
   ]
  },
  {
   "cell_type": "markdown",
   "metadata": {},
   "source": [
    "* Graph 5"
   ]
  },
  {
   "cell_type": "code",
   "execution_count": 106,
   "metadata": {},
   "outputs": [
    {
     "data": {
      "application/vnd.plotly.v1+json": {
       "config": {
        "plotlyServerURL": "https://plot.ly"
       },
       "data": [
        {
         "hovertemplate": "Mean=%{x}<br>Product=%{y}<extra></extra>",
         "legendgroup": "",
         "marker": {
          "color": "#636efa"
         },
         "name": "",
         "orientation": "h",
         "showlegend": false,
         "type": "funnel",
         "x": [
          783.2387543252595,
          745.6843971631206,
          450.6792452830189,
          436.54761904761904,
          434.7173913043478,
          429.3157894736842,
          400.9111111111111,
          393.8235294117647,
          382.0815709969788
         ],
         "xaxis": "x",
         "y": [
          "Primer",
          "Facial sprays",
          "Serum",
          "Eye Cream",
          "Sunscreen",
          "Cleanser",
          "Toner",
          "Face Mask",
          "Moisturizer"
         ],
         "yaxis": "y"
        }
       ],
       "layout": {
        "legend": {
         "tracegroupgap": 0
        },
        "template": {
         "data": {
          "bar": [
           {
            "error_x": {
             "color": "#2a3f5f"
            },
            "error_y": {
             "color": "#2a3f5f"
            },
            "marker": {
             "line": {
              "color": "#E5ECF6",
              "width": 0.5
             },
             "pattern": {
              "fillmode": "overlay",
              "size": 10,
              "solidity": 0.2
             }
            },
            "type": "bar"
           }
          ],
          "barpolar": [
           {
            "marker": {
             "line": {
              "color": "#E5ECF6",
              "width": 0.5
             },
             "pattern": {
              "fillmode": "overlay",
              "size": 10,
              "solidity": 0.2
             }
            },
            "type": "barpolar"
           }
          ],
          "carpet": [
           {
            "aaxis": {
             "endlinecolor": "#2a3f5f",
             "gridcolor": "white",
             "linecolor": "white",
             "minorgridcolor": "white",
             "startlinecolor": "#2a3f5f"
            },
            "baxis": {
             "endlinecolor": "#2a3f5f",
             "gridcolor": "white",
             "linecolor": "white",
             "minorgridcolor": "white",
             "startlinecolor": "#2a3f5f"
            },
            "type": "carpet"
           }
          ],
          "choropleth": [
           {
            "colorbar": {
             "outlinewidth": 0,
             "ticks": ""
            },
            "type": "choropleth"
           }
          ],
          "contour": [
           {
            "colorbar": {
             "outlinewidth": 0,
             "ticks": ""
            },
            "colorscale": [
             [
              0,
              "#0d0887"
             ],
             [
              0.1111111111111111,
              "#46039f"
             ],
             [
              0.2222222222222222,
              "#7201a8"
             ],
             [
              0.3333333333333333,
              "#9c179e"
             ],
             [
              0.4444444444444444,
              "#bd3786"
             ],
             [
              0.5555555555555556,
              "#d8576b"
             ],
             [
              0.6666666666666666,
              "#ed7953"
             ],
             [
              0.7777777777777778,
              "#fb9f3a"
             ],
             [
              0.8888888888888888,
              "#fdca26"
             ],
             [
              1,
              "#f0f921"
             ]
            ],
            "type": "contour"
           }
          ],
          "contourcarpet": [
           {
            "colorbar": {
             "outlinewidth": 0,
             "ticks": ""
            },
            "type": "contourcarpet"
           }
          ],
          "heatmap": [
           {
            "colorbar": {
             "outlinewidth": 0,
             "ticks": ""
            },
            "colorscale": [
             [
              0,
              "#0d0887"
             ],
             [
              0.1111111111111111,
              "#46039f"
             ],
             [
              0.2222222222222222,
              "#7201a8"
             ],
             [
              0.3333333333333333,
              "#9c179e"
             ],
             [
              0.4444444444444444,
              "#bd3786"
             ],
             [
              0.5555555555555556,
              "#d8576b"
             ],
             [
              0.6666666666666666,
              "#ed7953"
             ],
             [
              0.7777777777777778,
              "#fb9f3a"
             ],
             [
              0.8888888888888888,
              "#fdca26"
             ],
             [
              1,
              "#f0f921"
             ]
            ],
            "type": "heatmap"
           }
          ],
          "heatmapgl": [
           {
            "colorbar": {
             "outlinewidth": 0,
             "ticks": ""
            },
            "colorscale": [
             [
              0,
              "#0d0887"
             ],
             [
              0.1111111111111111,
              "#46039f"
             ],
             [
              0.2222222222222222,
              "#7201a8"
             ],
             [
              0.3333333333333333,
              "#9c179e"
             ],
             [
              0.4444444444444444,
              "#bd3786"
             ],
             [
              0.5555555555555556,
              "#d8576b"
             ],
             [
              0.6666666666666666,
              "#ed7953"
             ],
             [
              0.7777777777777778,
              "#fb9f3a"
             ],
             [
              0.8888888888888888,
              "#fdca26"
             ],
             [
              1,
              "#f0f921"
             ]
            ],
            "type": "heatmapgl"
           }
          ],
          "histogram": [
           {
            "marker": {
             "pattern": {
              "fillmode": "overlay",
              "size": 10,
              "solidity": 0.2
             }
            },
            "type": "histogram"
           }
          ],
          "histogram2d": [
           {
            "colorbar": {
             "outlinewidth": 0,
             "ticks": ""
            },
            "colorscale": [
             [
              0,
              "#0d0887"
             ],
             [
              0.1111111111111111,
              "#46039f"
             ],
             [
              0.2222222222222222,
              "#7201a8"
             ],
             [
              0.3333333333333333,
              "#9c179e"
             ],
             [
              0.4444444444444444,
              "#bd3786"
             ],
             [
              0.5555555555555556,
              "#d8576b"
             ],
             [
              0.6666666666666666,
              "#ed7953"
             ],
             [
              0.7777777777777778,
              "#fb9f3a"
             ],
             [
              0.8888888888888888,
              "#fdca26"
             ],
             [
              1,
              "#f0f921"
             ]
            ],
            "type": "histogram2d"
           }
          ],
          "histogram2dcontour": [
           {
            "colorbar": {
             "outlinewidth": 0,
             "ticks": ""
            },
            "colorscale": [
             [
              0,
              "#0d0887"
             ],
             [
              0.1111111111111111,
              "#46039f"
             ],
             [
              0.2222222222222222,
              "#7201a8"
             ],
             [
              0.3333333333333333,
              "#9c179e"
             ],
             [
              0.4444444444444444,
              "#bd3786"
             ],
             [
              0.5555555555555556,
              "#d8576b"
             ],
             [
              0.6666666666666666,
              "#ed7953"
             ],
             [
              0.7777777777777778,
              "#fb9f3a"
             ],
             [
              0.8888888888888888,
              "#fdca26"
             ],
             [
              1,
              "#f0f921"
             ]
            ],
            "type": "histogram2dcontour"
           }
          ],
          "mesh3d": [
           {
            "colorbar": {
             "outlinewidth": 0,
             "ticks": ""
            },
            "type": "mesh3d"
           }
          ],
          "parcoords": [
           {
            "line": {
             "colorbar": {
              "outlinewidth": 0,
              "ticks": ""
             }
            },
            "type": "parcoords"
           }
          ],
          "pie": [
           {
            "automargin": true,
            "type": "pie"
           }
          ],
          "scatter": [
           {
            "fillpattern": {
             "fillmode": "overlay",
             "size": 10,
             "solidity": 0.2
            },
            "type": "scatter"
           }
          ],
          "scatter3d": [
           {
            "line": {
             "colorbar": {
              "outlinewidth": 0,
              "ticks": ""
             }
            },
            "marker": {
             "colorbar": {
              "outlinewidth": 0,
              "ticks": ""
             }
            },
            "type": "scatter3d"
           }
          ],
          "scattercarpet": [
           {
            "marker": {
             "colorbar": {
              "outlinewidth": 0,
              "ticks": ""
             }
            },
            "type": "scattercarpet"
           }
          ],
          "scattergeo": [
           {
            "marker": {
             "colorbar": {
              "outlinewidth": 0,
              "ticks": ""
             }
            },
            "type": "scattergeo"
           }
          ],
          "scattergl": [
           {
            "marker": {
             "colorbar": {
              "outlinewidth": 0,
              "ticks": ""
             }
            },
            "type": "scattergl"
           }
          ],
          "scattermapbox": [
           {
            "marker": {
             "colorbar": {
              "outlinewidth": 0,
              "ticks": ""
             }
            },
            "type": "scattermapbox"
           }
          ],
          "scatterpolar": [
           {
            "marker": {
             "colorbar": {
              "outlinewidth": 0,
              "ticks": ""
             }
            },
            "type": "scatterpolar"
           }
          ],
          "scatterpolargl": [
           {
            "marker": {
             "colorbar": {
              "outlinewidth": 0,
              "ticks": ""
             }
            },
            "type": "scatterpolargl"
           }
          ],
          "scatterternary": [
           {
            "marker": {
             "colorbar": {
              "outlinewidth": 0,
              "ticks": ""
             }
            },
            "type": "scatterternary"
           }
          ],
          "surface": [
           {
            "colorbar": {
             "outlinewidth": 0,
             "ticks": ""
            },
            "colorscale": [
             [
              0,
              "#0d0887"
             ],
             [
              0.1111111111111111,
              "#46039f"
             ],
             [
              0.2222222222222222,
              "#7201a8"
             ],
             [
              0.3333333333333333,
              "#9c179e"
             ],
             [
              0.4444444444444444,
              "#bd3786"
             ],
             [
              0.5555555555555556,
              "#d8576b"
             ],
             [
              0.6666666666666666,
              "#ed7953"
             ],
             [
              0.7777777777777778,
              "#fb9f3a"
             ],
             [
              0.8888888888888888,
              "#fdca26"
             ],
             [
              1,
              "#f0f921"
             ]
            ],
            "type": "surface"
           }
          ],
          "table": [
           {
            "cells": {
             "fill": {
              "color": "#EBF0F8"
             },
             "line": {
              "color": "white"
             }
            },
            "header": {
             "fill": {
              "color": "#C8D4E3"
             },
             "line": {
              "color": "white"
             }
            },
            "type": "table"
           }
          ]
         },
         "layout": {
          "annotationdefaults": {
           "arrowcolor": "#2a3f5f",
           "arrowhead": 0,
           "arrowwidth": 1
          },
          "autotypenumbers": "strict",
          "coloraxis": {
           "colorbar": {
            "outlinewidth": 0,
            "ticks": ""
           }
          },
          "colorscale": {
           "diverging": [
            [
             0,
             "#8e0152"
            ],
            [
             0.1,
             "#c51b7d"
            ],
            [
             0.2,
             "#de77ae"
            ],
            [
             0.3,
             "#f1b6da"
            ],
            [
             0.4,
             "#fde0ef"
            ],
            [
             0.5,
             "#f7f7f7"
            ],
            [
             0.6,
             "#e6f5d0"
            ],
            [
             0.7,
             "#b8e186"
            ],
            [
             0.8,
             "#7fbc41"
            ],
            [
             0.9,
             "#4d9221"
            ],
            [
             1,
             "#276419"
            ]
           ],
           "sequential": [
            [
             0,
             "#0d0887"
            ],
            [
             0.1111111111111111,
             "#46039f"
            ],
            [
             0.2222222222222222,
             "#7201a8"
            ],
            [
             0.3333333333333333,
             "#9c179e"
            ],
            [
             0.4444444444444444,
             "#bd3786"
            ],
            [
             0.5555555555555556,
             "#d8576b"
            ],
            [
             0.6666666666666666,
             "#ed7953"
            ],
            [
             0.7777777777777778,
             "#fb9f3a"
            ],
            [
             0.8888888888888888,
             "#fdca26"
            ],
            [
             1,
             "#f0f921"
            ]
           ],
           "sequentialminus": [
            [
             0,
             "#0d0887"
            ],
            [
             0.1111111111111111,
             "#46039f"
            ],
            [
             0.2222222222222222,
             "#7201a8"
            ],
            [
             0.3333333333333333,
             "#9c179e"
            ],
            [
             0.4444444444444444,
             "#bd3786"
            ],
            [
             0.5555555555555556,
             "#d8576b"
            ],
            [
             0.6666666666666666,
             "#ed7953"
            ],
            [
             0.7777777777777778,
             "#fb9f3a"
            ],
            [
             0.8888888888888888,
             "#fdca26"
            ],
            [
             1,
             "#f0f921"
            ]
           ]
          },
          "colorway": [
           "#636efa",
           "#EF553B",
           "#00cc96",
           "#ab63fa",
           "#FFA15A",
           "#19d3f3",
           "#FF6692",
           "#B6E880",
           "#FF97FF",
           "#FECB52"
          ],
          "font": {
           "color": "#2a3f5f"
          },
          "geo": {
           "bgcolor": "white",
           "lakecolor": "white",
           "landcolor": "#E5ECF6",
           "showlakes": true,
           "showland": true,
           "subunitcolor": "white"
          },
          "hoverlabel": {
           "align": "left"
          },
          "hovermode": "closest",
          "mapbox": {
           "style": "light"
          },
          "paper_bgcolor": "white",
          "plot_bgcolor": "#E5ECF6",
          "polar": {
           "angularaxis": {
            "gridcolor": "white",
            "linecolor": "white",
            "ticks": ""
           },
           "bgcolor": "#E5ECF6",
           "radialaxis": {
            "gridcolor": "white",
            "linecolor": "white",
            "ticks": ""
           }
          },
          "scene": {
           "xaxis": {
            "backgroundcolor": "#E5ECF6",
            "gridcolor": "white",
            "gridwidth": 2,
            "linecolor": "white",
            "showbackground": true,
            "ticks": "",
            "zerolinecolor": "white"
           },
           "yaxis": {
            "backgroundcolor": "#E5ECF6",
            "gridcolor": "white",
            "gridwidth": 2,
            "linecolor": "white",
            "showbackground": true,
            "ticks": "",
            "zerolinecolor": "white"
           },
           "zaxis": {
            "backgroundcolor": "#E5ECF6",
            "gridcolor": "white",
            "gridwidth": 2,
            "linecolor": "white",
            "showbackground": true,
            "ticks": "",
            "zerolinecolor": "white"
           }
          },
          "shapedefaults": {
           "line": {
            "color": "#2a3f5f"
           }
          },
          "ternary": {
           "aaxis": {
            "gridcolor": "white",
            "linecolor": "white",
            "ticks": ""
           },
           "baxis": {
            "gridcolor": "white",
            "linecolor": "white",
            "ticks": ""
           },
           "bgcolor": "#E5ECF6",
           "caxis": {
            "gridcolor": "white",
            "linecolor": "white",
            "ticks": ""
           }
          },
          "title": {
           "x": 0.05
          },
          "xaxis": {
           "automargin": true,
           "gridcolor": "white",
           "linecolor": "white",
           "ticks": "",
           "title": {
            "standoff": 15
           },
           "zerolinecolor": "white",
           "zerolinewidth": 2
          },
          "yaxis": {
           "automargin": true,
           "gridcolor": "white",
           "linecolor": "white",
           "ticks": "",
           "title": {
            "standoff": 15
           },
           "zerolinecolor": "white",
           "zerolinewidth": 2
          }
         }
        },
        "title": {
         "text": "Moisturizer is the cheapest generic product"
        },
        "xaxis": {
         "anchor": "y",
         "domain": [
          0,
          1
         ],
         "title": {
          "text": "Mean"
         }
        },
        "yaxis": {
         "anchor": "x",
         "domain": [
          0,
          1
         ],
         "title": {
          "text": "Product"
         }
        }
       }
      }
     },
     "metadata": {},
     "output_type": "display_data"
    }
   ],
   "source": [
    "import plotly.express as px\n",
    "#from plotly import graph_objects as go\n",
    "\n",
    "fig = px.funnel(mean_p,  mean_p['Mean'], mean_p['Product'],\n",
    "                title='Moisturizer is the cheapest generic product')\n",
    "\n",
    "fig.show()"
   ]
  },
  {
   "cell_type": "markdown",
   "metadata": {},
   "source": [
    "* Graph 6"
   ]
  },
  {
   "cell_type": "code",
   "execution_count": 107,
   "metadata": {},
   "outputs": [
    {
     "data": {
      "text/html": [
       "<div>\n",
       "<style scoped>\n",
       "    .dataframe tbody tr th:only-of-type {\n",
       "        vertical-align: middle;\n",
       "    }\n",
       "\n",
       "    .dataframe tbody tr th {\n",
       "        vertical-align: top;\n",
       "    }\n",
       "\n",
       "    .dataframe thead th {\n",
       "        text-align: right;\n",
       "    }\n",
       "</style>\n",
       "<table border=\"1\" class=\"dataframe\">\n",
       "  <thead>\n",
       "    <tr style=\"text-align: right;\">\n",
       "      <th></th>\n",
       "      <th>Product</th>\n",
       "      <th>Mean</th>\n",
       "    </tr>\n",
       "  </thead>\n",
       "  <tbody>\n",
       "    <tr>\n",
       "      <th>1</th>\n",
       "      <td>Primer</td>\n",
       "      <td>783.238754</td>\n",
       "    </tr>\n",
       "    <tr>\n",
       "      <th>2</th>\n",
       "      <td>Facial sprays</td>\n",
       "      <td>745.684397</td>\n",
       "    </tr>\n",
       "    <tr>\n",
       "      <th>3</th>\n",
       "      <td>Serum</td>\n",
       "      <td>450.679245</td>\n",
       "    </tr>\n",
       "    <tr>\n",
       "      <th>8</th>\n",
       "      <td>Eye Cream</td>\n",
       "      <td>436.547619</td>\n",
       "    </tr>\n",
       "    <tr>\n",
       "      <th>5</th>\n",
       "      <td>Sunscreen</td>\n",
       "      <td>434.717391</td>\n",
       "    </tr>\n",
       "    <tr>\n",
       "      <th>4</th>\n",
       "      <td>Cleanser</td>\n",
       "      <td>429.315789</td>\n",
       "    </tr>\n",
       "    <tr>\n",
       "      <th>7</th>\n",
       "      <td>Toner</td>\n",
       "      <td>400.911111</td>\n",
       "    </tr>\n",
       "    <tr>\n",
       "      <th>6</th>\n",
       "      <td>Face Mask</td>\n",
       "      <td>393.823529</td>\n",
       "    </tr>\n",
       "    <tr>\n",
       "      <th>0</th>\n",
       "      <td>Moisturizer</td>\n",
       "      <td>382.081571</td>\n",
       "    </tr>\n",
       "  </tbody>\n",
       "</table>\n",
       "</div>"
      ],
      "text/plain": [
       "         Product        Mean\n",
       "1         Primer  783.238754\n",
       "2  Facial sprays  745.684397\n",
       "3          Serum  450.679245\n",
       "8      Eye Cream  436.547619\n",
       "5      Sunscreen  434.717391\n",
       "4       Cleanser  429.315789\n",
       "7          Toner  400.911111\n",
       "6      Face Mask  393.823529\n",
       "0    Moisturizer  382.081571"
      ]
     },
     "execution_count": 107,
     "metadata": {},
     "output_type": "execute_result"
    }
   ],
   "source": [
    "mean_p"
   ]
  },
  {
   "cell_type": "code",
   "execution_count": 108,
   "metadata": {},
   "outputs": [],
   "source": [
    "# This function gets all the prices\n",
    "def get_prices(df, p):\n",
    "    product_prices = df[df['Product'] == p]['Price']\n",
    "    \n",
    "    if len(product_prices) == 0:\n",
    "        return f\"Product {p} not found.\"\n",
    "\n",
    "    return list(product_prices)\n",
    "\n",
    "# Calling function\n",
    "primer_box      = get_prices(df, 'Primer')\n",
    "fs_box          = get_prices(df, 'Facial sprays')\n",
    "cleanser_box    = get_prices(df, 'Cleanser')\n",
    "sun_box         = get_prices(df, 'Sunscreen')\n",
    "toner_box       = get_prices(df, 'Toner')\n",
    "mask_box        = get_prices(df, 'Face Mask')\n",
    "eye_box         = get_prices(df, 'Eye Cream')\n",
    "serum_box       = get_prices(df, 'Serum')\n",
    "moisturizer_box = get_prices(df, 'Moisturizer')\n",
    "\n",
    "# Extending shorter arrays so they will have the same length\n",
    "max_length = max(len(primer_box), len(fs_box), len(cleanser_box),\n",
    "                 len( sun_box), len( toner_box), len(mask_box),\n",
    "                 len(eye_box), len(serum_box), len(moisturizer_box))\n",
    "\n",
    "primer_box += [np.nan] * (max_length - len(primer_box))\n",
    "fs_box += [np.nan] * (max_length - len(fs_box))\n",
    "cleanser_box += [np.nan] * (max_length - len(cleanser_box))\n",
    "sun_box += [np.nan] * (max_length - len(sun_box))\n",
    "toner_box += [np.nan] * (max_length - len(toner_box))\n",
    "mask_box += [np.nan] * (max_length - len(mask_box))\n",
    "eye_box += [np.nan] * (max_length - len(eye_box))\n",
    "serum_box += [np.nan] * (max_length - len(serum_box))\n",
    "moisturizer_box += [np.nan] * (max_length - len(moisturizer_box))\n",
    "\n",
    "\n",
    "# Creating dataset\n",
    "products_all_prices = pd.DataFrame({'Primer' : primer_box, 'Face Spray' : fs_box,\n",
    "                       'Cleanser' : cleanser_box, 'Sunscreen' : sun_box,\n",
    "                       'Toner': toner_box, 'Face Mask' : mask_box,\n",
    "                       'Eye Cream' : eye_box, 'Serum' : serum_box,\n",
    "                       'Moisturizer' : moisturizer_box})"
   ]
  },
  {
   "cell_type": "code",
   "execution_count": 109,
   "metadata": {},
   "outputs": [],
   "source": [
    "# Function to add values on the boxplot\n",
    "def add_boxplot_values(bp, ax):\n",
    "    # Annotate the median\n",
    "    for median in bp['medians']:\n",
    "        x, y = median.get_xydata()[1]  # Get the median coordinates\n",
    "        ax.text(x, y, f'{y:.2f}', ha='center', va='bottom', fontweight='bold')  # Annotate the median\n",
    "    \n",
    "    # Annotate the quartiles (25th and 75th percentiles)\n",
    "    for box in bp['boxes']:\n",
    "        # Get the lower and upper quartile from the vertices\n",
    "        lower_whisker, upper_whisker = box.get_path().vertices[0], box.get_path().vertices[2]\n",
    "        \n",
    "        # Annotate the lower quartile (25th percentile)\n",
    "        ax.text(lower_whisker[0], lower_whisker[1], f'{lower_whisker[1]:.2f}', \n",
    "                ha='center', va='top')\n",
    "        \n",
    "        # Annotate the upper quartile (75th percentile)\n",
    "        ax.text(upper_whisker[0], upper_whisker[1], f'{upper_whisker[1]:.2f}', \n",
    "                ha='center', va='bottom')"
   ]
  },
  {
   "cell_type": "code",
   "execution_count": 110,
   "metadata": {},
   "outputs": [
    {
     "data": {
      "image/png": "[encoded data removed]",
      "text/plain": [
       "<Figure size 1000x1000 with 9 Axes>"
      ]
     },
     "metadata": {},
     "output_type": "display_data"
    }
   ],
   "source": [
    "# Formating and flattening\n",
    "fig, axes = plt.subplots(3, 3, figsize=(10, 10))\n",
    "axes = axes.flatten()\n",
    "\n",
    "# Plotting all the products\n",
    "for i, product in enumerate(products_all_prices.columns):\n",
    "    # Get the boxplot object\n",
    "    bp = axes[i].boxplot(products_all_prices[product].dropna(), patch_artist=True)\n",
    "\n",
    "    # Changing y and x for better visualization\n",
    "    axes[i].set_title(f'{product}', fontweight= 'roman', fontsize=16)\n",
    "    axes[i].set_ylabel('Price', color='gray')\n",
    "    axes[i].tick_params(axis='x', colors='dimgray')\n",
    "    axes[i].tick_params(axis='y', colors='dimgray')\n",
    "    axes[i].set_ylim(0, 1200)\n",
    "    \n",
    "    # Customize all boxes with the color \"orchid\"\n",
    "    for box in bp['boxes']:\n",
    "        box.set(facecolor='orchid', edgecolor='dimgray')  # Set box color to \"orchid\" and edges to black\n",
    "    for whisker in bp['whiskers']:\n",
    "        whisker.set(color='gray')                   # Whisker color\n",
    "    for cap in bp['caps']:\n",
    "        cap.set(color='black')                       # Cap color\n",
    "    for median in bp['medians']:\n",
    "        median.set(color='red')                        # Median line color\n",
    "    for flier in bp['fliers']:\n",
    "        flier.set(markerfacecolor='navy', marker='o')  # Outlier (flier) color\n",
    "    \n",
    "    # Call function to add the values on the boxplot\n",
    "    add_boxplot_values(bp, axes[i])\n",
    "\n",
    "# Remove extra subplots if the number of products is less than 9\n",
    "for j in range(i+1, len(axes)):\n",
    "    fig.delaxes(axes[j])\n",
    "\n",
    "# Adjust layout\n",
    "plt.tight_layout()\n",
    "\n",
    "# Show the plot\n",
    "plt.show()"
   ]
  },
  {
   "cell_type": "markdown",
   "metadata": {},
   "source": [
    "We have tons of outliers on Primer, Face Sprays and Moisturizer"
   ]
  },
  {
   "cell_type": "markdown",
   "metadata": {},
   "source": [
    "* Graph 7"
   ]
  },
  {
   "cell_type": "code",
   "execution_count": 111,
   "metadata": {},
   "outputs": [
    {
     "data": {
      "image/png": "[encoded data removed]",
      "text/plain": [
       "<Figure size 1500x1500 with 9 Axes>"
      ]
     },
     "metadata": {},
     "output_type": "display_data"
    }
   ],
   "source": [
    "# Formating and flattening\n",
    "fig, axes = plt.subplots(3, 3, figsize=(15, 15))\n",
    "axes = axes.flatten()\n",
    "\n",
    "# Plotting all the products\n",
    "for i, product in enumerate(products_all_prices.columns):\n",
    "    axes[i].hist(products_all_prices[product].dropna(), color='cornflowerblue')\n",
    "    \n",
    "    axes[i].set_title(f'{product}', fontweight= 'roman', fontsize=16)\n",
    "    axes[i].set_xlabel('Price', color='gray')\n",
    "    axes[i].set_ylabel('Frequency', color='gray')\n",
    "\n",
    "    axes[i].spines['top'].set_visible(False)\n",
    "    axes[i].spines['right'].set_visible(False)\n",
    "\n",
    "\n",
    "# Remove extra subplots if the number of products is less than 9\n",
    "for j in range(i+1, len(axes)):\n",
    "    fig.delaxes(axes[j])\n",
    "\n",
    "# Adjust layout\n",
    "plt.tight_layout()\n",
    "\n",
    "# Show the plot\n",
    "plt.show()"
   ]
  },
  {
   "cell_type": "markdown",
   "metadata": {},
   "source": [
    "As we can see, its not possible to visualize those graphics with the same dimensions so we must study them separately"
   ]
  },
  {
   "cell_type": "markdown",
   "metadata": {},
   "source": [
    "* Graph 8"
   ]
  },
  {
   "cell_type": "code",
   "execution_count": 112,
   "metadata": {},
   "outputs": [],
   "source": [
    "# Creating separated datasets\n",
    "prices_smalls = pd.DataFrame({'Cleanser' : cleanser_box, 'Sunscreen' : sun_box,\n",
    "                              'Toner': toner_box, 'Face Mask' : mask_box,\n",
    "                              'Eye Cream' : eye_box, 'Serum' : serum_box,})\n",
    "\n",
    "prices_bigs = pd.DataFrame({'Primer' : primer_box, 'Face Spray' : fs_box,\n",
    "                            'Moisturizer' : moisturizer_box})"
   ]
  },
  {
   "cell_type": "code",
   "execution_count": 113,
   "metadata": {},
   "outputs": [
    {
     "data": {
      "image/png": "[encoded data removed]",
      "text/plain": [
       "<Figure size 1000x1000 with 6 Axes>"
      ]
     },
     "metadata": {},
     "output_type": "display_data"
    }
   ],
   "source": [
    "# Formating and flattening\n",
    "fig, axes = plt.subplots(2, 3, figsize=(10, 10))\n",
    "axes = axes.flatten()\n",
    "\n",
    "# Plotting all the products\n",
    "for i, product in enumerate(prices_smalls.columns):\n",
    "    axes[i].hist(prices_smalls[product].dropna(), color='cornflowerblue')\n",
    "    \n",
    "    axes[i].set_title(f'{product}', fontweight= 'roman', fontsize=16)\n",
    "    axes[i].set_xlabel('Price', color='gray')\n",
    "    axes[i].set_ylabel('Frequency', color='gray')\n",
    "\n",
    "    axes[i].spines['top'].set_visible(False)\n",
    "    axes[i].spines['right'].set_visible(False)\n",
    "    \n",
    "    # Set the same y-axis and x-axis limits\n",
    "    axes[i].set_ylim(0, 9)\n",
    "    axes[i].set_xlim(50,800)\n",
    "\n",
    "\n",
    "# Remove extra subplots if the number of products is less than 9\n",
    "for j in range(i+1, len(axes)):\n",
    "    fig.delaxes(axes[j])\n",
    "\n",
    "# Adjust layout\n",
    "plt.tight_layout()\n",
    "\n",
    "# Show the plot\n",
    "plt.show()"
   ]
  },
  {
   "cell_type": "markdown",
   "metadata": {},
   "source": [
    "* Graph 9"
   ]
  },
  {
   "cell_type": "code",
   "execution_count": 114,
   "metadata": {},
   "outputs": [
    {
     "data": {
      "image/png": "[encoded data removed]",
      "text/plain": [
       "<Figure size 1500x500 with 3 Axes>"
      ]
     },
     "metadata": {},
     "output_type": "display_data"
    }
   ],
   "source": [
    "# Formating and flattening\n",
    "fig, axes = plt.subplots(1, 3, figsize=(15, 5))\n",
    "axes = axes.flatten()\n",
    "\n",
    "# Plotting all the products\n",
    "for i, product in enumerate(prices_bigs.columns):\n",
    "    axes[i].hist(prices_bigs[product].dropna(), color='cornflowerblue')\n",
    "    \n",
    "    axes[i].set_title(f'{product}', fontweight= 'roman', fontsize=16)\n",
    "    axes[i].set_xlabel('Price', color='gray')\n",
    "    axes[i].set_ylabel('Products Units', color='gray')\n",
    "\n",
    "    axes[i].spines['top'].set_visible(False)\n",
    "    axes[i].spines['right'].set_visible(False)\n",
    "    \n",
    "    # Set the same y-axis and x-axis limits\n",
    "    axes[i].set_ylim(0, 270)\n",
    "    axes[i].set_xlim(0,20000)\n",
    "\n",
    "# Remove extra subplots if the number of products is less than 9\n",
    "for j in range(i+1, len(axes)):\n",
    "    fig.delaxes(axes[j])\n",
    "\n",
    "# Adjust layout\n",
    "plt.tight_layout()\n",
    "\n",
    "# Show the plot\n",
    "plt.show()"
   ]
  },
  {
   "cell_type": "markdown",
   "metadata": {},
   "source": [
    "* Graph 10"
   ]
  },
  {
   "cell_type": "code",
   "execution_count": 115,
   "metadata": {},
   "outputs": [
    {
     "data": {
      "application/vnd.plotly.v1+json": {
       "config": {
        "plotlyServerURL": "https://plot.ly"
       },
       "data": [
        {
         "marker": {
          "color": "cornflowerblue"
         },
         "name": "Primer",
         "type": "histogram",
         "x": [
          399,
          480,
          536,
          538,
          234,
          311,
          245,
          315,
          560,
          249,
          399,
          260,
          517,
          234,
          480,
          245,
          311,
          645,
          536,
          758,
          568,
          538,
          91,
          359,
          315,
          517,
          485,
          45,
          323,
          359,
          79,
          521,
          475,
          219,
          299,
          135,
          399,
          174,
          228,
          59,
          446,
          449,
          160,
          297,
          585,
          691,
          319,
          690,
          499,
          687,
          175,
          679,
          139,
          339,
          399,
          314,
          584,
          199,
          803,
          1305,
          445,
          559,
          199,
          519,
          319,
          319,
          479,
          559,
          638,
          525,
          1401,
          599,
          199,
          454,
          454,
          599,
          499,
          679,
          750,
          489,
          416,
          799,
          249,
          229,
          260,
          50,
          485,
          599,
          722,
          299,
          405,
          99,
          199,
          109,
          266,
          750,
          99,
          62,
          79,
          89,
          439,
          616,
          279,
          224,
          240,
          75,
          180,
          199,
          200,
          149,
          224,
          519,
          180,
          510,
          275,
          359,
          1099,
          459,
          199,
          424,
          2700,
          600,
          999,
          275,
          175,
          487,
          659,
          898,
          725,
          89,
          232,
          299,
          18089,
          349,
          149,
          235,
          235,
          325,
          1445,
          306,
          235,
          235,
          235,
          149,
          399,
          319,
          299,
          584,
          9675,
          409,
          249,
          235,
          235,
          235,
          235,
          235,
          235,
          235,
          235,
          235,
          235,
          235,
          235,
          235,
          250,
          279,
          320,
          199,
          489,
          799,
          340,
          21952,
          174,
          298,
          799,
          454,
          1360,
          399,
          2400,
          250,
          489,
          799,
          340,
          199,
          21952,
          235,
          235,
          476,
          184,
          419,
          210,
          359,
          559,
          238,
          195,
          572,
          699,
          2400,
          399,
          184,
          180,
          823,
          695,
          424,
          249,
          599,
          712,
          210,
          99,
          79,
          848,
          399,
          499,
          845,
          329,
          1645,
          145,
          112,
          198,
          189,
          399,
          199,
          297,
          227,
          99,
          849,
          299,
          186,
          650,
          650,
          650,
          2400,
          269,
          2400,
          1275,
          184,
          629,
          2500,
          1199,
          297,
          227,
          99,
          849,
          199,
          299,
          186,
          148,
          650,
          650,
          650,
          650,
          650,
          650,
          650,
          650,
          2400,
          676,
          650,
          650,
          650,
          407,
          171,
          999,
          499,
          349,
          139,
          149,
          139,
          2045,
          99,
          69,
          250,
          559,
          310,
          129,
          960,
          699,
          5494,
          2950,
          13598,
          1325,
          249,
          999,
          144,
          265,
          109,
          595,
          235,
          235
         ],
         "xaxis": "x",
         "yaxis": "y"
        },
        {
         "marker": {
          "color": "cornflowerblue"
         },
         "name": "Face Spray",
         "type": "histogram",
         "x": [
          296,
          346,
          1350,
          2790,
          346,
          296,
          1150,
          378,
          311,
          342,
          450,
          207,
          288,
          288,
          150,
          1989,
          3490,
          160,
          2590,
          199,
          166,
          180,
          214,
          370,
          288,
          116,
          495,
          139,
          495,
          125,
          189,
          528,
          399,
          196,
          360,
          225,
          199,
          219,
          219,
          204,
          528,
          166,
          195,
          385,
          220,
          3467,
          288,
          200,
          528,
          349,
          310,
          2425,
          349,
          810,
          495,
          199,
          201,
          104,
          310,
          378,
          351,
          226,
          125,
          188,
          350,
          1800,
          1595,
          1800,
          299,
          390,
          3189,
          8000,
          500,
          210,
          299,
          512,
          322,
          1250,
          300,
          3390,
          2177,
          528,
          88,
          189,
          149,
          1925,
          96,
          384,
          549,
          1590,
          540,
          298,
          191,
          380,
          201,
          125,
          322,
          540,
          236,
          594,
          499,
          318,
          150,
          275,
          175,
          399,
          349,
          490,
          499,
          1377,
          450,
          355,
          478,
          1150,
          351,
          344,
          289,
          556,
          2306,
          295,
          5698,
          3976,
          474,
          396,
          116,
          748,
          499,
          318,
          779,
          381,
          99,
          528,
          289,
          342,
          295,
          314,
          1305,
          3139,
          199,
          223,
          310,
          179,
          149,
          250,
          239,
          310,
          585,
          349,
          200,
          3079,
          3079,
          322,
          269,
          4320,
          319,
          510,
          7599,
          379,
          199,
          2977,
          1289,
          429,
          349,
          216,
          249,
          163,
          1095,
          250,
          250,
          736,
          397,
          224,
          556,
          385,
          350,
          396,
          269,
          214,
          314,
          270,
          104,
          3699,
          3139,
          223,
          2750,
          199,
          199,
          2038,
          574,
          289,
          297,
          210,
          179,
          3110,
          285,
          206,
          149,
          399,
          360,
          3046,
          269,
          395,
          640,
          351,
          349,
          141,
          700,
          559,
          379,
          509,
          100,
          299,
          349,
          1041,
          699,
          310,
          237,
          153,
          389,
          199,
          4244,
          339,
          377,
          495,
          289,
          180,
          350,
          2255,
          725,
          200,
          339,
          149,
          224,
          5389,
          249,
          90,
          349,
          229,
          1950,
          349,
          190,
          349,
          79,
          449,
          1064,
          349,
          357,
          642,
          275,
          295,
          449,
          199,
          259,
          229,
          180,
          185,
          70,
          299,
          2773,
          425,
          1199,
          931,
          279,
          450,
          490,
          333,
          249,
          484,
          270,
          195,
          136,
          2150,
          349,
          230,
          210,
          275,
          395,
          6358,
          300,
          199,
          149,
          1147
         ],
         "xaxis": "x2",
         "yaxis": "y2"
        },
        {
         "marker": {
          "color": "cornflowerblue"
         },
         "name": "Moisturizer",
         "type": "histogram",
         "x": [
          372,
          226,
          103,
          240,
          284,
          413,
          559,
          427,
          315,
          150,
          167,
          1000,
          199,
          262,
          786,
          314,
          297,
          324,
          331,
          89,
          296,
          375,
          431,
          285,
          1000,
          398,
          203,
          590,
          369,
          227,
          298,
          427,
          372,
          178,
          375,
          167,
          299,
          206,
          327,
          179,
          296,
          326,
          370,
          189,
          166,
          255,
          103,
          150,
          361,
          331,
          480,
          295,
          328,
          361,
          336,
          226,
          157,
          569,
          293,
          786,
          216,
          235,
          735,
          141,
          249,
          216,
          296,
          324,
          327,
          296,
          199,
          245,
          279,
          379,
          427,
          296,
          285,
          225,
          170,
          221,
          139,
          233,
          407,
          154,
          327,
          349,
          225,
          185,
          307,
          356,
          159,
          569,
          71,
          247,
          451,
          221,
          354,
          649,
          271,
          317,
          199,
          350,
          438,
          189,
          294,
          373,
          395,
          319,
          283,
          309,
          556,
          175,
          331,
          247,
          439,
          578,
          325,
          244,
          327,
          325,
          327,
          495,
          234,
          572,
          179,
          64,
          179,
          209,
          438,
          156,
          240,
          254,
          259,
          327,
          639,
          493,
          249,
          210,
          690,
          293,
          340,
          530,
          90,
          315,
          279,
          229,
          199,
          749,
          307,
          204,
          427,
          348,
          419,
          235,
          412,
          165,
          439,
          379,
          357,
          254,
          296,
          194,
          299,
          146,
          532,
          80,
          389,
          710,
          155,
          296,
          1064,
          309,
          265,
          1017,
          328,
          1375,
          582,
          152,
          567,
          259,
          277,
          399,
          479,
          799,
          1790,
          1195,
          179,
          179,
          939,
          391,
          237,
          440,
          299,
          349,
          239,
          271,
          349,
          699,
          169,
          243,
          735,
          159,
          178,
          699,
          228,
          259,
          417,
          95,
          91,
          465,
          90,
          390,
          340,
          254,
          250,
          297,
          450,
          410,
          149,
          150,
          550,
          179,
          616,
          345,
          1099,
          209,
          198,
          160,
          476,
          340,
          279,
          251,
          349,
          509,
          495,
          374,
          198,
          160,
          129,
          45,
          341,
          549,
          261,
          299,
          3249,
          2799,
          179,
          398,
          247,
          183,
          182,
          295,
          825,
          678,
          416,
          495,
          581,
          80,
          374,
          175,
          230,
          328,
          417,
          305,
          126,
          189,
          414,
          449,
          112,
          449,
          65,
          239,
          327,
          1017,
          215,
          375,
          693,
          424,
          180,
          445,
          105,
          242,
          99,
          234,
          379,
          315,
          349,
          632,
          299,
          663,
          384,
          494,
          395,
          365,
          598,
          367,
          661,
          626,
          424,
          667,
          323,
          638,
          427,
          551,
          417,
          412,
          785,
          166,
          421,
          487,
          349,
          173,
          139,
          592,
          112,
          434,
          507,
          539,
          419,
          664,
          378,
          414,
          732,
          714,
          349,
          453,
          635,
          760,
          443,
          729,
          530
         ],
         "xaxis": "x3",
         "yaxis": "y3"
        }
       ],
       "layout": {
        "annotations": [
         {
          "font": {
           "size": 16
          },
          "showarrow": false,
          "text": "Primer",
          "x": 0.14444444444444446,
          "xanchor": "center",
          "xref": "paper",
          "y": 1,
          "yanchor": "bottom",
          "yref": "paper"
         },
         {
          "font": {
           "size": 16
          },
          "showarrow": false,
          "text": "Face Spray",
          "x": 0.5,
          "xanchor": "center",
          "xref": "paper",
          "y": 1,
          "yanchor": "bottom",
          "yref": "paper"
         },
         {
          "font": {
           "size": 16
          },
          "showarrow": false,
          "text": "Moisturizer",
          "x": 0.8555555555555556,
          "xanchor": "center",
          "xref": "paper",
          "y": 1,
          "yanchor": "bottom",
          "yref": "paper"
         }
        ],
        "height": 600,
        "showlegend": false,
        "template": {
         "data": {
          "bar": [
           {
            "error_x": {
             "color": "rgb(36,36,36)"
            },
            "error_y": {
             "color": "rgb(36,36,36)"
            },
            "marker": {
             "line": {
              "color": "white",
              "width": 0.5
             },
             "pattern": {
              "fillmode": "overlay",
              "size": 10,
              "solidity": 0.2
             }
            },
            "type": "bar"
           }
          ],
          "barpolar": [
           {
            "marker": {
             "line": {
              "color": "white",
              "width": 0.5
             },
             "pattern": {
              "fillmode": "overlay",
              "size": 10,
              "solidity": 0.2
             }
            },
            "type": "barpolar"
           }
          ],
          "carpet": [
           {
            "aaxis": {
             "endlinecolor": "rgb(36,36,36)",
             "gridcolor": "white",
             "linecolor": "white",
             "minorgridcolor": "white",
             "startlinecolor": "rgb(36,36,36)"
            },
            "baxis": {
             "endlinecolor": "rgb(36,36,36)",
             "gridcolor": "white",
             "linecolor": "white",
             "minorgridcolor": "white",
             "startlinecolor": "rgb(36,36,36)"
            },
            "type": "carpet"
           }
          ],
          "choropleth": [
           {
            "colorbar": {
             "outlinewidth": 1,
             "tickcolor": "rgb(36,36,36)",
             "ticks": "outside"
            },
            "type": "choropleth"
           }
          ],
          "contour": [
           {
            "colorbar": {
             "outlinewidth": 1,
             "tickcolor": "rgb(36,36,36)",
             "ticks": "outside"
            },
            "colorscale": [
             [
              0,
              "#440154"
             ],
             [
              0.1111111111111111,
              "#482878"
             ],
             [
              0.2222222222222222,
              "#3e4989"
             ],
             [
              0.3333333333333333,
              "#31688e"
             ],
             [
              0.4444444444444444,
              "#26828e"
             ],
             [
              0.5555555555555556,
              "#1f9e89"
             ],
             [
              0.6666666666666666,
              "#35b779"
             ],
             [
              0.7777777777777778,
              "#6ece58"
             ],
             [
              0.8888888888888888,
              "#b5de2b"
             ],
             [
              1,
              "#fde725"
             ]
            ],
            "type": "contour"
           }
          ],
          "contourcarpet": [
           {
            "colorbar": {
             "outlinewidth": 1,
             "tickcolor": "rgb(36,36,36)",
             "ticks": "outside"
            },
            "type": "contourcarpet"
           }
          ],
          "heatmap": [
           {
            "colorbar": {
             "outlinewidth": 1,
             "tickcolor": "rgb(36,36,36)",
             "ticks": "outside"
            },
            "colorscale": [
             [
              0,
              "#440154"
             ],
             [
              0.1111111111111111,
              "#482878"
             ],
             [
              0.2222222222222222,
              "#3e4989"
             ],
             [
              0.3333333333333333,
              "#31688e"
             ],
             [
              0.4444444444444444,
              "#26828e"
             ],
             [
              0.5555555555555556,
              "#1f9e89"
             ],
             [
              0.6666666666666666,
              "#35b779"
             ],
             [
              0.7777777777777778,
              "#6ece58"
             ],
             [
              0.8888888888888888,
              "#b5de2b"
             ],
             [
              1,
              "#fde725"
             ]
            ],
            "type": "heatmap"
           }
          ],
          "heatmapgl": [
           {
            "colorbar": {
             "outlinewidth": 1,
             "tickcolor": "rgb(36,36,36)",
             "ticks": "outside"
            },
            "colorscale": [
             [
              0,
              "#440154"
             ],
             [
              0.1111111111111111,
              "#482878"
             ],
             [
              0.2222222222222222,
              "#3e4989"
             ],
             [
              0.3333333333333333,
              "#31688e"
             ],
             [
              0.4444444444444444,
              "#26828e"
             ],
             [
              0.5555555555555556,
              "#1f9e89"
             ],
             [
              0.6666666666666666,
              "#35b779"
             ],
             [
              0.7777777777777778,
              "#6ece58"
             ],
             [
              0.8888888888888888,
              "#b5de2b"
             ],
             [
              1,
              "#fde725"
             ]
            ],
            "type": "heatmapgl"
           }
          ],
          "histogram": [
           {
            "marker": {
             "line": {
              "color": "white",
              "width": 0.6
             }
            },
            "type": "histogram"
           }
          ],
          "histogram2d": [
           {
            "colorbar": {
             "outlinewidth": 1,
             "tickcolor": "rgb(36,36,36)",
             "ticks": "outside"
            },
            "colorscale": [
             [
              0,
              "#440154"
             ],
             [
              0.1111111111111111,
              "#482878"
             ],
             [
              0.2222222222222222,
              "#3e4989"
             ],
             [
              0.3333333333333333,
              "#31688e"
             ],
             [
              0.4444444444444444,
              "#26828e"
             ],
             [
              0.5555555555555556,
              "#1f9e89"
             ],
             [
              0.6666666666666666,
              "#35b779"
             ],
             [
              0.7777777777777778,
              "#6ece58"
             ],
             [
              0.8888888888888888,
              "#b5de2b"
             ],
             [
              1,
              "#fde725"
             ]
            ],
            "type": "histogram2d"
           }
          ],
          "histogram2dcontour": [
           {
            "colorbar": {
             "outlinewidth": 1,
             "tickcolor": "rgb(36,36,36)",
             "ticks": "outside"
            },
            "colorscale": [
             [
              0,
              "#440154"
             ],
             [
              0.1111111111111111,
              "#482878"
             ],
             [
              0.2222222222222222,
              "#3e4989"
             ],
             [
              0.3333333333333333,
              "#31688e"
             ],
             [
              0.4444444444444444,
              "#26828e"
             ],
             [
              0.5555555555555556,
              "#1f9e89"
             ],
             [
              0.6666666666666666,
              "#35b779"
             ],
             [
              0.7777777777777778,
              "#6ece58"
             ],
             [
              0.8888888888888888,
              "#b5de2b"
             ],
             [
              1,
              "#fde725"
             ]
            ],
            "type": "histogram2dcontour"
           }
          ],
          "mesh3d": [
           {
            "colorbar": {
             "outlinewidth": 1,
             "tickcolor": "rgb(36,36,36)",
             "ticks": "outside"
            },
            "type": "mesh3d"
           }
          ],
          "parcoords": [
           {
            "line": {
             "colorbar": {
              "outlinewidth": 1,
              "tickcolor": "rgb(36,36,36)",
              "ticks": "outside"
             }
            },
            "type": "parcoords"
           }
          ],
          "pie": [
           {
            "automargin": true,
            "type": "pie"
           }
          ],
          "scatter": [
           {
            "fillpattern": {
             "fillmode": "overlay",
             "size": 10,
             "solidity": 0.2
            },
            "type": "scatter"
           }
          ],
          "scatter3d": [
           {
            "line": {
             "colorbar": {
              "outlinewidth": 1,
              "tickcolor": "rgb(36,36,36)",
              "ticks": "outside"
             }
            },
            "marker": {
             "colorbar": {
              "outlinewidth": 1,
              "tickcolor": "rgb(36,36,36)",
              "ticks": "outside"
             }
            },
            "type": "scatter3d"
           }
          ],
          "scattercarpet": [
           {
            "marker": {
             "colorbar": {
              "outlinewidth": 1,
              "tickcolor": "rgb(36,36,36)",
              "ticks": "outside"
             }
            },
            "type": "scattercarpet"
           }
          ],
          "scattergeo": [
           {
            "marker": {
             "colorbar": {
              "outlinewidth": 1,
              "tickcolor": "rgb(36,36,36)",
              "ticks": "outside"
             }
            },
            "type": "scattergeo"
           }
          ],
          "scattergl": [
           {
            "marker": {
             "colorbar": {
              "outlinewidth": 1,
              "tickcolor": "rgb(36,36,36)",
              "ticks": "outside"
             }
            },
            "type": "scattergl"
           }
          ],
          "scattermapbox": [
           {
            "marker": {
             "colorbar": {
              "outlinewidth": 1,
              "tickcolor": "rgb(36,36,36)",
              "ticks": "outside"
             }
            },
            "type": "scattermapbox"
           }
          ],
          "scatterpolar": [
           {
            "marker": {
             "colorbar": {
              "outlinewidth": 1,
              "tickcolor": "rgb(36,36,36)",
              "ticks": "outside"
             }
            },
            "type": "scatterpolar"
           }
          ],
          "scatterpolargl": [
           {
            "marker": {
             "colorbar": {
              "outlinewidth": 1,
              "tickcolor": "rgb(36,36,36)",
              "ticks": "outside"
             }
            },
            "type": "scatterpolargl"
           }
          ],
          "scatterternary": [
           {
            "marker": {
             "colorbar": {
              "outlinewidth": 1,
              "tickcolor": "rgb(36,36,36)",
              "ticks": "outside"
             }
            },
            "type": "scatterternary"
           }
          ],
          "surface": [
           {
            "colorbar": {
             "outlinewidth": 1,
             "tickcolor": "rgb(36,36,36)",
             "ticks": "outside"
            },
            "colorscale": [
             [
              0,
              "#440154"
             ],
             [
              0.1111111111111111,
              "#482878"
             ],
             [
              0.2222222222222222,
              "#3e4989"
             ],
             [
              0.3333333333333333,
              "#31688e"
             ],
             [
              0.4444444444444444,
              "#26828e"
             ],
             [
              0.5555555555555556,
              "#1f9e89"
             ],
             [
              0.6666666666666666,
              "#35b779"
             ],
             [
              0.7777777777777778,
              "#6ece58"
             ],
             [
              0.8888888888888888,
              "#b5de2b"
             ],
             [
              1,
              "#fde725"
             ]
            ],
            "type": "surface"
           }
          ],
          "table": [
           {
            "cells": {
             "fill": {
              "color": "rgb(237,237,237)"
             },
             "line": {
              "color": "white"
             }
            },
            "header": {
             "fill": {
              "color": "rgb(217,217,217)"
             },
             "line": {
              "color": "white"
             }
            },
            "type": "table"
           }
          ]
         },
         "layout": {
          "annotationdefaults": {
           "arrowhead": 0,
           "arrowwidth": 1
          },
          "autotypenumbers": "strict",
          "coloraxis": {
           "colorbar": {
            "outlinewidth": 1,
            "tickcolor": "rgb(36,36,36)",
            "ticks": "outside"
           }
          },
          "colorscale": {
           "diverging": [
            [
             0,
             "rgb(103,0,31)"
            ],
            [
             0.1,
             "rgb(178,24,43)"
            ],
            [
             0.2,
             "rgb(214,96,77)"
            ],
            [
             0.3,
             "rgb(244,165,130)"
            ],
            [
             0.4,
             "rgb(253,219,199)"
            ],
            [
             0.5,
             "rgb(247,247,247)"
            ],
            [
             0.6,
             "rgb(209,229,240)"
            ],
            [
             0.7,
             "rgb(146,197,222)"
            ],
            [
             0.8,
             "rgb(67,147,195)"
            ],
            [
             0.9,
             "rgb(33,102,172)"
            ],
            [
             1,
             "rgb(5,48,97)"
            ]
           ],
           "sequential": [
            [
             0,
             "#440154"
            ],
            [
             0.1111111111111111,
             "#482878"
            ],
            [
             0.2222222222222222,
             "#3e4989"
            ],
            [
             0.3333333333333333,
             "#31688e"
            ],
            [
             0.4444444444444444,
             "#26828e"
            ],
            [
             0.5555555555555556,
             "#1f9e89"
            ],
            [
             0.6666666666666666,
             "#35b779"
            ],
            [
             0.7777777777777778,
             "#6ece58"
            ],
            [
             0.8888888888888888,
             "#b5de2b"
            ],
            [
             1,
             "#fde725"
            ]
           ],
           "sequentialminus": [
            [
             0,
             "#440154"
            ],
            [
             0.1111111111111111,
             "#482878"
            ],
            [
             0.2222222222222222,
             "#3e4989"
            ],
            [
             0.3333333333333333,
             "#31688e"
            ],
            [
             0.4444444444444444,
             "#26828e"
            ],
            [
             0.5555555555555556,
             "#1f9e89"
            ],
            [
             0.6666666666666666,
             "#35b779"
            ],
            [
             0.7777777777777778,
             "#6ece58"
            ],
            [
             0.8888888888888888,
             "#b5de2b"
            ],
            [
             1,
             "#fde725"
            ]
           ]
          },
          "colorway": [
           "#1F77B4",
           "#FF7F0E",
           "#2CA02C",
           "#D62728",
           "#9467BD",
           "#8C564B",
           "#E377C2",
           "#7F7F7F",
           "#BCBD22",
           "#17BECF"
          ],
          "font": {
           "color": "rgb(36,36,36)"
          },
          "geo": {
           "bgcolor": "white",
           "lakecolor": "white",
           "landcolor": "white",
           "showlakes": true,
           "showland": true,
           "subunitcolor": "white"
          },
          "hoverlabel": {
           "align": "left"
          },
          "hovermode": "closest",
          "mapbox": {
           "style": "light"
          },
          "paper_bgcolor": "white",
          "plot_bgcolor": "white",
          "polar": {
           "angularaxis": {
            "gridcolor": "rgb(232,232,232)",
            "linecolor": "rgb(36,36,36)",
            "showgrid": false,
            "showline": true,
            "ticks": "outside"
           },
           "bgcolor": "white",
           "radialaxis": {
            "gridcolor": "rgb(232,232,232)",
            "linecolor": "rgb(36,36,36)",
            "showgrid": false,
            "showline": true,
            "ticks": "outside"
           }
          },
          "scene": {
           "xaxis": {
            "backgroundcolor": "white",
            "gridcolor": "rgb(232,232,232)",
            "gridwidth": 2,
            "linecolor": "rgb(36,36,36)",
            "showbackground": true,
            "showgrid": false,
            "showline": true,
            "ticks": "outside",
            "zeroline": false,
            "zerolinecolor": "rgb(36,36,36)"
           },
           "yaxis": {
            "backgroundcolor": "white",
            "gridcolor": "rgb(232,232,232)",
            "gridwidth": 2,
            "linecolor": "rgb(36,36,36)",
            "showbackground": true,
            "showgrid": false,
            "showline": true,
            "ticks": "outside",
            "zeroline": false,
            "zerolinecolor": "rgb(36,36,36)"
           },
           "zaxis": {
            "backgroundcolor": "white",
            "gridcolor": "rgb(232,232,232)",
            "gridwidth": 2,
            "linecolor": "rgb(36,36,36)",
            "showbackground": true,
            "showgrid": false,
            "showline": true,
            "ticks": "outside",
            "zeroline": false,
            "zerolinecolor": "rgb(36,36,36)"
           }
          },
          "shapedefaults": {
           "fillcolor": "black",
           "line": {
            "width": 0
           },
           "opacity": 0.3
          },
          "ternary": {
           "aaxis": {
            "gridcolor": "rgb(232,232,232)",
            "linecolor": "rgb(36,36,36)",
            "showgrid": false,
            "showline": true,
            "ticks": "outside"
           },
           "baxis": {
            "gridcolor": "rgb(232,232,232)",
            "linecolor": "rgb(36,36,36)",
            "showgrid": false,
            "showline": true,
            "ticks": "outside"
           },
           "bgcolor": "white",
           "caxis": {
            "gridcolor": "rgb(232,232,232)",
            "linecolor": "rgb(36,36,36)",
            "showgrid": false,
            "showline": true,
            "ticks": "outside"
           }
          },
          "title": {
           "x": 0.05
          },
          "xaxis": {
           "automargin": true,
           "gridcolor": "rgb(232,232,232)",
           "linecolor": "rgb(36,36,36)",
           "showgrid": false,
           "showline": true,
           "ticks": "outside",
           "title": {
            "standoff": 15
           },
           "zeroline": false,
           "zerolinecolor": "rgb(36,36,36)"
          },
          "yaxis": {
           "automargin": true,
           "gridcolor": "rgb(232,232,232)",
           "linecolor": "rgb(36,36,36)",
           "showgrid": false,
           "showline": true,
           "ticks": "outside",
           "title": {
            "standoff": 15
           },
           "zeroline": false,
           "zerolinecolor": "rgb(36,36,36)"
          }
         }
        },
        "title": {
         "text": "Products Price Distribution",
         "x": 0.5
        },
        "width": 1000,
        "xaxis": {
         "anchor": "y",
         "color": "gray",
         "domain": [
          0,
          0.2888888888888889
         ],
         "range": [
          0,
          20000
         ],
         "title": {
          "text": "Price"
         }
        },
        "xaxis2": {
         "anchor": "y2",
         "color": "gray",
         "domain": [
          0.35555555555555557,
          0.6444444444444445
         ],
         "range": [
          0,
          20000
         ],
         "title": {
          "text": "Price"
         }
        },
        "xaxis3": {
         "anchor": "y3",
         "color": "gray",
         "domain": [
          0.7111111111111111,
          1
         ],
         "range": [
          0,
          20000
         ],
         "title": {
          "text": "Price"
         }
        },
        "yaxis": {
         "anchor": "x",
         "color": "gray",
         "domain": [
          0,
          1
         ],
         "range": [
          0,
          270
         ],
         "title": {
          "text": "Products Units"
         }
        },
        "yaxis2": {
         "anchor": "x2",
         "color": "gray",
         "domain": [
          0,
          1
         ],
         "range": [
          0,
          270
         ],
         "title": {
          "text": "Products Units"
         }
        },
        "yaxis3": {
         "anchor": "x3",
         "color": "gray",
         "domain": [
          0,
          1
         ],
         "range": [
          0,
          270
         ],
         "title": {
          "text": "Products Units"
         }
        }
       }
      }
     },
     "metadata": {},
     "output_type": "display_data"
    }
   ],
   "source": [
    "import plotly.graph_objects as go\n",
    "from plotly.subplots import make_subplots\n",
    "\n",
    "# Create a subplot figure with 1 row and 3 columns\n",
    "fig = make_subplots(rows=1, cols=3, subplot_titles=prices_bigs.columns)\n",
    "\n",
    "# Plotting all the products\n",
    "for i, product in enumerate(prices_bigs.columns):\n",
    "    fig.add_trace(\n",
    "        go.Histogram(\n",
    "            x=prices_bigs[product].dropna(),\n",
    "            marker=dict(color='cornflowerblue'),\n",
    "            name=product\n",
    "        ),\n",
    "        row=1, col=i+1\n",
    "    )\n",
    "    \n",
    "    # Set axis properties for each subplot\n",
    "    fig.update_xaxes(title_text='Price', row=1, col=i+1, color='gray')\n",
    "    fig.update_yaxes(title_text='Products Units', row=1, col=i+1, color='gray')\n",
    "\n",
    "# Set layout\n",
    "fig.update_layout(\n",
    "    height=600, width=1000,\n",
    "    showlegend=False,\n",
    "    title_text=\"Products Price Distribution\",\n",
    "    title_x=0.5,\n",
    "    template='simple_white'\n",
    ")\n",
    "\n",
    "# Set the same y-axis and x-axis limits across all subplots\n",
    "fig.update_yaxes(range=[0, 270])\n",
    "fig.update_xaxes(range=[0, 20000])\n",
    "\n",
    "# Show the interactive plot\n",
    "fig.show()"
   ]
  },
  {
   "cell_type": "markdown",
   "metadata": {},
   "source": [
    "* Graph 11"
   ]
  },
  {
   "cell_type": "code",
   "execution_count": 116,
   "metadata": {},
   "outputs": [
    {
     "name": "stdout",
     "output_type": "stream",
     "text": [
      "[34, 0, 0, 0, 0, 0, 0, 0, 0]\n",
      "[5, 0, 0, 0, 0, 0, 0, 0, 0]\n",
      "[8, 0, 0, 0, 0, 0, 0, 0, 0]\n",
      "[4, 0, 0, 0, 0, 0, 0, 0, 0]\n",
      "[4, 0, 0, 0, 0, 0, 0, 0, 0]\n",
      "[2, 0, 0, 0, 0, 0, 0, 0, 0]\n",
      "[1, 0, 0, 0, 0, 0, 0, 0, 0]\n",
      "[1, 0, 0, 0, 0, 0, 0, 0, 0]\n",
      "[2, 0, 0, 0, 0, 0, 0, 0, 0]\n",
      "[5, 0, 0, 0, 0, 0, 0, 0, 0]\n"
     ]
    }
   ],
   "source": [
    "# Function to count the frequency of products\n",
    "def count_products_sub(df, producto):\n",
    "    counts = []\n",
    "    moist=0; prim=0; fs=0; serum=0; clean=0; eye=0; ton=0; fm=0; sun=0\n",
    "    for p in producto:\n",
    "        for r in df['Product']:\n",
    "            if r == p:\n",
    "                match product:\n",
    "                    case 'Moisturizer': moist += 1\n",
    "                    case 'Primer': prim += 1\n",
    "                    case 'Facial sprays': fs += 1\n",
    "                    case 'Serum': serum += 1\n",
    "                    case 'Cleanser': clean += 1\n",
    "                    case 'Eye Cream': eye += 1\n",
    "                    case 'Toner': ton += 1\n",
    "                    case 'Face Mask': fm += 1\n",
    "                    case 'Sunscreen': sun += 1\n",
    "    counts.append(moist); counts.append(prim); counts.append(fs); counts.append(serum)\n",
    "    counts.append(clean); counts.append(eye); counts.append(ton); counts.append(fm); \n",
    "    counts.append(sun)\n",
    "    return counts\n",
    "\n",
    "# Filtering dfs\n",
    "nivea       = count_products_sub(df[df['Brand'] == 'Nivea'],         products)\n",
    "cetaphil    = count_products_sub(df[df['Brand'] == 'Cetaphil'],      products)\n",
    "neutrogena  = count_products_sub(df[df['Brand'] == 'Neutrogena'],    products)\n",
    "bioderma    = count_products_sub(df[df['Brand'] == 'Bioderma'],      products)\n",
    "loreal      = count_products_sub(df[df['Brand'] == \"L'Oreal Paris\"], products)\n",
    "cerave      = count_products_sub(df[df['Brand'] == 'CeraVe'],        products)\n",
    "la_roche    = count_products_sub(df[df['Brand'] == 'La Roche-Posay'], products)\n",
    "garnier     = count_products_sub(df[df['Brand'] == 'Garnier'],       products)\n",
    "dove        = count_products_sub(df[df['Brand'] == 'Dove'],          products)\n",
    "maybelline  = count_products_sub(df[df['Brand'] == 'Maybelline'],    products)\n",
    "\n",
    "dfs = [nivea, cetaphil, neutrogena, bioderma, loreal, cerave, la_roche, garnier, dove, maybelline]\n",
    "\n",
    "for i in dfs:\n",
    "    print(i)"
   ]
  },
  {
   "cell_type": "markdown",
   "metadata": {},
   "source": [
    "Apparently all these brands have only moisturizers so we can discard the idea of filtering then by \"Product\"\n",
    "and analyse their different prices with the graphs we already made"
   ]
  },
  {
   "cell_type": "code",
   "execution_count": 117,
   "metadata": {},
   "outputs": [
    {
     "data": {
      "text/html": [
       "<div>\n",
       "<style scoped>\n",
       "    .dataframe tbody tr th:only-of-type {\n",
       "        vertical-align: middle;\n",
       "    }\n",
       "\n",
       "    .dataframe tbody tr th {\n",
       "        vertical-align: top;\n",
       "    }\n",
       "\n",
       "    .dataframe thead th {\n",
       "        text-align: right;\n",
       "    }\n",
       "</style>\n",
       "<table border=\"1\" class=\"dataframe\">\n",
       "  <thead>\n",
       "    <tr style=\"text-align: right;\">\n",
       "      <th></th>\n",
       "      <th>Title</th>\n",
       "      <th>Product</th>\n",
       "      <th>Brand</th>\n",
       "      <th>Skin_Type</th>\n",
       "      <th>Price</th>\n",
       "      <th>Link</th>\n",
       "    </tr>\n",
       "  </thead>\n",
       "  <tbody>\n",
       "    <tr>\n",
       "      <th>290</th>\n",
       "      <td>Maybelline New York Primer, Oils Absor...</td>\n",
       "      <td>Primer</td>\n",
       "      <td>Maybelline</td>\n",
       "      <td>[Oily]</td>\n",
       "      <td>480</td>\n",
       "      <td>https://www.amazon.in/sspa/click?ie=UTF8&amp;spc=M...</td>\n",
       "    </tr>\n",
       "    <tr>\n",
       "      <th>297</th>\n",
       "      <td>Maybelline New York Primer, Reduces Ap...</td>\n",
       "      <td>Primer</td>\n",
       "      <td>Maybelline</td>\n",
       "      <td>[Dry]</td>\n",
       "      <td>560</td>\n",
       "      <td>https://www.amazon.in/Maybelline-York-Face-Pri...</td>\n",
       "    </tr>\n",
       "    <tr>\n",
       "      <th>303</th>\n",
       "      <td>Maybelline New York Primer, Oils Absor...</td>\n",
       "      <td>Primer</td>\n",
       "      <td>Maybelline</td>\n",
       "      <td>[Oily]</td>\n",
       "      <td>480</td>\n",
       "      <td>https://www.amazon.in/Maybelline-York-Primer-M...</td>\n",
       "    </tr>\n",
       "    <tr>\n",
       "      <th>364</th>\n",
       "      <td>Fit Me Primer 01</td>\n",
       "      <td>Primer</td>\n",
       "      <td>Maybelline</td>\n",
       "      <td>[All]</td>\n",
       "      <td>599</td>\n",
       "      <td>https://www.amazon.in/Maybelline-6902395808503...</td>\n",
       "    </tr>\n",
       "    <tr>\n",
       "      <th>504</th>\n",
       "      <td>Maybelline Facestudio Master Prime Pri...</td>\n",
       "      <td>Primer</td>\n",
       "      <td>Maybelline</td>\n",
       "      <td>[All]</td>\n",
       "      <td>1645</td>\n",
       "      <td>https://www.amazon.in/Maybelline-Facestudio-Ma...</td>\n",
       "    </tr>\n",
       "  </tbody>\n",
       "</table>\n",
       "</div>"
      ],
      "text/plain": [
       "                                                 Title Product       Brand  \\\n",
       "290          Maybelline New York Primer, Oils Absor...  Primer  Maybelline   \n",
       "297          Maybelline New York Primer, Reduces Ap...  Primer  Maybelline   \n",
       "303          Maybelline New York Primer, Oils Absor...  Primer  Maybelline   \n",
       "364                            Fit Me Primer 01         Primer  Maybelline   \n",
       "504          Maybelline Facestudio Master Prime Pri...  Primer  Maybelline   \n",
       "\n",
       "    Skin_Type  Price                                               Link  \n",
       "290    [Oily]    480  https://www.amazon.in/sspa/click?ie=UTF8&spc=M...  \n",
       "297     [Dry]    560  https://www.amazon.in/Maybelline-York-Face-Pri...  \n",
       "303    [Oily]    480  https://www.amazon.in/Maybelline-York-Primer-M...  \n",
       "364     [All]    599  https://www.amazon.in/Maybelline-6902395808503...  \n",
       "504     [All]   1645  https://www.amazon.in/Maybelline-Facestudio-Ma...  "
      ]
     },
     "execution_count": 117,
     "metadata": {},
     "output_type": "execute_result"
    }
   ],
   "source": [
    "df[df['Brand'] == 'Maybelline']"
   ]
  },
  {
   "cell_type": "code",
   "execution_count": 118,
   "metadata": {},
   "outputs": [
    {
     "data": {
      "text/html": [
       "<div>\n",
       "<style scoped>\n",
       "    .dataframe tbody tr th:only-of-type {\n",
       "        vertical-align: middle;\n",
       "    }\n",
       "\n",
       "    .dataframe tbody tr th {\n",
       "        vertical-align: top;\n",
       "    }\n",
       "\n",
       "    .dataframe thead th {\n",
       "        text-align: right;\n",
       "    }\n",
       "</style>\n",
       "<table border=\"1\" class=\"dataframe\">\n",
       "  <thead>\n",
       "    <tr style=\"text-align: right;\">\n",
       "      <th></th>\n",
       "      <th>Title</th>\n",
       "      <th>Product</th>\n",
       "      <th>Brand</th>\n",
       "      <th>Skin_Type</th>\n",
       "      <th>Price</th>\n",
       "      <th>Link</th>\n",
       "    </tr>\n",
       "  </thead>\n",
       "  <tbody>\n",
       "    <tr>\n",
       "      <th>5</th>\n",
       "      <td>Cetaphil Moisturizing Lotion for Norma...</td>\n",
       "      <td>Moisturizer</td>\n",
       "      <td>Cetaphil</td>\n",
       "      <td>[All, Combination, Sensitive, Dry, Normal]</td>\n",
       "      <td>413</td>\n",
       "      <td>https://www.amazon.in/Cetaphil-Moisturizing-Lo...</td>\n",
       "    </tr>\n",
       "    <tr>\n",
       "      <th>12</th>\n",
       "      <td>Cetaphil DAM Daily Advance Ultra Hydra...</td>\n",
       "      <td>Moisturizer</td>\n",
       "      <td>Cetaphil</td>\n",
       "      <td>[Sensitive, Dry]</td>\n",
       "      <td>199</td>\n",
       "      <td>https://www.amazon.in/Cetaphil-Daily-Advance-H...</td>\n",
       "    </tr>\n",
       "    <tr>\n",
       "      <th>22</th>\n",
       "      <td>Cetaphil Moisturising Cream for Face &amp;...</td>\n",
       "      <td>Moisturizer</td>\n",
       "      <td>Cetaphil</td>\n",
       "      <td>[Combination]</td>\n",
       "      <td>431</td>\n",
       "      <td>https://www.amazon.in/Cetaphil-Moisturising-Cr...</td>\n",
       "    </tr>\n",
       "    <tr>\n",
       "      <th>94</th>\n",
       "      <td>Cetaphil Daily Advance Ultra Hydrating...</td>\n",
       "      <td>Moisturizer</td>\n",
       "      <td>Cetaphil</td>\n",
       "      <td>[Combination]</td>\n",
       "      <td>451</td>\n",
       "      <td>https://www.amazon.in/Cetaphil-Daily-Advance-H...</td>\n",
       "    </tr>\n",
       "    <tr>\n",
       "      <th>188</th>\n",
       "      <td>Cetaphil Moisturizing Cream, 250 g</td>\n",
       "      <td>Moisturizer</td>\n",
       "      <td>Cetaphil</td>\n",
       "      <td>[All]</td>\n",
       "      <td>939</td>\n",
       "      <td>https://www.amazon.in/Cetaphil-Moisturising-Cr...</td>\n",
       "    </tr>\n",
       "  </tbody>\n",
       "</table>\n",
       "</div>"
      ],
      "text/plain": [
       "                                                 Title      Product     Brand  \\\n",
       "5            Cetaphil Moisturizing Lotion for Norma...  Moisturizer  Cetaphil   \n",
       "12           Cetaphil DAM Daily Advance Ultra Hydra...  Moisturizer  Cetaphil   \n",
       "22           Cetaphil Moisturising Cream for Face &...  Moisturizer  Cetaphil   \n",
       "94           Cetaphil Daily Advance Ultra Hydrating...  Moisturizer  Cetaphil   \n",
       "188          Cetaphil Moisturizing Cream, 250 g         Moisturizer  Cetaphil   \n",
       "\n",
       "                                      Skin_Type  Price  \\\n",
       "5    [All, Combination, Sensitive, Dry, Normal]    413   \n",
       "12                             [Sensitive, Dry]    199   \n",
       "22                                [Combination]    431   \n",
       "94                                [Combination]    451   \n",
       "188                                       [All]    939   \n",
       "\n",
       "                                                  Link  \n",
       "5    https://www.amazon.in/Cetaphil-Moisturizing-Lo...  \n",
       "12   https://www.amazon.in/Cetaphil-Daily-Advance-H...  \n",
       "22   https://www.amazon.in/Cetaphil-Moisturising-Cr...  \n",
       "94   https://www.amazon.in/Cetaphil-Daily-Advance-H...  \n",
       "188  https://www.amazon.in/Cetaphil-Moisturising-Cr...  "
      ]
     },
     "execution_count": 118,
     "metadata": {},
     "output_type": "execute_result"
    }
   ],
   "source": [
    "df[df['Brand'] == 'Cetaphil']"
   ]
  },
  {
   "cell_type": "code",
   "execution_count": 119,
   "metadata": {},
   "outputs": [
    {
     "data": {
      "text/html": [
       "<div>\n",
       "<style scoped>\n",
       "    .dataframe tbody tr th:only-of-type {\n",
       "        vertical-align: middle;\n",
       "    }\n",
       "\n",
       "    .dataframe tbody tr th {\n",
       "        vertical-align: top;\n",
       "    }\n",
       "\n",
       "    .dataframe thead th {\n",
       "        text-align: right;\n",
       "    }\n",
       "</style>\n",
       "<table border=\"1\" class=\"dataframe\">\n",
       "  <thead>\n",
       "    <tr style=\"text-align: right;\">\n",
       "      <th></th>\n",
       "      <th>Title</th>\n",
       "      <th>Product</th>\n",
       "      <th>Brand</th>\n",
       "      <th>Skin_Type</th>\n",
       "      <th>Price</th>\n",
       "      <th>Link</th>\n",
       "    </tr>\n",
       "  </thead>\n",
       "  <tbody>\n",
       "    <tr>\n",
       "      <th>107</th>\n",
       "      <td>Dove Body Love Light Hydration Body Lo...</td>\n",
       "      <td>Moisturizer</td>\n",
       "      <td>Dove</td>\n",
       "      <td>[All]</td>\n",
       "      <td>319</td>\n",
       "      <td>https://www.amazon.in/Dove-Light-Hydration-Bod...</td>\n",
       "    </tr>\n",
       "    <tr>\n",
       "      <th>151</th>\n",
       "      <td>Dove Body Love Supple Bounce Body Loti...</td>\n",
       "      <td>Moisturizer</td>\n",
       "      <td>Dove</td>\n",
       "      <td>[All]</td>\n",
       "      <td>348</td>\n",
       "      <td>https://www.amazon.in/Dove-Supple-Bounce-Body-...</td>\n",
       "    </tr>\n",
       "  </tbody>\n",
       "</table>\n",
       "</div>"
      ],
      "text/plain": [
       "                                                 Title      Product Brand  \\\n",
       "107          Dove Body Love Light Hydration Body Lo...  Moisturizer  Dove   \n",
       "151          Dove Body Love Supple Bounce Body Loti...  Moisturizer  Dove   \n",
       "\n",
       "    Skin_Type  Price                                               Link  \n",
       "107     [All]    319  https://www.amazon.in/Dove-Light-Hydration-Bod...  \n",
       "151     [All]    348  https://www.amazon.in/Dove-Supple-Bounce-Body-...  "
      ]
     },
     "execution_count": 119,
     "metadata": {},
     "output_type": "execute_result"
    }
   ],
   "source": [
    "df[df['Brand'] == 'Dove']"
   ]
  },
  {
   "cell_type": "code",
   "execution_count": 120,
   "metadata": {},
   "outputs": [
    {
     "data": {
      "application/vnd.plotly.v1+json": {
       "config": {
        "plotlyServerURL": "https://plot.ly"
       },
       "data": [
        {
         "name": "Moisturizer",
         "type": "bar",
         "x": [
          "Nivea",
          "Cetaphil",
          "Neutrogena",
          "Bioderma",
          "L'Oreal Paris",
          "CeraVe",
          "La Roche-Posay",
          "Garnier",
          "Dove",
          "Maybelline"
         ],
         "y": [
          34,
          5,
          8,
          4,
          4,
          2,
          1,
          1,
          2,
          5
         ]
        },
        {
         "name": "Primer",
         "type": "bar",
         "x": [
          "Nivea",
          "Cetaphil",
          "Neutrogena",
          "Bioderma",
          "L'Oreal Paris",
          "CeraVe",
          "La Roche-Posay",
          "Garnier",
          "Dove",
          "Maybelline"
         ],
         "y": [
          0,
          0,
          0,
          0,
          0,
          0,
          0,
          0,
          0,
          1
         ]
        },
        {
         "name": "Facial sprays",
         "type": "bar",
         "x": [
          "Nivea",
          "Cetaphil",
          "Neutrogena",
          "Bioderma",
          "L'Oreal Paris",
          "CeraVe",
          "La Roche-Posay",
          "Garnier",
          "Dove",
          "Maybelline"
         ],
         "y": [
          0,
          0,
          0,
          0,
          0,
          0,
          0,
          0,
          0,
          0
         ]
        },
        {
         "name": "Serum",
         "type": "bar",
         "x": [
          "Nivea",
          "Cetaphil",
          "Neutrogena",
          "Bioderma",
          "L'Oreal Paris",
          "CeraVe",
          "La Roche-Posay",
          "Garnier",
          "Dove",
          "Maybelline"
         ],
         "y": [
          0,
          0,
          0,
          0,
          0,
          0,
          0,
          0,
          0,
          0
         ]
        },
        {
         "name": "Cleanser",
         "type": "bar",
         "x": [
          "Nivea",
          "Cetaphil",
          "Neutrogena",
          "Bioderma",
          "L'Oreal Paris",
          "CeraVe",
          "La Roche-Posay",
          "Garnier",
          "Dove",
          "Maybelline"
         ],
         "y": [
          0,
          0,
          0,
          0,
          0,
          0,
          0,
          0,
          0,
          0
         ]
        },
        {
         "name": "Eye Cream",
         "type": "bar",
         "x": [
          "Nivea",
          "Cetaphil",
          "Neutrogena",
          "Bioderma",
          "L'Oreal Paris",
          "CeraVe",
          "La Roche-Posay",
          "Garnier",
          "Dove",
          "Maybelline"
         ],
         "y": [
          0,
          0,
          0,
          0,
          0,
          0,
          0,
          0,
          0,
          0
         ]
        },
        {
         "name": "Toner",
         "type": "bar",
         "x": [
          "Nivea",
          "Cetaphil",
          "Neutrogena",
          "Bioderma",
          "L'Oreal Paris",
          "CeraVe",
          "La Roche-Posay",
          "Garnier",
          "Dove",
          "Maybelline"
         ],
         "y": [
          0,
          0,
          0,
          0,
          0,
          0,
          0,
          0,
          0,
          0
         ]
        },
        {
         "name": "Face Mask",
         "type": "bar",
         "x": [
          "Nivea",
          "Cetaphil",
          "Neutrogena",
          "Bioderma",
          "L'Oreal Paris",
          "CeraVe",
          "La Roche-Posay",
          "Garnier",
          "Dove",
          "Maybelline"
         ],
         "y": [
          0,
          0,
          0,
          0,
          0,
          0,
          0,
          0,
          0,
          0
         ]
        },
        {
         "name": "Sunscreen",
         "type": "bar",
         "x": [
          "Nivea",
          "Cetaphil",
          "Neutrogena",
          "Bioderma",
          "L'Oreal Paris",
          "CeraVe",
          "La Roche-Posay",
          "Garnier",
          "Dove",
          "Maybelline"
         ],
         "y": [
          0,
          0,
          0,
          0,
          0,
          0,
          0,
          0,
          0,
          0
         ]
        }
       ],
       "layout": {
        "barmode": "stack",
        "template": {
         "data": {
          "bar": [
           {
            "error_x": {
             "color": "#2a3f5f"
            },
            "error_y": {
             "color": "#2a3f5f"
            },
            "marker": {
             "line": {
              "color": "#E5ECF6",
              "width": 0.5
             },
             "pattern": {
              "fillmode": "overlay",
              "size": 10,
              "solidity": 0.2
             }
            },
            "type": "bar"
           }
          ],
          "barpolar": [
           {
            "marker": {
             "line": {
              "color": "#E5ECF6",
              "width": 0.5
             },
             "pattern": {
              "fillmode": "overlay",
              "size": 10,
              "solidity": 0.2
             }
            },
            "type": "barpolar"
           }
          ],
          "carpet": [
           {
            "aaxis": {
             "endlinecolor": "#2a3f5f",
             "gridcolor": "white",
             "linecolor": "white",
             "minorgridcolor": "white",
             "startlinecolor": "#2a3f5f"
            },
            "baxis": {
             "endlinecolor": "#2a3f5f",
             "gridcolor": "white",
             "linecolor": "white",
             "minorgridcolor": "white",
             "startlinecolor": "#2a3f5f"
            },
            "type": "carpet"
           }
          ],
          "choropleth": [
           {
            "colorbar": {
             "outlinewidth": 0,
             "ticks": ""
            },
            "type": "choropleth"
           }
          ],
          "contour": [
           {
            "colorbar": {
             "outlinewidth": 0,
             "ticks": ""
            },
            "colorscale": [
             [
              0,
              "#0d0887"
             ],
             [
              0.1111111111111111,
              "#46039f"
             ],
             [
              0.2222222222222222,
              "#7201a8"
             ],
             [
              0.3333333333333333,
              "#9c179e"
             ],
             [
              0.4444444444444444,
              "#bd3786"
             ],
             [
              0.5555555555555556,
              "#d8576b"
             ],
             [
              0.6666666666666666,
              "#ed7953"
             ],
             [
              0.7777777777777778,
              "#fb9f3a"
             ],
             [
              0.8888888888888888,
              "#fdca26"
             ],
             [
              1,
              "#f0f921"
             ]
            ],
            "type": "contour"
           }
          ],
          "contourcarpet": [
           {
            "colorbar": {
             "outlinewidth": 0,
             "ticks": ""
            },
            "type": "contourcarpet"
           }
          ],
          "heatmap": [
           {
            "colorbar": {
             "outlinewidth": 0,
             "ticks": ""
            },
            "colorscale": [
             [
              0,
              "#0d0887"
             ],
             [
              0.1111111111111111,
              "#46039f"
             ],
             [
              0.2222222222222222,
              "#7201a8"
             ],
             [
              0.3333333333333333,
              "#9c179e"
             ],
             [
              0.4444444444444444,
              "#bd3786"
             ],
             [
              0.5555555555555556,
              "#d8576b"
             ],
             [
              0.6666666666666666,
              "#ed7953"
             ],
             [
              0.7777777777777778,
              "#fb9f3a"
             ],
             [
              0.8888888888888888,
              "#fdca26"
             ],
             [
              1,
              "#f0f921"
             ]
            ],
            "type": "heatmap"
           }
          ],
          "heatmapgl": [
           {
            "colorbar": {
             "outlinewidth": 0,
             "ticks": ""
            },
            "colorscale": [
             [
              0,
              "#0d0887"
             ],
             [
              0.1111111111111111,
              "#46039f"
             ],
             [
              0.2222222222222222,
              "#7201a8"
             ],
             [
              0.3333333333333333,
              "#9c179e"
             ],
             [
              0.4444444444444444,
              "#bd3786"
             ],
             [
              0.5555555555555556,
              "#d8576b"
             ],
             [
              0.6666666666666666,
              "#ed7953"
             ],
             [
              0.7777777777777778,
              "#fb9f3a"
             ],
             [
              0.8888888888888888,
              "#fdca26"
             ],
             [
              1,
              "#f0f921"
             ]
            ],
            "type": "heatmapgl"
           }
          ],
          "histogram": [
           {
            "marker": {
             "pattern": {
              "fillmode": "overlay",
              "size": 10,
              "solidity": 0.2
             }
            },
            "type": "histogram"
           }
          ],
          "histogram2d": [
           {
            "colorbar": {
             "outlinewidth": 0,
             "ticks": ""
            },
            "colorscale": [
             [
              0,
              "#0d0887"
             ],
             [
              0.1111111111111111,
              "#46039f"
             ],
             [
              0.2222222222222222,
              "#7201a8"
             ],
             [
              0.3333333333333333,
              "#9c179e"
             ],
             [
              0.4444444444444444,
              "#bd3786"
             ],
             [
              0.5555555555555556,
              "#d8576b"
             ],
             [
              0.6666666666666666,
              "#ed7953"
             ],
             [
              0.7777777777777778,
              "#fb9f3a"
             ],
             [
              0.8888888888888888,
              "#fdca26"
             ],
             [
              1,
              "#f0f921"
             ]
            ],
            "type": "histogram2d"
           }
          ],
          "histogram2dcontour": [
           {
            "colorbar": {
             "outlinewidth": 0,
             "ticks": ""
            },
            "colorscale": [
             [
              0,
              "#0d0887"
             ],
             [
              0.1111111111111111,
              "#46039f"
             ],
             [
              0.2222222222222222,
              "#7201a8"
             ],
             [
              0.3333333333333333,
              "#9c179e"
             ],
             [
              0.4444444444444444,
              "#bd3786"
             ],
             [
              0.5555555555555556,
              "#d8576b"
             ],
             [
              0.6666666666666666,
              "#ed7953"
             ],
             [
              0.7777777777777778,
              "#fb9f3a"
             ],
             [
              0.8888888888888888,
              "#fdca26"
             ],
             [
              1,
              "#f0f921"
             ]
            ],
            "type": "histogram2dcontour"
           }
          ],
          "mesh3d": [
           {
            "colorbar": {
             "outlinewidth": 0,
             "ticks": ""
            },
            "type": "mesh3d"
           }
          ],
          "parcoords": [
           {
            "line": {
             "colorbar": {
              "outlinewidth": 0,
              "ticks": ""
             }
            },
            "type": "parcoords"
           }
          ],
          "pie": [
           {
            "automargin": true,
            "type": "pie"
           }
          ],
          "scatter": [
           {
            "fillpattern": {
             "fillmode": "overlay",
             "size": 10,
             "solidity": 0.2
            },
            "type": "scatter"
           }
          ],
          "scatter3d": [
           {
            "line": {
             "colorbar": {
              "outlinewidth": 0,
              "ticks": ""
             }
            },
            "marker": {
             "colorbar": {
              "outlinewidth": 0,
              "ticks": ""
             }
            },
            "type": "scatter3d"
           }
          ],
          "scattercarpet": [
           {
            "marker": {
             "colorbar": {
              "outlinewidth": 0,
              "ticks": ""
             }
            },
            "type": "scattercarpet"
           }
          ],
          "scattergeo": [
           {
            "marker": {
             "colorbar": {
              "outlinewidth": 0,
              "ticks": ""
             }
            },
            "type": "scattergeo"
           }
          ],
          "scattergl": [
           {
            "marker": {
             "colorbar": {
              "outlinewidth": 0,
              "ticks": ""
             }
            },
            "type": "scattergl"
           }
          ],
          "scattermapbox": [
           {
            "marker": {
             "colorbar": {
              "outlinewidth": 0,
              "ticks": ""
             }
            },
            "type": "scattermapbox"
           }
          ],
          "scatterpolar": [
           {
            "marker": {
             "colorbar": {
              "outlinewidth": 0,
              "ticks": ""
             }
            },
            "type": "scatterpolar"
           }
          ],
          "scatterpolargl": [
           {
            "marker": {
             "colorbar": {
              "outlinewidth": 0,
              "ticks": ""
             }
            },
            "type": "scatterpolargl"
           }
          ],
          "scatterternary": [
           {
            "marker": {
             "colorbar": {
              "outlinewidth": 0,
              "ticks": ""
             }
            },
            "type": "scatterternary"
           }
          ],
          "surface": [
           {
            "colorbar": {
             "outlinewidth": 0,
             "ticks": ""
            },
            "colorscale": [
             [
              0,
              "#0d0887"
             ],
             [
              0.1111111111111111,
              "#46039f"
             ],
             [
              0.2222222222222222,
              "#7201a8"
             ],
             [
              0.3333333333333333,
              "#9c179e"
             ],
             [
              0.4444444444444444,
              "#bd3786"
             ],
             [
              0.5555555555555556,
              "#d8576b"
             ],
             [
              0.6666666666666666,
              "#ed7953"
             ],
             [
              0.7777777777777778,
              "#fb9f3a"
             ],
             [
              0.8888888888888888,
              "#fdca26"
             ],
             [
              1,
              "#f0f921"
             ]
            ],
            "type": "surface"
           }
          ],
          "table": [
           {
            "cells": {
             "fill": {
              "color": "#EBF0F8"
             },
             "line": {
              "color": "white"
             }
            },
            "header": {
             "fill": {
              "color": "#C8D4E3"
             },
             "line": {
              "color": "white"
             }
            },
            "type": "table"
           }
          ]
         },
         "layout": {
          "annotationdefaults": {
           "arrowcolor": "#2a3f5f",
           "arrowhead": 0,
           "arrowwidth": 1
          },
          "autotypenumbers": "strict",
          "coloraxis": {
           "colorbar": {
            "outlinewidth": 0,
            "ticks": ""
           }
          },
          "colorscale": {
           "diverging": [
            [
             0,
             "#8e0152"
            ],
            [
             0.1,
             "#c51b7d"
            ],
            [
             0.2,
             "#de77ae"
            ],
            [
             0.3,
             "#f1b6da"
            ],
            [
             0.4,
             "#fde0ef"
            ],
            [
             0.5,
             "#f7f7f7"
            ],
            [
             0.6,
             "#e6f5d0"
            ],
            [
             0.7,
             "#b8e186"
            ],
            [
             0.8,
             "#7fbc41"
            ],
            [
             0.9,
             "#4d9221"
            ],
            [
             1,
             "#276419"
            ]
           ],
           "sequential": [
            [
             0,
             "#0d0887"
            ],
            [
             0.1111111111111111,
             "#46039f"
            ],
            [
             0.2222222222222222,
             "#7201a8"
            ],
            [
             0.3333333333333333,
             "#9c179e"
            ],
            [
             0.4444444444444444,
             "#bd3786"
            ],
            [
             0.5555555555555556,
             "#d8576b"
            ],
            [
             0.6666666666666666,
             "#ed7953"
            ],
            [
             0.7777777777777778,
             "#fb9f3a"
            ],
            [
             0.8888888888888888,
             "#fdca26"
            ],
            [
             1,
             "#f0f921"
            ]
           ],
           "sequentialminus": [
            [
             0,
             "#0d0887"
            ],
            [
             0.1111111111111111,
             "#46039f"
            ],
            [
             0.2222222222222222,
             "#7201a8"
            ],
            [
             0.3333333333333333,
             "#9c179e"
            ],
            [
             0.4444444444444444,
             "#bd3786"
            ],
            [
             0.5555555555555556,
             "#d8576b"
            ],
            [
             0.6666666666666666,
             "#ed7953"
            ],
            [
             0.7777777777777778,
             "#fb9f3a"
            ],
            [
             0.8888888888888888,
             "#fdca26"
            ],
            [
             1,
             "#f0f921"
            ]
           ]
          },
          "colorway": [
           "#636efa",
           "#EF553B",
           "#00cc96",
           "#ab63fa",
           "#FFA15A",
           "#19d3f3",
           "#FF6692",
           "#B6E880",
           "#FF97FF",
           "#FECB52"
          ],
          "font": {
           "color": "#2a3f5f"
          },
          "geo": {
           "bgcolor": "white",
           "lakecolor": "white",
           "landcolor": "#E5ECF6",
           "showlakes": true,
           "showland": true,
           "subunitcolor": "white"
          },
          "hoverlabel": {
           "align": "left"
          },
          "hovermode": "closest",
          "mapbox": {
           "style": "light"
          },
          "paper_bgcolor": "white",
          "plot_bgcolor": "#E5ECF6",
          "polar": {
           "angularaxis": {
            "gridcolor": "white",
            "linecolor": "white",
            "ticks": ""
           },
           "bgcolor": "#E5ECF6",
           "radialaxis": {
            "gridcolor": "white",
            "linecolor": "white",
            "ticks": ""
           }
          },
          "scene": {
           "xaxis": {
            "backgroundcolor": "#E5ECF6",
            "gridcolor": "white",
            "gridwidth": 2,
            "linecolor": "white",
            "showbackground": true,
            "ticks": "",
            "zerolinecolor": "white"
           },
           "yaxis": {
            "backgroundcolor": "#E5ECF6",
            "gridcolor": "white",
            "gridwidth": 2,
            "linecolor": "white",
            "showbackground": true,
            "ticks": "",
            "zerolinecolor": "white"
           },
           "zaxis": {
            "backgroundcolor": "#E5ECF6",
            "gridcolor": "white",
            "gridwidth": 2,
            "linecolor": "white",
            "showbackground": true,
            "ticks": "",
            "zerolinecolor": "white"
           }
          },
          "shapedefaults": {
           "line": {
            "color": "#2a3f5f"
           }
          },
          "ternary": {
           "aaxis": {
            "gridcolor": "white",
            "linecolor": "white",
            "ticks": ""
           },
           "baxis": {
            "gridcolor": "white",
            "linecolor": "white",
            "ticks": ""
           },
           "bgcolor": "#E5ECF6",
           "caxis": {
            "gridcolor": "white",
            "linecolor": "white",
            "ticks": ""
           }
          },
          "title": {
           "x": 0.05
          },
          "xaxis": {
           "automargin": true,
           "gridcolor": "white",
           "linecolor": "white",
           "ticks": "",
           "title": {
            "standoff": 15
           },
           "zerolinecolor": "white",
           "zerolinewidth": 2
          },
          "yaxis": {
           "automargin": true,
           "gridcolor": "white",
           "linecolor": "white",
           "ticks": "",
           "title": {
            "standoff": 15
           },
           "zerolinecolor": "white",
           "zerolinewidth": 2
          }
         }
        }
       }
      }
     },
     "metadata": {},
     "output_type": "display_data"
    }
   ],
   "source": [
    "fig = go.Figure(data=[\n",
    "    go.Bar(name='Moisturizer',     x=brand,    y=[34, 5, 8, 4, 4, 2, 1, 1, 2, 5]),\n",
    "    go.Bar(name='Primer',          x=brand,    y=[0, 0, 0, 0, 0, 0, 0, 0, 0, 1]),\n",
    "    go.Bar(name='Facial sprays',   x=brand,    y=[0, 0, 0, 0, 0, 0, 0, 0, 0, 0]),\n",
    "    go.Bar(name='Serum',           x=brand,    y=[0, 0, 0, 0, 0, 0, 0, 0, 0, 0]),\n",
    "    go.Bar(name='Cleanser',        x=brand,    y=[0, 0, 0, 0, 0, 0, 0, 0, 0, 0]),\n",
    "    go.Bar(name='Eye Cream',       x=brand,    y=[0, 0, 0, 0, 0, 0, 0, 0, 0, 0]),\n",
    "    go.Bar(name='Toner',           x=brand,    y=[0, 0, 0, 0, 0, 0, 0, 0, 0, 0]),\n",
    "    go.Bar(name='Face Mask',       x=brand,    y=[0, 0, 0, 0, 0, 0, 0, 0, 0, 0]),\n",
    "    go.Bar(name='Sunscreen',       x=brand,    y=[0, 0, 0, 0, 0, 0, 0, 0, 0, 0])\n",
    "])\n",
    "# Change the bar mode\n",
    "fig.update_layout(barmode='stack')\n",
    "fig.show()"
   ]
  },
  {
   "cell_type": "markdown",
   "metadata": {},
   "source": [
    "# Apllying filters to get the best product for our client"
   ]
  },
  {
   "cell_type": "code",
   "execution_count": 140,
   "metadata": {},
   "outputs": [],
   "source": [
    "client_skin = 'Dry'\n",
    "\n",
    "df_for_skin = df[df['Skin_Type'].apply(lambda x: client_skin in x)] # Filters the skin types - Basic filter for all others conditions"
   ]
  },
  {
   "cell_type": "code",
   "execution_count": 141,
   "metadata": {},
   "outputs": [],
   "source": [
    "# This function gets the client skintype\n",
    "def get_skin(skin):\n",
    "    ...\n",
    "            \n",
    "def menu():\n",
    "    print('\\nChoose your one priority when it comes to your preference')\n",
    "    print('\\n\\t1. Low price\\n\\t2. Expensive\\n\\t3. Brand\\n\\t4. Specific product \\\n",
    "          \\n\\t5. Other treatments(acne, sensitive, others)\\n\\t6. No preferences')\n",
    "    c = int(input('\\n\\nYour choice, please digit the equivalent number: '))\n",
    "    \n",
    "    return c\n",
    "    \n",
    "    \n",
    "def deep_cases(c, df):\n",
    "    if c == 3: \n",
    "        output = menu_3()\n",
    "        result = df[df['Brand'].apply(lambda x: output in x)]\n",
    "        return result\n",
    "                \n",
    "    if c == 4:\n",
    "        output = menu_4()\n",
    "        result = df[df['Product'].apply(lambda x: output in x)]\n",
    "        \n",
    "    if c == 5: \n",
    "        output = menu_5()\n",
    "        result = df[df['Skin_Type'].apply(lambda col_lista: contains(output, col_lista))]\n",
    "    \n",
    "    return result\n",
    "\n",
    "\n",
    "def menu_3():\n",
    "    print('\\nChoose based on your prefered brand')\n",
    "    print(\"\\n\\t[A] Nivea            \\n\\t[B] Bioderma \\\n",
    "           \\n\\t[C] Cetaphil         \\n\\t[D] CeraVe \\\n",
    "           \\n\\t[E] Neutrogena       \\n\\t[F] La Roche-Posay \\\n",
    "           \\n\\t[G] L'Oreal Paris    \\n\\t[H] Maybelline \\\n",
    "           \\n\\t[I] Garnier          \\n\\t[J] Dove\")\n",
    "    b = input('\\n\\nYour choice, please digit the equivalent letter: ')\n",
    "    \n",
    "\n",
    "    if   b =='A' or b =='a': f = 'Nivea'            \n",
    "    elif b =='B' or b =='b': f = 'Bioderma'         \n",
    "    elif b =='C' or b =='c': f = 'Cetaphil'         \n",
    "    elif b =='D' or b =='d': f = 'CeraVe'           \n",
    "    elif b =='E' or b =='e': f = 'Neutrogena'       \n",
    "    elif b =='F' or b =='f': f = 'La Roche-Posay'   \n",
    "    elif b =='G' or b =='g': f = \"L'Oreal Paris\"    \n",
    "    elif b =='H' or b =='h': f = 'Maybelline'       \n",
    "    elif b =='I' or b =='i': f = 'Garnier'          \n",
    "    elif b =='J' or b =='j': f = 'Dove'             \n",
    "    else: print('Not a valid option.')\n",
    "        \n",
    "    return f\n",
    "\n",
    "def menu_4():\n",
    "    print('\\nChoose based on your prefered product')\n",
    "    print(\"\\n\\t[A] Moisturizer     \\n\\t[B] Primer \\\n",
    "           \\n\\t[C] Cleanser        \\n\\t[D] Sunscreen\\\n",
    "           \\n\\t[E] Eye cream       \\n\\t[F] Face Mask \\\n",
    "           \\n\\t[G] Facial spray    \\n\\t[H] Toner \\\n",
    "           \\n\\t[I] Serum\")\n",
    "    b = input('\\n\\nYour choice, please digit the equivalent letter: ')\n",
    "    \n",
    "    if   b =='A' or b =='a': f = 'Moisturizer'\n",
    "    elif b =='B' or b =='b': f = 'Primer'\n",
    "    elif b =='C' or b =='c': f = 'Cleanser'\n",
    "    elif b =='D' or b =='d': f = 'Sunscreen'\n",
    "    elif b =='E' or b =='e': f = 'Eye cream'\n",
    "    elif b =='F' or b =='f': f = 'Face Mask'\n",
    "    elif b =='G' or b =='g': f = 'Facial sprays'\n",
    "    elif b =='H' or b =='h': f = 'Toner'\n",
    "    elif b =='I' or b =='i': f = 'Serum'\n",
    "    else: print('Not a valid option.')\n",
    "    \n",
    "    return f\n",
    "    \n",
    "def menu_5():\n",
    "    print('\\nChoose based on your prefered specificity')\n",
    "    print(\"\\n\\t[A] Acne           \\n\\t[B] Sensitive \\\n",
    "           \\n\\t[C] Cracked        \\n\\t[D] Dull \\\n",
    "           \\n\\t[E] Rough          \\n\\t[F] All\")\n",
    "    b = input('\\n\\nYour choice, please digit the equivalent letter: ')\n",
    "    \n",
    "    if   b =='A' or b == 'a': f = 'Acne'  \n",
    "    elif b =='B' or b == 'b': f = 'Sensitive'      \n",
    "    elif b =='C' or b == 'c': f = 'Cracked'       \n",
    "    elif b =='D' or b == 'd': f = 'Dull'      \n",
    "    elif b =='E' or b == 'e': f = 'Rough'    \n",
    "    elif b =='F' or b == 'f': f = 'All'        \n",
    "    else: print('Not a valid option.')         \n",
    "    \n",
    "    return f\n",
    "\n",
    "def contains(str, col_list):\n",
    "    return any(str in item for item in col_list)\n",
    "\n",
    "# Dull, Dehydrated, Cracked, Dry, Rough"
   ]
  },
  {
   "cell_type": "code",
   "execution_count": 142,
   "metadata": {},
   "outputs": [
    {
     "name": "stdout",
     "output_type": "stream",
     "text": [
      "\n",
      "Choose your one priority when it comes to your preference\n",
      "\n",
      "\t1. Low price\n",
      "\t2. Expensive\n",
      "\t3. Brand\n",
      "\t4. Specific product           \n",
      "\t5. Other treatments(acne, sensitive, others)\n",
      "\t6. No preferences\n",
      "\n",
      "Choose based on your prefered specificity\n",
      "\n",
      "\t[A] Acne           \n",
      "\t[B] Sensitive            \n",
      "\t[C] Cracked        \n",
      "\t[D] Dull            \n",
      "\t[E] Rough          \n",
      "\t[F] All\n"
     ]
    },
    {
     "data": {
      "text/html": [
       "<div>\n",
       "<style scoped>\n",
       "    .dataframe tbody tr th:only-of-type {\n",
       "        vertical-align: middle;\n",
       "    }\n",
       "\n",
       "    .dataframe tbody tr th {\n",
       "        vertical-align: top;\n",
       "    }\n",
       "\n",
       "    .dataframe thead th {\n",
       "        text-align: right;\n",
       "    }\n",
       "</style>\n",
       "<table border=\"1\" class=\"dataframe\">\n",
       "  <thead>\n",
       "    <tr style=\"text-align: right;\">\n",
       "      <th></th>\n",
       "      <th>Title</th>\n",
       "      <th>Product</th>\n",
       "      <th>Brand</th>\n",
       "      <th>Skin_Type</th>\n",
       "      <th>Price</th>\n",
       "      <th>Link</th>\n",
       "    </tr>\n",
       "  </thead>\n",
       "  <tbody>\n",
       "    <tr>\n",
       "      <th>5</th>\n",
       "      <td>Cetaphil Moisturizing Lotion for Norma...</td>\n",
       "      <td>Moisturizer</td>\n",
       "      <td>Cetaphil</td>\n",
       "      <td>[All, Combination, Sensitive, Dry, Normal]</td>\n",
       "      <td>413</td>\n",
       "      <td>https://www.amazon.in/Cetaphil-Moisturizing-Lo...</td>\n",
       "    </tr>\n",
       "    <tr>\n",
       "      <th>12</th>\n",
       "      <td>Cetaphil DAM Daily Advance Ultra Hydra...</td>\n",
       "      <td>Moisturizer</td>\n",
       "      <td>Cetaphil</td>\n",
       "      <td>[Sensitive, Dry]</td>\n",
       "      <td>199</td>\n",
       "      <td>https://www.amazon.in/Cetaphil-Daily-Advance-H...</td>\n",
       "    </tr>\n",
       "    <tr>\n",
       "      <th>15</th>\n",
       "      <td>Dot &amp; Key Ceramides &amp; Hyaluronic Hydra...</td>\n",
       "      <td>Moisturizer</td>\n",
       "      <td>DOT &amp; KEY</td>\n",
       "      <td>[Sensitive, Dry]</td>\n",
       "      <td>314</td>\n",
       "      <td>https://www.amazon.in/Ceramides-Hyaluronic-Hyd...</td>\n",
       "    </tr>\n",
       "    <tr>\n",
       "      <th>171</th>\n",
       "      <td>Conscious Chemist Lightweight Moisturi...</td>\n",
       "      <td>Moisturizer</td>\n",
       "      <td>Conscious Chemist</td>\n",
       "      <td>[All, Combination, Sensitive, Dry, Normal]</td>\n",
       "      <td>309</td>\n",
       "      <td>https://www.amazon.in/sspa/click?ie=UTF8&amp;spc=M...</td>\n",
       "    </tr>\n",
       "    <tr>\n",
       "      <th>176</th>\n",
       "      <td>Conscious Chemist Lightweight Moisturi...</td>\n",
       "      <td>Moisturizer</td>\n",
       "      <td>Conscious Chemist</td>\n",
       "      <td>[All, Combination, Sensitive, Dry, Normal]</td>\n",
       "      <td>582</td>\n",
       "      <td>https://www.amazon.in/sspa/click?ie=UTF8&amp;spc=M...</td>\n",
       "    </tr>\n",
       "    <tr>\n",
       "      <th>231</th>\n",
       "      <td>WishCare® Pure &amp; Natural Aloe Vera Gel...</td>\n",
       "      <td>Moisturizer</td>\n",
       "      <td>WishCare</td>\n",
       "      <td>[All, Oily, Combination, Sensitive, Dry]</td>\n",
       "      <td>251</td>\n",
       "      <td>https://www.amazon.in/sspa/click?ie=UTF8&amp;spc=M...</td>\n",
       "    </tr>\n",
       "    <tr>\n",
       "      <th>240</th>\n",
       "      <td>Kaya Super Hydrator Dry Skin Moisturiz...</td>\n",
       "      <td>Moisturizer</td>\n",
       "      <td>Kaya Clinic</td>\n",
       "      <td>[Sensitive, Dry]</td>\n",
       "      <td>341</td>\n",
       "      <td>https://www.amazon.in/Hydrator-Moisturizer-Col...</td>\n",
       "    </tr>\n",
       "    <tr>\n",
       "      <th>267</th>\n",
       "      <td>OPERIO Ajanta Aqua soft Moisturizer Lo...</td>\n",
       "      <td>Moisturizer</td>\n",
       "      <td>OPERIO</td>\n",
       "      <td>[All, Combination, Sensitive, Dry, Normal]</td>\n",
       "      <td>449</td>\n",
       "      <td>https://www.amazon.in/OPERIO-Ajanta-Moisturize...</td>\n",
       "    </tr>\n",
       "    <tr>\n",
       "      <th>279</th>\n",
       "      <td>Pilgrim Korean Oil free Gel Moisturize...</td>\n",
       "      <td>Moisturizer</td>\n",
       "      <td>Pilgrim</td>\n",
       "      <td>[All, Oily, Combination, Sensitive, Dry]</td>\n",
       "      <td>445</td>\n",
       "      <td>https://www.amazon.in/Pilgrim-Oil-free-Moistur...</td>\n",
       "    </tr>\n",
       "    <tr>\n",
       "      <th>284</th>\n",
       "      <td>De - cons truct Skin Soothe Moisturise...</td>\n",
       "      <td>Moisturizer</td>\n",
       "      <td>De - cons truct</td>\n",
       "      <td>[All, Combination, Sensitive, Dry, Normal]</td>\n",
       "      <td>379</td>\n",
       "      <td>https://www.amazon.in/Deconstruct-Moisturizer-...</td>\n",
       "    </tr>\n",
       "    <tr>\n",
       "      <th>517</th>\n",
       "      <td>Devriz Best organic Primer For women L...</td>\n",
       "      <td>Primer</td>\n",
       "      <td>DEVRIZ PROFESSIONAL</td>\n",
       "      <td>[All, Oily, Sensitive, Dry, Normal]</td>\n",
       "      <td>650</td>\n",
       "      <td>https://www.amazon.in/dp/B0C1JJ3G2M/ref=sr_1_1...</td>\n",
       "    </tr>\n",
       "    <tr>\n",
       "      <th>518</th>\n",
       "      <td>Devriz Matte Finish Formula to keep Ma...</td>\n",
       "      <td>Primer</td>\n",
       "      <td>DEVRIZ PROFESSIONAL</td>\n",
       "      <td>[All, Oily, Sensitive, Dry, Normal]</td>\n",
       "      <td>650</td>\n",
       "      <td>https://www.amazon.in/dp/B0C1JHSN4J/ref=sr_1_1...</td>\n",
       "    </tr>\n",
       "    <tr>\n",
       "      <th>519</th>\n",
       "      <td>Devriz Natural Glow, Transparent, Flaw...</td>\n",
       "      <td>Primer</td>\n",
       "      <td>DEVRIZ PROFESSIONAL</td>\n",
       "      <td>[All, Oily, Sensitive, Dry, Normal]</td>\n",
       "      <td>650</td>\n",
       "      <td>https://www.amazon.in/dp/B0C1JHQ582/ref=sr_1_2...</td>\n",
       "    </tr>\n",
       "    <tr>\n",
       "      <th>536</th>\n",
       "      <td>Devriz Best organic Primer For women L...</td>\n",
       "      <td>Primer</td>\n",
       "      <td>DEVRIZ PROFESSIONAL</td>\n",
       "      <td>[All, Oily, Sensitive, Dry, Normal]</td>\n",
       "      <td>650</td>\n",
       "      <td>https://www.amazon.in/dp/B0C1JJ3G2M/ref=sr_1_2...</td>\n",
       "    </tr>\n",
       "    <tr>\n",
       "      <th>537</th>\n",
       "      <td>Devriz Matte Finish Formula to keep Ma...</td>\n",
       "      <td>Primer</td>\n",
       "      <td>DEVRIZ PROFESSIONAL</td>\n",
       "      <td>[All, Oily, Sensitive, Dry, Normal]</td>\n",
       "      <td>650</td>\n",
       "      <td>https://www.amazon.in/dp/B0C1JHSN4J/ref=sr_1_2...</td>\n",
       "    </tr>\n",
       "    <tr>\n",
       "      <th>538</th>\n",
       "      <td>Devriz Natural Glow, Transparent, Flaw...</td>\n",
       "      <td>Primer</td>\n",
       "      <td>DEVRIZ PROFESSIONAL</td>\n",
       "      <td>[All, Oily, Sensitive, Dry, Normal]</td>\n",
       "      <td>650</td>\n",
       "      <td>https://www.amazon.in/dp/B0C1JHQ582/ref=sr_1_2...</td>\n",
       "    </tr>\n",
       "    <tr>\n",
       "      <th>539</th>\n",
       "      <td>Devriz Organic Primer for Oily, Dry, C...</td>\n",
       "      <td>Primer</td>\n",
       "      <td>DEVRIZ PROFESSIONAL</td>\n",
       "      <td>[All, Oily, Sensitive, Dry, Normal]</td>\n",
       "      <td>650</td>\n",
       "      <td>https://www.amazon.in/dp/B0C1JHGQZZ/ref=sr_1_2...</td>\n",
       "    </tr>\n",
       "    <tr>\n",
       "      <th>540</th>\n",
       "      <td>Devriz Long Lasting Smooth Finish Make...</td>\n",
       "      <td>Primer</td>\n",
       "      <td>DEVRIZ PROFESSIONAL</td>\n",
       "      <td>[All, Oily, Sensitive, Dry, Normal]</td>\n",
       "      <td>650</td>\n",
       "      <td>https://www.amazon.in/dp/B0C1JHFN9V/ref=sr_1_2...</td>\n",
       "    </tr>\n",
       "    <tr>\n",
       "      <th>541</th>\n",
       "      <td>Devriz Pore Minimizer, Long Lasting Sm...</td>\n",
       "      <td>Primer</td>\n",
       "      <td>DEVRIZ PROFESSIONAL</td>\n",
       "      <td>[All, Oily, Sensitive, Dry, Normal]</td>\n",
       "      <td>650</td>\n",
       "      <td>https://www.amazon.in/dp/B0C1JHF5FB/ref=sr_1_2...</td>\n",
       "    </tr>\n",
       "    <tr>\n",
       "      <th>542</th>\n",
       "      <td>Devriz Face primer For women, Oily Dry...</td>\n",
       "      <td>Primer</td>\n",
       "      <td>DEVRIZ PROFESSIONAL</td>\n",
       "      <td>[All, Oily, Sensitive, Dry, Normal]</td>\n",
       "      <td>650</td>\n",
       "      <td>https://www.amazon.in/dp/B0C1JH7ZM5/ref=sr_1_2...</td>\n",
       "    </tr>\n",
       "    <tr>\n",
       "      <th>543</th>\n",
       "      <td>Devriz Perfect Matte Face Primer For N...</td>\n",
       "      <td>Primer</td>\n",
       "      <td>DEVRIZ PROFESSIONAL</td>\n",
       "      <td>[All, Oily, Sensitive, Dry, Normal]</td>\n",
       "      <td>650</td>\n",
       "      <td>https://www.amazon.in/dp/B0C1JH3SQ8/ref=sr_1_2...</td>\n",
       "    </tr>\n",
       "    <tr>\n",
       "      <th>546</th>\n",
       "      <td>Devriz Long Lasting Makeup Primer oily...</td>\n",
       "      <td>Primer</td>\n",
       "      <td>DEVRIZ PROFESSIONAL</td>\n",
       "      <td>[All, Oily, Sensitive, Dry, Normal]</td>\n",
       "      <td>650</td>\n",
       "      <td>https://www.amazon.in/dp/B0C1JGXT43/ref=sr_1_2...</td>\n",
       "    </tr>\n",
       "    <tr>\n",
       "      <th>547</th>\n",
       "      <td>Devriz Flawless Makeup Base Primer For...</td>\n",
       "      <td>Primer</td>\n",
       "      <td>DEVRIZ PROFESSIONAL</td>\n",
       "      <td>[All, Oily, Sensitive, Dry, Normal]</td>\n",
       "      <td>650</td>\n",
       "      <td>https://www.amazon.in/dp/B0C1JGBZ38/ref=sr_1_2...</td>\n",
       "    </tr>\n",
       "    <tr>\n",
       "      <th>548</th>\n",
       "      <td>Devriz Matte Finish primer for oily, d...</td>\n",
       "      <td>Primer</td>\n",
       "      <td>DEVRIZ PROFESSIONAL</td>\n",
       "      <td>[All, Oily, Sensitive, Dry, Normal]</td>\n",
       "      <td>650</td>\n",
       "      <td>https://www.amazon.in/dp/B0C1JFYR31/ref=sr_1_2...</td>\n",
       "    </tr>\n",
       "    <tr>\n",
       "      <th>592</th>\n",
       "      <td>SARVA 100% Pure Natural Peppermint Fac...</td>\n",
       "      <td>Facial sprays</td>\n",
       "      <td>SARVA by Anadi</td>\n",
       "      <td>[All Skin, Oily, Combination, Sensitive, Dry, ...</td>\n",
       "      <td>150</td>\n",
       "      <td>https://www.amazon.in/SARVA-Natural-Peppermint...</td>\n",
       "    </tr>\n",
       "    <tr>\n",
       "      <th>618</th>\n",
       "      <td>NEUD Green Tea Facial Mist Spray for D...</td>\n",
       "      <td>Facial sprays</td>\n",
       "      <td>NEUD Xpose Yourself</td>\n",
       "      <td>[Oily, Combination, Sensitive, Dry, Normal]</td>\n",
       "      <td>528</td>\n",
       "      <td>https://www.amazon.in/NEUD-Green-Facial-Dehydr...</td>\n",
       "    </tr>\n",
       "    <tr>\n",
       "      <th>626</th>\n",
       "      <td>NEUD Tea Tree Facial Mist Spray for Ac...</td>\n",
       "      <td>Facial sprays</td>\n",
       "      <td>NEUD Xpose Yourself</td>\n",
       "      <td>[Oily, Combination, Sensitive, Dry, Normal]</td>\n",
       "      <td>528</td>\n",
       "      <td>https://www.amazon.in/NEUD-Tree-Facial-Spray-A...</td>\n",
       "    </tr>\n",
       "    <tr>\n",
       "      <th>653</th>\n",
       "      <td>RAS Luxury Oils Rose Nectar Face &amp; Bod...</td>\n",
       "      <td>Facial sprays</td>\n",
       "      <td>RAS LUXURY OILS</td>\n",
       "      <td>[Oily, Combination, Sensitive, Dry]</td>\n",
       "      <td>512</td>\n",
       "      <td>https://www.amazon.in/sspa/click?ie=UTF8&amp;spc=M...</td>\n",
       "    </tr>\n",
       "    <tr>\n",
       "      <th>670</th>\n",
       "      <td>Bella Vita Organic Glowner Face Toner ...</td>\n",
       "      <td>Facial sprays</td>\n",
       "      <td>Bella Vita Organic</td>\n",
       "      <td>[All, Oily, Acne Prone Skin, Sensitive, Dry]</td>\n",
       "      <td>191</td>\n",
       "      <td>https://www.amazon.in/Bella-Vita-Organic-Minim...</td>\n",
       "    </tr>\n",
       "    <tr>\n",
       "      <th>671</th>\n",
       "      <td>SARVA 100% Pure Natural Peppermint Fac...</td>\n",
       "      <td>Facial sprays</td>\n",
       "      <td>SARVA</td>\n",
       "      <td>[All Skin, Oily, Combination, Sensitive, Dry, ...</td>\n",
       "      <td>380</td>\n",
       "      <td>https://www.amazon.in/SARVA-Natural-Peppermint...</td>\n",
       "    </tr>\n",
       "    <tr>\n",
       "      <th>678</th>\n",
       "      <td>Frescia Toner &amp; Face Mask Combo | Cool...</td>\n",
       "      <td>Facial sprays</td>\n",
       "      <td>Frescia</td>\n",
       "      <td>[All, Oily, Sensitive, Dry, Normal]</td>\n",
       "      <td>499</td>\n",
       "      <td>https://www.amazon.in/Frescia-Handcrafted-Cucu...</td>\n",
       "    </tr>\n",
       "    <tr>\n",
       "      <th>679</th>\n",
       "      <td>Orgello herbal Cucumber Toner Mist Spr...</td>\n",
       "      <td>Facial sprays</td>\n",
       "      <td>Orgello</td>\n",
       "      <td>[Oily, Sensitive, Dry, Normal]</td>\n",
       "      <td>318</td>\n",
       "      <td>https://www.amazon.in/Orgello-herbal-Cucumber-...</td>\n",
       "    </tr>\n",
       "    <tr>\n",
       "      <th>694</th>\n",
       "      <td>GOOD DEEDS Pure Rose Water Face Toner ...</td>\n",
       "      <td>Facial sprays</td>\n",
       "      <td>GOOD DEEDS</td>\n",
       "      <td>[All, Acne Prone Skin, Combination, Sensitive,...</td>\n",
       "      <td>289</td>\n",
       "      <td>https://www.amazon.in/sspa/click?ie=UTF8&amp;spc=M...</td>\n",
       "    </tr>\n",
       "    <tr>\n",
       "      <th>700</th>\n",
       "      <td>Minimalist 8% Glycolic Acid Toner For ...</td>\n",
       "      <td>Facial sprays</td>\n",
       "      <td>Minimalist</td>\n",
       "      <td>[All, Oily, Combination, Sensitive, Dry]</td>\n",
       "      <td>474</td>\n",
       "      <td>https://www.amazon.in/Minimalist-Glycolic-Mult...</td>\n",
       "    </tr>\n",
       "    <tr>\n",
       "      <th>706</th>\n",
       "      <td>Herbs &amp; More Vitamin Therapy Face Mist...</td>\n",
       "      <td>Facial sprays</td>\n",
       "      <td>Herbs &amp; More</td>\n",
       "      <td>[All, Oily, Combination, Sensitive, Dry]</td>\n",
       "      <td>779</td>\n",
       "      <td>https://www.amazon.in/Herbs-More-Face-Refreshm...</td>\n",
       "    </tr>\n",
       "    <tr>\n",
       "      <th>710</th>\n",
       "      <td>GOOD DEEDS Pure Rose Water Face Toner ...</td>\n",
       "      <td>Facial sprays</td>\n",
       "      <td>GOOD DEEDS</td>\n",
       "      <td>[All, Acne Prone Skin, Combination, Sensitive,...</td>\n",
       "      <td>289</td>\n",
       "      <td>https://www.amazon.in/GOOD-DEEDS-Artificial-Fr...</td>\n",
       "    </tr>\n",
       "    <tr>\n",
       "      <th>713</th>\n",
       "      <td>WishCare® 100% Pure &amp; Natural Rose Wat...</td>\n",
       "      <td>Facial sprays</td>\n",
       "      <td>WishCare</td>\n",
       "      <td>[All, Oily, Combination, Sensitive, Dry]</td>\n",
       "      <td>314</td>\n",
       "      <td>https://www.amazon.in/sspa/click?ie=UTF8&amp;spc=M...</td>\n",
       "    </tr>\n",
       "    <tr>\n",
       "      <th>735</th>\n",
       "      <td>GoshLife Hydra illuminizer Vitamin C F...</td>\n",
       "      <td>Facial sprays</td>\n",
       "      <td>GoshLife</td>\n",
       "      <td>[Oily, Combination, Sensitive, Dry, Normal]</td>\n",
       "      <td>379</td>\n",
       "      <td>https://www.amazon.in/GoshLife-illuminizer-Bri...</td>\n",
       "    </tr>\n",
       "    <tr>\n",
       "      <th>749</th>\n",
       "      <td>Khadi Essentials 100% Pure Wild Rose W...</td>\n",
       "      <td>Facial sprays</td>\n",
       "      <td>Khadi Essentials</td>\n",
       "      <td>[Oily, Combination, Sensitive, Dry, Normal]</td>\n",
       "      <td>224</td>\n",
       "      <td>https://www.amazon.in/sspa/click?ie=UTF8&amp;spc=M...</td>\n",
       "    </tr>\n",
       "    <tr>\n",
       "      <th>756</th>\n",
       "      <td>WishCare® 100% Pure &amp; Natural Rose Wat...</td>\n",
       "      <td>Facial sprays</td>\n",
       "      <td>WishCare</td>\n",
       "      <td>[All, Oily, Combination, Sensitive, Dry]</td>\n",
       "      <td>314</td>\n",
       "      <td>https://www.amazon.in/WishCare%C2%AE-100-Pure-...</td>\n",
       "    </tr>\n",
       "    <tr>\n",
       "      <th>769</th>\n",
       "      <td>LEVLENT No Alcohol Face Toner Mist Spr...</td>\n",
       "      <td>Facial sprays</td>\n",
       "      <td>LEVLENT</td>\n",
       "      <td>[All, Oily, Sensitive, Dry, Normal]</td>\n",
       "      <td>210</td>\n",
       "      <td>https://www.amazon.in/sspa/click?ie=UTF8&amp;spc=M...</td>\n",
       "    </tr>\n",
       "    <tr>\n",
       "      <th>771</th>\n",
       "      <td>Quinnââ‚¬â„¢s Rose Water Spray. Facial...</td>\n",
       "      <td>Facial sprays</td>\n",
       "      <td>Quinn27s</td>\n",
       "      <td>[Sensitive, Dry]</td>\n",
       "      <td>3110</td>\n",
       "      <td>https://www.amazon.in/Quinn27s-Quinn%C3%A2%E2%...</td>\n",
       "    </tr>\n",
       "    <tr>\n",
       "      <th>782</th>\n",
       "      <td>Husn E Heaven Organic Rose Water and S...</td>\n",
       "      <td>Facial sprays</td>\n",
       "      <td>Husn E Heaven</td>\n",
       "      <td>[All, Oily, Combination, Sensitive, Dry]</td>\n",
       "      <td>349</td>\n",
       "      <td>https://www.amazon.in/Husn-Heaven-Organic-Wate...</td>\n",
       "    </tr>\n",
       "    <tr>\n",
       "      <th>789</th>\n",
       "      <td>Mash'd elements' Luxurious Steam Disti...</td>\n",
       "      <td>Facial sprays</td>\n",
       "      <td>Mash'd elements</td>\n",
       "      <td>[All, Oily, Sensitive, Dry, Normal]</td>\n",
       "      <td>299</td>\n",
       "      <td>https://www.amazon.in/Mashd-elements-Luxurious...</td>\n",
       "    </tr>\n",
       "    <tr>\n",
       "      <th>790</th>\n",
       "      <td>Auli Dazzle Pure Rose Water and Tubero...</td>\n",
       "      <td>Facial sprays</td>\n",
       "      <td>AULI LIFESTYLE</td>\n",
       "      <td>[All, Oily, Combination, Sensitive, Dry]</td>\n",
       "      <td>349</td>\n",
       "      <td>https://www.amazon.in/AULI-LIFESTYLE-Dazzle-Fa...</td>\n",
       "    </tr>\n",
       "    <tr>\n",
       "      <th>796</th>\n",
       "      <td>SARVA 100% Pure Natural, Undiluted Ros...</td>\n",
       "      <td>Facial sprays</td>\n",
       "      <td>SARVA</td>\n",
       "      <td>[All Skin, Oily, Combination, Sensitive, Dry, ...</td>\n",
       "      <td>389</td>\n",
       "      <td>https://www.amazon.in/SARVA-Undiluted-Distille...</td>\n",
       "    </tr>\n",
       "    <tr>\n",
       "      <th>802</th>\n",
       "      <td>Organic Netra Rose Water with Vitamin ...</td>\n",
       "      <td>Facial sprays</td>\n",
       "      <td>Organic Netra</td>\n",
       "      <td>[All, Oily, Combination, Sensitive, Dry]</td>\n",
       "      <td>289</td>\n",
       "      <td>https://www.amazon.in/sspa/click?ie=UTF8&amp;spc=M...</td>\n",
       "    </tr>\n",
       "    <tr>\n",
       "      <th>805</th>\n",
       "      <td>ISNTREE Hyaluronic Acid Toner 6.76 fl....</td>\n",
       "      <td>Facial sprays</td>\n",
       "      <td>IsNtree</td>\n",
       "      <td>[Sensitive, Dry]</td>\n",
       "      <td>2255</td>\n",
       "      <td>https://www.amazon.in/sspa/click?ie=UTF8&amp;spc=M...</td>\n",
       "    </tr>\n",
       "    <tr>\n",
       "      <th>814</th>\n",
       "      <td>WishCare 100% Pure &amp; Natural Rose Wate...</td>\n",
       "      <td>Facial sprays</td>\n",
       "      <td>WishCare</td>\n",
       "      <td>[Oily, Combination, Sensitive, Dry, Normal]</td>\n",
       "      <td>349</td>\n",
       "      <td>https://www.amazon.in/WishCare%C2%AE-Pure-Natu...</td>\n",
       "    </tr>\n",
       "    <tr>\n",
       "      <th>815</th>\n",
       "      <td>Biotic Herbs Pure &amp; Natural Premium Gu...</td>\n",
       "      <td>Facial sprays</td>\n",
       "      <td>Biotic Herbs</td>\n",
       "      <td>[All, Oily, Combination, Sensitive, Dry]</td>\n",
       "      <td>229</td>\n",
       "      <td>https://www.amazon.in/Biotic-Herbs-Natural-Pre...</td>\n",
       "    </tr>\n",
       "    <tr>\n",
       "      <th>821</th>\n",
       "      <td>Herbsense Pure Rose Water/Gulab Jal Sp...</td>\n",
       "      <td>Facial sprays</td>\n",
       "      <td>Herbsense</td>\n",
       "      <td>[Oily, Combination, Sensitive, Dry, Normal]</td>\n",
       "      <td>449</td>\n",
       "      <td>https://www.amazon.in/Herbsense-Hydrating-Refr...</td>\n",
       "    </tr>\n",
       "  </tbody>\n",
       "</table>\n",
       "</div>"
      ],
      "text/plain": [
       "                                                 Title        Product  \\\n",
       "5            Cetaphil Moisturizing Lotion for Norma...    Moisturizer   \n",
       "12           Cetaphil DAM Daily Advance Ultra Hydra...    Moisturizer   \n",
       "15           Dot & Key Ceramides & Hyaluronic Hydra...    Moisturizer   \n",
       "171          Conscious Chemist Lightweight Moisturi...    Moisturizer   \n",
       "176          Conscious Chemist Lightweight Moisturi...    Moisturizer   \n",
       "231          WishCare® Pure & Natural Aloe Vera Gel...    Moisturizer   \n",
       "240          Kaya Super Hydrator Dry Skin Moisturiz...    Moisturizer   \n",
       "267          OPERIO Ajanta Aqua soft Moisturizer Lo...    Moisturizer   \n",
       "279          Pilgrim Korean Oil free Gel Moisturize...    Moisturizer   \n",
       "284          De - cons truct Skin Soothe Moisturise...    Moisturizer   \n",
       "517          Devriz Best organic Primer For women L...         Primer   \n",
       "518          Devriz Matte Finish Formula to keep Ma...         Primer   \n",
       "519          Devriz Natural Glow, Transparent, Flaw...         Primer   \n",
       "536          Devriz Best organic Primer For women L...         Primer   \n",
       "537          Devriz Matte Finish Formula to keep Ma...         Primer   \n",
       "538          Devriz Natural Glow, Transparent, Flaw...         Primer   \n",
       "539          Devriz Organic Primer for Oily, Dry, C...         Primer   \n",
       "540          Devriz Long Lasting Smooth Finish Make...         Primer   \n",
       "541          Devriz Pore Minimizer, Long Lasting Sm...         Primer   \n",
       "542          Devriz Face primer For women, Oily Dry...         Primer   \n",
       "543          Devriz Perfect Matte Face Primer For N...         Primer   \n",
       "546          Devriz Long Lasting Makeup Primer oily...         Primer   \n",
       "547          Devriz Flawless Makeup Base Primer For...         Primer   \n",
       "548          Devriz Matte Finish primer for oily, d...         Primer   \n",
       "592          SARVA 100% Pure Natural Peppermint Fac...  Facial sprays   \n",
       "618          NEUD Green Tea Facial Mist Spray for D...  Facial sprays   \n",
       "626          NEUD Tea Tree Facial Mist Spray for Ac...  Facial sprays   \n",
       "653          RAS Luxury Oils Rose Nectar Face & Bod...  Facial sprays   \n",
       "670          Bella Vita Organic Glowner Face Toner ...  Facial sprays   \n",
       "671          SARVA 100% Pure Natural Peppermint Fac...  Facial sprays   \n",
       "678          Frescia Toner & Face Mask Combo | Cool...  Facial sprays   \n",
       "679          Orgello herbal Cucumber Toner Mist Spr...  Facial sprays   \n",
       "694          GOOD DEEDS Pure Rose Water Face Toner ...  Facial sprays   \n",
       "700          Minimalist 8% Glycolic Acid Toner For ...  Facial sprays   \n",
       "706          Herbs & More Vitamin Therapy Face Mist...  Facial sprays   \n",
       "710          GOOD DEEDS Pure Rose Water Face Toner ...  Facial sprays   \n",
       "713          WishCare® 100% Pure & Natural Rose Wat...  Facial sprays   \n",
       "735          GoshLife Hydra illuminizer Vitamin C F...  Facial sprays   \n",
       "749          Khadi Essentials 100% Pure Wild Rose W...  Facial sprays   \n",
       "756          WishCare® 100% Pure & Natural Rose Wat...  Facial sprays   \n",
       "769          LEVLENT No Alcohol Face Toner Mist Spr...  Facial sprays   \n",
       "771          Quinnââ‚¬â„¢s Rose Water Spray. Facial...  Facial sprays   \n",
       "782          Husn E Heaven Organic Rose Water and S...  Facial sprays   \n",
       "789          Mash'd elements' Luxurious Steam Disti...  Facial sprays   \n",
       "790          Auli Dazzle Pure Rose Water and Tubero...  Facial sprays   \n",
       "796          SARVA 100% Pure Natural, Undiluted Ros...  Facial sprays   \n",
       "802          Organic Netra Rose Water with Vitamin ...  Facial sprays   \n",
       "805          ISNTREE Hyaluronic Acid Toner 6.76 fl....  Facial sprays   \n",
       "814          WishCare 100% Pure & Natural Rose Wate...  Facial sprays   \n",
       "815          Biotic Herbs Pure & Natural Premium Gu...  Facial sprays   \n",
       "821          Herbsense Pure Rose Water/Gulab Jal Sp...  Facial sprays   \n",
       "\n",
       "                   Brand                                          Skin_Type  \\\n",
       "5               Cetaphil         [All, Combination, Sensitive, Dry, Normal]   \n",
       "12              Cetaphil                                   [Sensitive, Dry]   \n",
       "15             DOT & KEY                                   [Sensitive, Dry]   \n",
       "171    Conscious Chemist         [All, Combination, Sensitive, Dry, Normal]   \n",
       "176    Conscious Chemist         [All, Combination, Sensitive, Dry, Normal]   \n",
       "231             WishCare           [All, Oily, Combination, Sensitive, Dry]   \n",
       "240          Kaya Clinic                                   [Sensitive, Dry]   \n",
       "267               OPERIO         [All, Combination, Sensitive, Dry, Normal]   \n",
       "279              Pilgrim           [All, Oily, Combination, Sensitive, Dry]   \n",
       "284      De - cons truct         [All, Combination, Sensitive, Dry, Normal]   \n",
       "517  DEVRIZ PROFESSIONAL                [All, Oily, Sensitive, Dry, Normal]   \n",
       "518  DEVRIZ PROFESSIONAL                [All, Oily, Sensitive, Dry, Normal]   \n",
       "519  DEVRIZ PROFESSIONAL                [All, Oily, Sensitive, Dry, Normal]   \n",
       "536  DEVRIZ PROFESSIONAL                [All, Oily, Sensitive, Dry, Normal]   \n",
       "537  DEVRIZ PROFESSIONAL                [All, Oily, Sensitive, Dry, Normal]   \n",
       "538  DEVRIZ PROFESSIONAL                [All, Oily, Sensitive, Dry, Normal]   \n",
       "539  DEVRIZ PROFESSIONAL                [All, Oily, Sensitive, Dry, Normal]   \n",
       "540  DEVRIZ PROFESSIONAL                [All, Oily, Sensitive, Dry, Normal]   \n",
       "541  DEVRIZ PROFESSIONAL                [All, Oily, Sensitive, Dry, Normal]   \n",
       "542  DEVRIZ PROFESSIONAL                [All, Oily, Sensitive, Dry, Normal]   \n",
       "543  DEVRIZ PROFESSIONAL                [All, Oily, Sensitive, Dry, Normal]   \n",
       "546  DEVRIZ PROFESSIONAL                [All, Oily, Sensitive, Dry, Normal]   \n",
       "547  DEVRIZ PROFESSIONAL                [All, Oily, Sensitive, Dry, Normal]   \n",
       "548  DEVRIZ PROFESSIONAL                [All, Oily, Sensitive, Dry, Normal]   \n",
       "592       SARVA by Anadi  [All Skin, Oily, Combination, Sensitive, Dry, ...   \n",
       "618  NEUD Xpose Yourself        [Oily, Combination, Sensitive, Dry, Normal]   \n",
       "626  NEUD Xpose Yourself        [Oily, Combination, Sensitive, Dry, Normal]   \n",
       "653      RAS LUXURY OILS                [Oily, Combination, Sensitive, Dry]   \n",
       "670   Bella Vita Organic       [All, Oily, Acne Prone Skin, Sensitive, Dry]   \n",
       "671                SARVA  [All Skin, Oily, Combination, Sensitive, Dry, ...   \n",
       "678              Frescia                [All, Oily, Sensitive, Dry, Normal]   \n",
       "679              Orgello                     [Oily, Sensitive, Dry, Normal]   \n",
       "694           GOOD DEEDS  [All, Acne Prone Skin, Combination, Sensitive,...   \n",
       "700           Minimalist           [All, Oily, Combination, Sensitive, Dry]   \n",
       "706         Herbs & More           [All, Oily, Combination, Sensitive, Dry]   \n",
       "710           GOOD DEEDS  [All, Acne Prone Skin, Combination, Sensitive,...   \n",
       "713             WishCare           [All, Oily, Combination, Sensitive, Dry]   \n",
       "735             GoshLife        [Oily, Combination, Sensitive, Dry, Normal]   \n",
       "749     Khadi Essentials        [Oily, Combination, Sensitive, Dry, Normal]   \n",
       "756             WishCare           [All, Oily, Combination, Sensitive, Dry]   \n",
       "769              LEVLENT                [All, Oily, Sensitive, Dry, Normal]   \n",
       "771             Quinn27s                                   [Sensitive, Dry]   \n",
       "782        Husn E Heaven           [All, Oily, Combination, Sensitive, Dry]   \n",
       "789      Mash'd elements                [All, Oily, Sensitive, Dry, Normal]   \n",
       "790       AULI LIFESTYLE           [All, Oily, Combination, Sensitive, Dry]   \n",
       "796                SARVA  [All Skin, Oily, Combination, Sensitive, Dry, ...   \n",
       "802        Organic Netra           [All, Oily, Combination, Sensitive, Dry]   \n",
       "805              IsNtree                                   [Sensitive, Dry]   \n",
       "814             WishCare        [Oily, Combination, Sensitive, Dry, Normal]   \n",
       "815         Biotic Herbs           [All, Oily, Combination, Sensitive, Dry]   \n",
       "821            Herbsense        [Oily, Combination, Sensitive, Dry, Normal]   \n",
       "\n",
       "     Price                                               Link  \n",
       "5      413  https://www.amazon.in/Cetaphil-Moisturizing-Lo...  \n",
       "12     199  https://www.amazon.in/Cetaphil-Daily-Advance-H...  \n",
       "15     314  https://www.amazon.in/Ceramides-Hyaluronic-Hyd...  \n",
       "171    309  https://www.amazon.in/sspa/click?ie=UTF8&spc=M...  \n",
       "176    582  https://www.amazon.in/sspa/click?ie=UTF8&spc=M...  \n",
       "231    251  https://www.amazon.in/sspa/click?ie=UTF8&spc=M...  \n",
       "240    341  https://www.amazon.in/Hydrator-Moisturizer-Col...  \n",
       "267    449  https://www.amazon.in/OPERIO-Ajanta-Moisturize...  \n",
       "279    445  https://www.amazon.in/Pilgrim-Oil-free-Moistur...  \n",
       "284    379  https://www.amazon.in/Deconstruct-Moisturizer-...  \n",
       "517    650  https://www.amazon.in/dp/B0C1JJ3G2M/ref=sr_1_1...  \n",
       "518    650  https://www.amazon.in/dp/B0C1JHSN4J/ref=sr_1_1...  \n",
       "519    650  https://www.amazon.in/dp/B0C1JHQ582/ref=sr_1_2...  \n",
       "536    650  https://www.amazon.in/dp/B0C1JJ3G2M/ref=sr_1_2...  \n",
       "537    650  https://www.amazon.in/dp/B0C1JHSN4J/ref=sr_1_2...  \n",
       "538    650  https://www.amazon.in/dp/B0C1JHQ582/ref=sr_1_2...  \n",
       "539    650  https://www.amazon.in/dp/B0C1JHGQZZ/ref=sr_1_2...  \n",
       "540    650  https://www.amazon.in/dp/B0C1JHFN9V/ref=sr_1_2...  \n",
       "541    650  https://www.amazon.in/dp/B0C1JHF5FB/ref=sr_1_2...  \n",
       "542    650  https://www.amazon.in/dp/B0C1JH7ZM5/ref=sr_1_2...  \n",
       "543    650  https://www.amazon.in/dp/B0C1JH3SQ8/ref=sr_1_2...  \n",
       "546    650  https://www.amazon.in/dp/B0C1JGXT43/ref=sr_1_2...  \n",
       "547    650  https://www.amazon.in/dp/B0C1JGBZ38/ref=sr_1_2...  \n",
       "548    650  https://www.amazon.in/dp/B0C1JFYR31/ref=sr_1_2...  \n",
       "592    150  https://www.amazon.in/SARVA-Natural-Peppermint...  \n",
       "618    528  https://www.amazon.in/NEUD-Green-Facial-Dehydr...  \n",
       "626    528  https://www.amazon.in/NEUD-Tree-Facial-Spray-A...  \n",
       "653    512  https://www.amazon.in/sspa/click?ie=UTF8&spc=M...  \n",
       "670    191  https://www.amazon.in/Bella-Vita-Organic-Minim...  \n",
       "671    380  https://www.amazon.in/SARVA-Natural-Peppermint...  \n",
       "678    499  https://www.amazon.in/Frescia-Handcrafted-Cucu...  \n",
       "679    318  https://www.amazon.in/Orgello-herbal-Cucumber-...  \n",
       "694    289  https://www.amazon.in/sspa/click?ie=UTF8&spc=M...  \n",
       "700    474  https://www.amazon.in/Minimalist-Glycolic-Mult...  \n",
       "706    779  https://www.amazon.in/Herbs-More-Face-Refreshm...  \n",
       "710    289  https://www.amazon.in/GOOD-DEEDS-Artificial-Fr...  \n",
       "713    314  https://www.amazon.in/sspa/click?ie=UTF8&spc=M...  \n",
       "735    379  https://www.amazon.in/GoshLife-illuminizer-Bri...  \n",
       "749    224  https://www.amazon.in/sspa/click?ie=UTF8&spc=M...  \n",
       "756    314  https://www.amazon.in/WishCare%C2%AE-100-Pure-...  \n",
       "769    210  https://www.amazon.in/sspa/click?ie=UTF8&spc=M...  \n",
       "771   3110  https://www.amazon.in/Quinn27s-Quinn%C3%A2%E2%...  \n",
       "782    349  https://www.amazon.in/Husn-Heaven-Organic-Wate...  \n",
       "789    299  https://www.amazon.in/Mashd-elements-Luxurious...  \n",
       "790    349  https://www.amazon.in/AULI-LIFESTYLE-Dazzle-Fa...  \n",
       "796    389  https://www.amazon.in/SARVA-Undiluted-Distille...  \n",
       "802    289  https://www.amazon.in/sspa/click?ie=UTF8&spc=M...  \n",
       "805   2255  https://www.amazon.in/sspa/click?ie=UTF8&spc=M...  \n",
       "814    349  https://www.amazon.in/WishCare%C2%AE-Pure-Natu...  \n",
       "815    229  https://www.amazon.in/Biotic-Herbs-Natural-Pre...  \n",
       "821    449  https://www.amazon.in/Herbsense-Hydrating-Refr...  "
      ]
     },
     "execution_count": 142,
     "metadata": {},
     "output_type": "execute_result"
    }
   ],
   "source": [
    "\n",
    "def priorize(c, result):\n",
    "    \n",
    "    if   c == 1: result = result[result['Price'].apply(lambda x: 400 > x)]       # Returns all the cheap prices\n",
    "    elif c == 2: result = result[result['Price'].apply(lambda x: 400 < x)]       # Returns all the expensive prices \n",
    "    elif c == 3 or c == 4 or c == 5: result = deep_cases(c, result)\n",
    "    elif c == 6: ...                                                             # Returns all the products\n",
    "    else:\n",
    "        print('Invalid choice.')\n",
    "        menu()\n",
    "            \n",
    "    return result\n",
    "            \n",
    "result = priorize(menu(), df_for_skin)\n",
    "result"
   ]
  },
  {
   "cell_type": "code",
   "execution_count": 153,
   "metadata": {},
   "outputs": [
    {
     "name": "stdout",
     "output_type": "stream",
     "text": [
      "Report saved as my_skincare_report.txt\n"
     ]
    }
   ],
   "source": [
    "# Function that generates the txt file\n",
    "def gerar_relatorio_txt(result_df, file_name):\n",
    "    # Defining the max lenght\n",
    "    max_len = {\n",
    "        'Title': max(result_df['Title'].apply(len).max(), len(\"Title\")),\n",
    "        'Product': max(result_df['Product'].apply(len).max(), len(\"Product\")),\n",
    "        'Brand': max(result_df['Brand'].apply(len).max(), len(\"Brand\")),\n",
    "        'Skin_Type': max(result_df['Skin_Type'].apply(lambda lista: len(\", \".join(lista))).max(), len(\"Skin Type\")),\n",
    "        'Price': max(len(f\"${price:.2f}\") for price in result_df['Price']),\n",
    "        'Link': max(result_df['Link'].apply(len).max(), len(\"Link\")),\n",
    "    }\n",
    "    \n",
    "    # Calculates columns width\n",
    "    total_width = sum(max_len.values()) + 5 * 5\n",
    "    \n",
    "    with open(file_name, 'w', encoding='utf-8') as f:\n",
    "        # Title\n",
    "        f.write(\"Relatório de Produtos de Skincare\\n\")\n",
    "        f.write(\"=\" * total_width + \"\\n\\n\") \n",
    "\n",
    "        # Dinamic columns name with dinamic space\n",
    "        f.write(f\"{'Title':<{max_len['Title']}} | {'Product':<{max_len['Product']}} | {'Brand':<{max_len['Brand']}} | {'Skin Type':<{max_len['Skin_Type']}} | {'Price':<{max_len['Price']}} | {'Link':<{max_len['Link']}}\\n\")\n",
    "        f.write(\"=\" * total_width + \"\\n\")\n",
    "        \n",
    "        # Adding values\n",
    "        for index, row in result_df.iterrows():\n",
    "            title = row['Title']\n",
    "            product = row['Product']\n",
    "            brand = row['Brand']\n",
    "            skin_types = \", \".join(row['Skin_Type'])  # Transform list to string\n",
    "            price = f\"${row['Price']:.2f}\"            # Formats price\n",
    "            link = row['Link']\n",
    "            \n",
    "            # Dinamic spaces\n",
    "            f.write(f\"{title:<{max_len['Title']}} | {product:<{max_len['Product']}} | {brand:<{max_len['Brand']}} | {skin_types:<{max_len['Skin_Type']}} | {price:<{max_len['Price']}} | {link:<{max_len['Link']}}\\n\")\n",
    "\n",
    "    print(f\"Report saved as {file_name}\")\n",
    "\n",
    "# Gerar o arquivo txt com o resultado filtrado\n",
    "gerar_relatorio_txt(result, \"my_skincare_report.txt\")"
   ]
  }
 ],
 "metadata": {
  "kernelspec": {
   "display_name": "Python 3",
   "language": "python",
   "name": "python3"
  },
  "language_info": {
   "codemirror_mode": {
    "name": "ipython",
    "version": 3
   },
   "file_extension": ".py",
   "mimetype": "text/x-python",
   "name": "python",
   "nbconvert_exporter": "python",
   "pygments_lexer": "ipython3",
   "version": "3.11.7"
  }
 },
 "nbformat": 4,
 "nbformat_minor": 2
}
